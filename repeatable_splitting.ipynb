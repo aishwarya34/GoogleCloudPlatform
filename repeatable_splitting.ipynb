{
 "cells": [
  {
   "cell_type": "markdown",
   "metadata": {},
   "source": [
    "<h1> Repeatable splitting </h1>\n",
    "\n",
    "In this notebook, we will explore the impact of different ways of creating machine learning datasets.\n",
    "\n",
    "<p>\n",
    "\n",
    "Repeatability is important in machine learning. If you do the same thing now and 5 minutes from now and get different answers, then it makes experimentation difficult. In other words, you will find it difficult to gauge whether a change you made has resulted in an improvement or not."
   ]
  },
  {
   "cell_type": "code",
   "execution_count": 1,
   "metadata": {},
   "outputs": [],
   "source": [
    "import google.datalab.bigquery as bq"
   ]
  },
  {
   "cell_type": "markdown",
   "metadata": {},
   "source": [
    "<h3> Create a simple machine learning model </h3>\n",
    "\n",
    "The dataset that we will use is <a href=\"https://bigquery.cloud.google.com/table/bigquery-samples:airline_ontime_data.flights\">a BigQuery public dataset</a> of airline arrival data. Click on the link, and look at the column names. Switch to the Details tab to verify that the number of records is 70 million, and then switch to the Preview tab to look at a few rows.\n",
    "<p>\n",
    "We want to predict the arrival delay of an airline based on the departure delay. The model that we will use is a zero-bias linear model:\n",
    "$$ delay_{arrival} = \\alpha * delay_{departure} $$\n",
    "<p>\n",
    "To train the model is to estimate a good value for $\\alpha$. \n",
    "<p>\n",
    "One approach to estimate alpha is to use this formula:\n",
    "$$ \\alpha = \\frac{\\sum delay_{departure} delay_{arrival} }{  \\sum delay_{departure}^2 } $$\n",
    "Because we'd like to capture the idea that this relationship is different for flights from New York to Los Angeles vs. flights from Austin to Indianapolis (shorter flight, less busy airports), we'd compute a different $alpha$ for each airport-pair.  For simplicity, we'll do this model only for flights between Denver and Los Angeles."
   ]
  },
  {
   "cell_type": "markdown",
   "metadata": {},
   "source": [
    "<h2> Naive random split (not repeatable) </h2>"
   ]
  },
  {
   "cell_type": "code",
   "execution_count": 10,
   "metadata": {},
   "outputs": [],
   "source": [
    "compute_alpha = \"\"\"\n",
    "#standardSQL\n",
    "\n",
    "   SELECT RAND() AS splitfield,\n",
    "   arrival_delay,\n",
    "   departure_delay\n",
    "FROM\n",
    "  `bigquery-samples.airline_ontime_data.flights`\n",
    "WHERE\n",
    "  departure_airport = 'DEN' AND arrival_airport = 'LAX'\n",
    "\n",
    "\"\"\""
   ]
  },
  {
   "cell_type": "code",
   "execution_count": 12,
   "metadata": {},
   "outputs": [
    {
     "name": "stdout",
     "output_type": "stream",
     "text": [
      "       splitfield  arrival_delay  departure_delay\n",
      "0        0.648589           35.0             10.0\n",
      "1        0.771830           30.0             19.0\n",
      "2        0.257662           29.0             18.0\n",
      "3        0.382181           29.0             29.0\n",
      "4        0.047643           52.0             57.0\n",
      "5        0.192328           30.0             33.0\n",
      "6        0.305218           38.0             22.0\n",
      "7        0.144809           31.0             28.0\n",
      "8        0.752900           85.0             72.0\n",
      "9        0.172533           42.0             30.0\n",
      "10       0.847885           27.0             45.0\n",
      "11       0.047883           48.0             39.0\n",
      "12       0.633620           62.0             52.0\n",
      "13       0.486377           58.0             74.0\n",
      "14       0.187343          176.0            179.0\n",
      "15       0.529845           42.0             -3.0\n",
      "16       0.657522           68.0             80.0\n",
      "17       0.649828           29.0             14.0\n",
      "18       0.622404          113.0            111.0\n",
      "19       0.815275           44.0             62.0\n",
      "20       0.062552           30.0             23.0\n",
      "21       0.056702          138.0            146.0\n",
      "22       0.044630           42.0             18.0\n",
      "23       0.182291          -37.0             -4.0\n",
      "24       0.890729           72.0             89.0\n",
      "25       0.819841           42.0             30.0\n",
      "26       0.267615           50.0             53.0\n",
      "27       0.303208           36.0             -3.0\n",
      "28       0.449224           47.0             -2.0\n",
      "29       0.021056           41.0             14.0\n",
      "...           ...            ...              ...\n",
      "79659    0.403723           -1.0             11.0\n",
      "79660    0.495196           -1.0              4.0\n",
      "79661    0.043668           -1.0              0.0\n",
      "79662    0.506764           -1.0             17.0\n",
      "79663    0.292942           -1.0              5.0\n",
      "79664    0.235684           -1.0             -5.0\n",
      "79665    0.812678           -1.0             13.0\n",
      "79666    0.224651           -1.0              6.0\n",
      "79667    0.238774           -1.0              2.0\n",
      "79668    0.869604           -1.0            -12.0\n",
      "79669    0.262736           -1.0             -6.0\n",
      "79670    0.735830           -1.0             -9.0\n",
      "79671    0.049374           -1.0             -2.0\n",
      "79672    0.474933           -1.0             22.0\n",
      "79673    0.248695           -1.0              0.0\n",
      "79674    0.176592           -1.0              1.0\n",
      "79675    0.241330           -1.0             -1.0\n",
      "79676    0.050102           -1.0             -5.0\n",
      "79677    0.793321           -1.0              4.0\n",
      "79678    0.054464           -1.0             -8.0\n",
      "79679    0.172674           -1.0              6.0\n",
      "79680    0.314868           -1.0             -5.0\n",
      "79681    0.588015           -1.0             10.0\n",
      "79682    0.808514           -1.0             -1.0\n",
      "79683    0.690246           -1.0             -1.0\n",
      "79684    0.058772           -1.0             -2.0\n",
      "79685    0.736539           -1.0             -1.0\n",
      "79686    0.443976           -1.0              0.0\n",
      "79687    0.763533           -1.0              0.0\n",
      "79688    0.985055           -1.0             -7.0\n",
      "\n",
      "[79689 rows x 3 columns]\n"
     ]
    }
   ],
   "source": [
    "results = bq.Query(compute_alpha).execute().result().to_dataframe()\n",
    "#prod = results['prod'][0]\n",
    "#print(prod)\n",
    "print(results)  # basically you are giving it an index using a random probability distribution "
   ]
  },
  {
   "cell_type": "code",
   "execution_count": 8,
   "metadata": {},
   "outputs": [],
   "source": [
    "compute_alpha = \"\"\"\n",
    "#standardSQL\n",
    "SELECT \n",
    "   arrival_delay * departure_delay AS prod\n",
    "FROM\n",
    "(\n",
    "   SELECT RAND() AS splitfield,\n",
    "   arrival_delay,\n",
    "   departure_delay\n",
    "FROM\n",
    "  `bigquery-samples.airline_ontime_data.flights`\n",
    "WHERE\n",
    "  departure_airport = 'DEN' AND arrival_airport = 'LAX'\n",
    ")\n",
    "WHERE\n",
    "  splitfield < 0.8\n",
    "\"\"\""
   ]
  },
  {
   "cell_type": "code",
   "execution_count": 9,
   "metadata": {},
   "outputs": [
    {
     "name": "stdout",
     "output_type": "stream",
     "text": [
      "216.0\n",
      "         prod\n",
      "0       216.0\n",
      "1        11.0\n",
      "2       -70.0\n",
      "3       -32.0\n",
      "4       460.0\n",
      "5       -33.0\n",
      "6       -40.0\n",
      "7       216.0\n",
      "8       522.0\n",
      "9       841.0\n",
      "10     2964.0\n",
      "11      -72.0\n",
      "12      -55.0\n",
      "13      990.0\n",
      "14      836.0\n",
      "15       63.0\n",
      "16       49.0\n",
      "17      868.0\n",
      "18     6120.0\n",
      "19      208.0\n",
      "20      273.0\n",
      "21      -88.0\n",
      "22      -28.0\n",
      "23      -78.0\n",
      "24      -21.0\n",
      "25     1260.0\n",
      "26     1215.0\n",
      "27      176.0\n",
      "28       99.0\n",
      "29     1872.0\n",
      "...       ...\n",
      "63721    90.0\n",
      "63722    90.0\n",
      "63723    90.0\n",
      "63724    90.0\n",
      "63725    90.0\n",
      "63726    90.0\n",
      "63727    90.0\n",
      "63728    90.0\n",
      "63729    90.0\n",
      "63730    90.0\n",
      "63731    90.0\n",
      "63732    90.0\n",
      "63733    90.0\n",
      "63734    90.0\n",
      "63735    90.0\n",
      "63736    90.0\n",
      "63737    90.0\n",
      "63738    90.0\n",
      "63739    90.0\n",
      "63740    90.0\n",
      "63741    90.0\n",
      "63742    90.0\n",
      "63743    90.0\n",
      "63744    90.0\n",
      "63745    90.0\n",
      "63746    90.0\n",
      "63747    90.0\n",
      "63748    90.0\n",
      "63749    90.0\n",
      "63750    90.0\n",
      "\n",
      "[63751 rows x 1 columns]\n"
     ]
    }
   ],
   "source": [
    "results = bq.Query(compute_alpha).execute().result().to_dataframe()\n",
    "prod = results['prod'][0]\n",
    "print(prod)\n",
    "print(results)"
   ]
  },
  {
   "cell_type": "code",
   "execution_count": null,
   "metadata": {},
   "outputs": [],
   "source": [
    "compute_alpha = \"\"\"\n",
    "#standardSQL\n",
    "SELECT \n",
    "   SUM(arrival_delay * departure_delay) AS sum\n",
    "FROM\n",
    "(\n",
    "   SELECT RAND() AS splitfield,\n",
    "   arrival_delay,\n",
    "   departure_delay\n",
    "FROM\n",
    "  `bigquery-samples.airline_ontime_data.flights`\n",
    "WHERE\n",
    "  departure_airport = 'DEN' AND arrival_airport = 'LAX'\n",
    ")\n",
    "WHERE\n",
    "  splitfield < 0.8\n",
    "\"\"\""
   ]
  },
  {
   "cell_type": "code",
   "execution_count": 4,
   "metadata": {},
   "outputs": [
    {
     "name": "stdout",
     "output_type": "stream",
     "text": [
      "60048250.0\n",
      "          sum\n",
      "0  60048250.0\n"
     ]
    }
   ],
   "source": [
    "results = bq.Query(compute_alpha).execute().result().to_dataframe()\n",
    "sum = results['sum'][0]\n",
    "print(sum)\n",
    "print(results)"
   ]
  },
  {
   "cell_type": "code",
   "execution_count": 23,
   "metadata": {},
   "outputs": [],
   "source": [
    "compute_alpha = \"\"\"\n",
    "#standardSQL\n",
    "SELECT \n",
    "   SAFE_DIVIDE(SUM(arrival_delay * departure_delay), SUM(departure_delay * departure_delay)) AS alpha\n",
    "FROM\n",
    "(\n",
    "   SELECT RAND() AS splitfield,\n",
    "   arrival_delay,\n",
    "   departure_delay\n",
    "FROM\n",
    "  `bigquery-samples.airline_ontime_data.flights`\n",
    "WHERE\n",
    "  departure_airport = 'DEN' AND arrival_airport = 'LAX'\n",
    ")\n",
    "WHERE\n",
    "  splitfield < 0.8\n",
    "\"\"\""
   ]
  },
  {
   "cell_type": "code",
   "execution_count": 24,
   "metadata": {},
   "outputs": [
    {
     "name": "stdout",
     "output_type": "stream",
     "text": [
      "0.9768411624425754\n"
     ]
    }
   ],
   "source": [
    "results = bq.Query(compute_alpha).execute().result().to_dataframe()\n",
    "alpha = results['alpha'][0]\n",
    "print(alpha)"
   ]
  },
  {
   "cell_type": "markdown",
   "metadata": {},
   "source": [
    "<h3> What is wrong with calculating RMSE on the training and test data as follows? </h3>"
   ]
  },
  {
   "cell_type": "code",
   "execution_count": 20,
   "metadata": {},
   "outputs": [
    {
     "data": {
      "text/html": [
       "\n",
       "    <div class=\"bqtv\" id=\"4_155765200390\"><table><tr><th>dataset</th><th>rmse</th><th>num_flights</th></tr><tr><td>eval</td><td>12.92969337575481</td><td>16097</td></tr><tr><td>train</td><td>13.122568408000529</td><td>63592</td></tr></table></div>\n",
       "    <br />(rows: 2, time: 1.1s,     1GB processed, job: job_4Y-Qjd0MqGhif7riujp_uc062vqd)<br />\n",
       "    <script src=\"/static/components/requirejs/require.js\"></script>\n",
       "    <script>\n",
       "      require.config({\n",
       "        paths: {\n",
       "          base: '/static/base',\n",
       "          d3: '//cdnjs.cloudflare.com/ajax/libs/d3/3.4.13/d3',\n",
       "          plotly: 'https://cdn.plot.ly/plotly-1.5.1.min.js?noext',\n",
       "          jquery: '//ajax.googleapis.com/ajax/libs/jquery/2.0.0/jquery.min'\n",
       "        },\n",
       "        map: {\n",
       "          '*': {\n",
       "            datalab: 'nbextensions/gcpdatalab'\n",
       "          }\n",
       "        },\n",
       "        shim: {\n",
       "          plotly: {\n",
       "            deps: ['d3', 'jquery'],\n",
       "            exports: 'plotly'\n",
       "          }\n",
       "        }\n",
       "      });\n",
       "\n",
       "      require(['datalab/charting', 'datalab/element!4_155765200390', 'base/js/events',\n",
       "          'datalab/style!/nbextensions/gcpdatalab/charting.css'],\n",
       "        function(charts, dom, events) {\n",
       "          charts.render('gcharts', dom, events, 'table', [], {\"rows\": [{\"c\": [{\"v\": \"eval\"}, {\"v\": 12.92969337575481}, {\"v\": 16097}]}, {\"c\": [{\"v\": \"train\"}, {\"v\": 13.122568408000529}, {\"v\": 63592}]}], \"cols\": [{\"id\": \"dataset\", \"type\": \"string\", \"label\": \"dataset\"}, {\"id\": \"rmse\", \"type\": \"number\", \"label\": \"rmse\"}, {\"id\": \"num_flights\", \"type\": \"number\", \"label\": \"num_flights\"}]},\n",
       "            {\n",
       "              pageSize: 25,\n",
       "              cssClassNames:  {\n",
       "                tableRow: 'gchart-table-row',\n",
       "                headerRow: 'gchart-table-headerrow',\n",
       "                oddTableRow: 'gchart-table-oddrow',\n",
       "                selectedTableRow: 'gchart-table-selectedrow',\n",
       "                hoverTableRow: 'gchart-table-hoverrow',\n",
       "                tableCell: 'gchart-table-cell',\n",
       "                headerCell: 'gchart-table-headercell',\n",
       "                rowNumberCell: 'gchart-table-rownumcell'\n",
       "              }\n",
       "            },\n",
       "            {source_index: 3, fields: 'dataset,rmse,num_flights'},\n",
       "            0,\n",
       "            2);\n",
       "        }\n",
       "      );\n",
       "    </script>\n",
       "  "
      ],
      "text/plain": [
       "QueryResultsTable job_4Y-Qjd0MqGhif7riujp_uc062vqd"
      ]
     },
     "execution_count": 20,
     "metadata": {},
     "output_type": "execute_result"
    }
   ],
   "source": [
    "compute_rmse = \"\"\"\n",
    "#standardSQL\n",
    "SELECT\n",
    "  dataset,\n",
    "  SQRT(AVG((arrival_delay - ALPHA * departure_delay)*(arrival_delay - ALPHA * departure_delay))) AS rmse,\n",
    "  COUNT(arrival_delay) AS num_flights\n",
    "FROM (\n",
    "  SELECT\n",
    "    IF (RAND() < 0.8, 'train', 'eval') AS dataset,\n",
    "    arrival_delay,\n",
    "    departure_delay\n",
    "  FROM\n",
    "    `bigquery-samples.airline_ontime_data.flights`\n",
    "  WHERE\n",
    "    departure_airport = 'DEN'\n",
    "    AND arrival_airport = 'LAX' )\n",
    "GROUP BY\n",
    "  dataset\n",
    "\"\"\"\n",
    "bq.Query(compute_rmse.replace('ALPHA', str(alpha))).execute().result()"
   ]
  },
  {
   "cell_type": "code",
   "execution_count": 19,
   "metadata": {},
   "outputs": [
    {
     "data": {
      "text/html": [
       "\n",
       "    <div class=\"bqtv\" id=\"3_155765184907\"><table><tr><th>dataset</th><th>arrival_delay</th><th>departure_delay</th></tr><tr><td>eval</td><td>35.0</td><td>10.0</td></tr><tr><td>train</td><td>30.0</td><td>19.0</td></tr><tr><td>eval</td><td>29.0</td><td>18.0</td></tr><tr><td>train</td><td>29.0</td><td>29.0</td></tr><tr><td>train</td><td>52.0</td><td>57.0</td></tr><tr><td>train</td><td>30.0</td><td>33.0</td></tr><tr><td>train</td><td>38.0</td><td>22.0</td></tr><tr><td>train</td><td>31.0</td><td>28.0</td></tr><tr><td>train</td><td>85.0</td><td>72.0</td></tr><tr><td>train</td><td>42.0</td><td>30.0</td></tr><tr><td>train</td><td>27.0</td><td>45.0</td></tr><tr><td>train</td><td>48.0</td><td>39.0</td></tr><tr><td>train</td><td>62.0</td><td>52.0</td></tr><tr><td>train</td><td>58.0</td><td>74.0</td></tr><tr><td>train</td><td>176.0</td><td>179.0</td></tr><tr><td>train</td><td>42.0</td><td>-3.0</td></tr><tr><td>train</td><td>68.0</td><td>80.0</td></tr><tr><td>train</td><td>29.0</td><td>14.0</td></tr><tr><td>eval</td><td>113.0</td><td>111.0</td></tr><tr><td>train</td><td>44.0</td><td>62.0</td></tr><tr><td>train</td><td>30.0</td><td>23.0</td></tr><tr><td>eval</td><td>138.0</td><td>146.0</td></tr><tr><td>train</td><td>42.0</td><td>18.0</td></tr><tr><td>train</td><td>-37.0</td><td>-4.0</td></tr><tr><td>train</td><td>72.0</td><td>89.0</td></tr></table></div>\n",
       "    <br />(rows: 79689, time: 2.3s,     1GB processed, job: job_I3Cyw4j_zQ1RheoJlNkbEXDrxHGy)<br />\n",
       "    <script src=\"/static/components/requirejs/require.js\"></script>\n",
       "    <script>\n",
       "      require.config({\n",
       "        paths: {\n",
       "          base: '/static/base',\n",
       "          d3: '//cdnjs.cloudflare.com/ajax/libs/d3/3.4.13/d3',\n",
       "          plotly: 'https://cdn.plot.ly/plotly-1.5.1.min.js?noext',\n",
       "          jquery: '//ajax.googleapis.com/ajax/libs/jquery/2.0.0/jquery.min'\n",
       "        },\n",
       "        map: {\n",
       "          '*': {\n",
       "            datalab: 'nbextensions/gcpdatalab'\n",
       "          }\n",
       "        },\n",
       "        shim: {\n",
       "          plotly: {\n",
       "            deps: ['d3', 'jquery'],\n",
       "            exports: 'plotly'\n",
       "          }\n",
       "        }\n",
       "      });\n",
       "\n",
       "      require(['datalab/charting', 'datalab/element!3_155765184907', 'base/js/events',\n",
       "          'datalab/style!/nbextensions/gcpdatalab/charting.css'],\n",
       "        function(charts, dom, events) {\n",
       "          charts.render('gcharts', dom, events, 'paged_table', [], {\"rows\": [{\"c\": [{\"v\": \"eval\"}, {\"v\": 35.0}, {\"v\": 10.0}]}, {\"c\": [{\"v\": \"train\"}, {\"v\": 30.0}, {\"v\": 19.0}]}, {\"c\": [{\"v\": \"eval\"}, {\"v\": 29.0}, {\"v\": 18.0}]}, {\"c\": [{\"v\": \"train\"}, {\"v\": 29.0}, {\"v\": 29.0}]}, {\"c\": [{\"v\": \"train\"}, {\"v\": 52.0}, {\"v\": 57.0}]}, {\"c\": [{\"v\": \"train\"}, {\"v\": 30.0}, {\"v\": 33.0}]}, {\"c\": [{\"v\": \"train\"}, {\"v\": 38.0}, {\"v\": 22.0}]}, {\"c\": [{\"v\": \"train\"}, {\"v\": 31.0}, {\"v\": 28.0}]}, {\"c\": [{\"v\": \"train\"}, {\"v\": 85.0}, {\"v\": 72.0}]}, {\"c\": [{\"v\": \"train\"}, {\"v\": 42.0}, {\"v\": 30.0}]}, {\"c\": [{\"v\": \"train\"}, {\"v\": 27.0}, {\"v\": 45.0}]}, {\"c\": [{\"v\": \"train\"}, {\"v\": 48.0}, {\"v\": 39.0}]}, {\"c\": [{\"v\": \"train\"}, {\"v\": 62.0}, {\"v\": 52.0}]}, {\"c\": [{\"v\": \"train\"}, {\"v\": 58.0}, {\"v\": 74.0}]}, {\"c\": [{\"v\": \"train\"}, {\"v\": 176.0}, {\"v\": 179.0}]}, {\"c\": [{\"v\": \"train\"}, {\"v\": 42.0}, {\"v\": -3.0}]}, {\"c\": [{\"v\": \"train\"}, {\"v\": 68.0}, {\"v\": 80.0}]}, {\"c\": [{\"v\": \"train\"}, {\"v\": 29.0}, {\"v\": 14.0}]}, {\"c\": [{\"v\": \"eval\"}, {\"v\": 113.0}, {\"v\": 111.0}]}, {\"c\": [{\"v\": \"train\"}, {\"v\": 44.0}, {\"v\": 62.0}]}, {\"c\": [{\"v\": \"train\"}, {\"v\": 30.0}, {\"v\": 23.0}]}, {\"c\": [{\"v\": \"eval\"}, {\"v\": 138.0}, {\"v\": 146.0}]}, {\"c\": [{\"v\": \"train\"}, {\"v\": 42.0}, {\"v\": 18.0}]}, {\"c\": [{\"v\": \"train\"}, {\"v\": -37.0}, {\"v\": -4.0}]}, {\"c\": [{\"v\": \"train\"}, {\"v\": 72.0}, {\"v\": 89.0}]}], \"cols\": [{\"id\": \"dataset\", \"type\": \"string\", \"label\": \"dataset\"}, {\"id\": \"arrival_delay\", \"type\": \"number\", \"label\": \"arrival_delay\"}, {\"id\": \"departure_delay\", \"type\": \"number\", \"label\": \"departure_delay\"}]},\n",
       "            {\n",
       "              pageSize: 25,\n",
       "              cssClassNames:  {\n",
       "                tableRow: 'gchart-table-row',\n",
       "                headerRow: 'gchart-table-headerrow',\n",
       "                oddTableRow: 'gchart-table-oddrow',\n",
       "                selectedTableRow: 'gchart-table-selectedrow',\n",
       "                hoverTableRow: 'gchart-table-hoverrow',\n",
       "                tableCell: 'gchart-table-cell',\n",
       "                headerCell: 'gchart-table-headercell',\n",
       "                rowNumberCell: 'gchart-table-rownumcell'\n",
       "              }\n",
       "            },\n",
       "            {source_index: 2, fields: 'dataset,arrival_delay,departure_delay'},\n",
       "            0,\n",
       "            79689);\n",
       "        }\n",
       "      );\n",
       "    </script>\n",
       "  "
      ],
      "text/plain": [
       "QueryResultsTable job_I3Cyw4j_zQ1RheoJlNkbEXDrxHGy"
      ]
     },
     "execution_count": 19,
     "metadata": {},
     "output_type": "execute_result"
    }
   ],
   "source": [
    "compute_rmse = \"\"\"\n",
    "#standardSQL\n",
    "\n",
    "  SELECT\n",
    "    IF (RAND() < 0.8, 'train', 'eval') AS dataset,\n",
    "    arrival_delay,\n",
    "    departure_delay\n",
    "  FROM\n",
    "    `bigquery-samples.airline_ontime_data.flights`\n",
    "  WHERE\n",
    "    departure_airport = 'DEN'\n",
    "    AND arrival_airport = 'LAX' \n",
    "\"\"\"\n",
    "bq.Query(compute_rmse).execute().result()"
   ]
  },
  {
   "cell_type": "markdown",
   "metadata": {},
   "source": [
    "Hint:\n",
    "* Are you really getting the same training data in the compute_rmse query as in the compute_alpha query?\n",
    "* Do you get the same answers each time you rerun the compute_alpha and compute_rmse blocks?"
   ]
  },
  {
   "cell_type": "markdown",
   "metadata": {},
   "source": [
    "<h3> How do we correctly train and evaluate? </h3>\n",
    "<br/>\n",
    "Here's the right way to compute the RMSE using the actual training and held-out (evaluation) data. Note how much harder this feels.\n",
    "\n",
    "Although the calculations are now correct, the experiment is still not repeatable.\n",
    "\n",
    "Try running it several times; do you get the same answer?"
   ]
  },
  {
   "cell_type": "code",
   "execution_count": 29,
   "metadata": {},
   "outputs": [],
   "source": [
    "train_and_eval_rand = \"\"\"\n",
    "#standardSQL\n",
    "WITH\n",
    "  alldata AS (\n",
    "  SELECT\n",
    "    IF (RAND() < 0.8,\n",
    "      'train',\n",
    "      'eval') AS dataset,\n",
    "    arrival_delay,\n",
    "    departure_delay\n",
    "  FROM\n",
    "    `bigquery-samples.airline_ontime_data.flights`\n",
    "  WHERE\n",
    "    departure_airport = 'DEN'\n",
    "    AND arrival_airport = 'LAX' )\n",
    "SELECT\n",
    "  dataset,\n",
    "  COUNT(arrival_delay) AS num_flights\n",
    "FROM\n",
    "  alldata\n",
    "GROUP BY\n",
    "  dataset\n",
    "\"\"\""
   ]
  },
  {
   "cell_type": "code",
   "execution_count": 30,
   "metadata": {},
   "outputs": [
    {
     "data": {
      "text/html": [
       "\n",
       "    <div class=\"bqtv\" id=\"7_155765264947\"><table><tr><th>dataset</th><th>num_flights</th></tr><tr><td>train</td><td>63821</td></tr><tr><td>eval</td><td>15868</td></tr></table></div>\n",
       "    <br />(rows: 2, time: 1.1s,     1GB processed, job: job_T-qSc3Pnk9QBTx8NBlhFpAwZ7Ehg)<br />\n",
       "    <script src=\"/static/components/requirejs/require.js\"></script>\n",
       "    <script>\n",
       "      require.config({\n",
       "        paths: {\n",
       "          base: '/static/base',\n",
       "          d3: '//cdnjs.cloudflare.com/ajax/libs/d3/3.4.13/d3',\n",
       "          plotly: 'https://cdn.plot.ly/plotly-1.5.1.min.js?noext',\n",
       "          jquery: '//ajax.googleapis.com/ajax/libs/jquery/2.0.0/jquery.min'\n",
       "        },\n",
       "        map: {\n",
       "          '*': {\n",
       "            datalab: 'nbextensions/gcpdatalab'\n",
       "          }\n",
       "        },\n",
       "        shim: {\n",
       "          plotly: {\n",
       "            deps: ['d3', 'jquery'],\n",
       "            exports: 'plotly'\n",
       "          }\n",
       "        }\n",
       "      });\n",
       "\n",
       "      require(['datalab/charting', 'datalab/element!7_155765264947', 'base/js/events',\n",
       "          'datalab/style!/nbextensions/gcpdatalab/charting.css'],\n",
       "        function(charts, dom, events) {\n",
       "          charts.render('gcharts', dom, events, 'table', [], {\"rows\": [{\"c\": [{\"v\": \"train\"}, {\"v\": 63821}]}, {\"c\": [{\"v\": \"eval\"}, {\"v\": 15868}]}], \"cols\": [{\"id\": \"dataset\", \"type\": \"string\", \"label\": \"dataset\"}, {\"id\": \"num_flights\", \"type\": \"number\", \"label\": \"num_flights\"}]},\n",
       "            {\n",
       "              pageSize: 25,\n",
       "              cssClassNames:  {\n",
       "                tableRow: 'gchart-table-row',\n",
       "                headerRow: 'gchart-table-headerrow',\n",
       "                oddTableRow: 'gchart-table-oddrow',\n",
       "                selectedTableRow: 'gchart-table-selectedrow',\n",
       "                hoverTableRow: 'gchart-table-hoverrow',\n",
       "                tableCell: 'gchart-table-cell',\n",
       "                headerCell: 'gchart-table-headercell',\n",
       "                rowNumberCell: 'gchart-table-rownumcell'\n",
       "              }\n",
       "            },\n",
       "            {source_index: 6, fields: 'dataset,num_flights'},\n",
       "            0,\n",
       "            2);\n",
       "        }\n",
       "      );\n",
       "    </script>\n",
       "  "
      ],
      "text/plain": [
       "QueryResultsTable job_T-qSc3Pnk9QBTx8NBlhFpAwZ7Ehg"
      ]
     },
     "execution_count": 30,
     "metadata": {},
     "output_type": "execute_result"
    }
   ],
   "source": [
    "bq.Query(train_and_eval_rand).execute().result()"
   ]
  },
  {
   "cell_type": "code",
   "execution_count": null,
   "metadata": {},
   "outputs": [],
   "source": [
    "train_and_eval_rand = \"\"\"\n",
    "#standardSQL\n",
    "WITH\n",
    "  alldata AS (\n",
    "  SELECT\n",
    "    IF (RAND() < 0.8,\n",
    "      'train',\n",
    "      'eval') AS dataset,\n",
    "    arrival_delay,\n",
    "    departure_delay\n",
    "  FROM\n",
    "    `bigquery-samples.airline_ontime_data.flights`\n",
    "  WHERE\n",
    "    departure_airport = 'DEN'\n",
    "    AND arrival_airport = 'LAX' ),\n",
    "  training AS (\n",
    "  SELECT\n",
    "    SAFE_DIVIDE( SUM(arrival_delay * departure_delay) , SUM(departure_delay * departure_delay)) AS alpha\n",
    "  FROM\n",
    "    alldata\n",
    "  WHERE\n",
    "    dataset = 'train' )\n",
    "SELECT\n",
    "  MAX(alpha) AS alpha,\n",
    "  dataset,\n",
    "  SQRT(AVG((arrival_delay - alpha * departure_delay)*(arrival_delay - alpha * departure_delay))) AS rmse,\n",
    "  COUNT(arrival_delay) AS num_flights\n",
    "FROM\n",
    "  alldata,\n",
    "  training\n",
    "GROUP BY\n",
    "  dataset\n",
    "\"\"\""
   ]
  },
  {
   "cell_type": "code",
   "execution_count": 26,
   "metadata": {},
   "outputs": [
    {
     "data": {
      "text/html": [
       "\n",
       "    <div class=\"bqtv\" id=\"5_155765209758\"><table><tr><th>alpha</th><th>dataset</th><th>rmse</th><th>num_flights</th></tr><tr><td>0.9744019005441548</td><td>train</td><td>13.05061519453309</td><td>63980</td></tr><tr><td>0.9744019005441548</td><td>eval</td><td>13.218310591164133</td><td>15709</td></tr></table></div>\n",
       "    <br />(rows: 2, time: 1.2s,     1GB processed, job: job_Bcg7LmQAgUWF5PbYmuJa1t3qR7QM)<br />\n",
       "    <script src=\"/static/components/requirejs/require.js\"></script>\n",
       "    <script>\n",
       "      require.config({\n",
       "        paths: {\n",
       "          base: '/static/base',\n",
       "          d3: '//cdnjs.cloudflare.com/ajax/libs/d3/3.4.13/d3',\n",
       "          plotly: 'https://cdn.plot.ly/plotly-1.5.1.min.js?noext',\n",
       "          jquery: '//ajax.googleapis.com/ajax/libs/jquery/2.0.0/jquery.min'\n",
       "        },\n",
       "        map: {\n",
       "          '*': {\n",
       "            datalab: 'nbextensions/gcpdatalab'\n",
       "          }\n",
       "        },\n",
       "        shim: {\n",
       "          plotly: {\n",
       "            deps: ['d3', 'jquery'],\n",
       "            exports: 'plotly'\n",
       "          }\n",
       "        }\n",
       "      });\n",
       "\n",
       "      require(['datalab/charting', 'datalab/element!5_155765209758', 'base/js/events',\n",
       "          'datalab/style!/nbextensions/gcpdatalab/charting.css'],\n",
       "        function(charts, dom, events) {\n",
       "          charts.render('gcharts', dom, events, 'table', [], {\"rows\": [{\"c\": [{\"v\": 0.9744019005441548}, {\"v\": \"train\"}, {\"v\": 13.05061519453309}, {\"v\": 63980}]}, {\"c\": [{\"v\": 0.9744019005441548}, {\"v\": \"eval\"}, {\"v\": 13.218310591164133}, {\"v\": 15709}]}], \"cols\": [{\"id\": \"alpha\", \"type\": \"number\", \"label\": \"alpha\"}, {\"id\": \"dataset\", \"type\": \"string\", \"label\": \"dataset\"}, {\"id\": \"rmse\", \"type\": \"number\", \"label\": \"rmse\"}, {\"id\": \"num_flights\", \"type\": \"number\", \"label\": \"num_flights\"}]},\n",
       "            {\n",
       "              pageSize: 25,\n",
       "              cssClassNames:  {\n",
       "                tableRow: 'gchart-table-row',\n",
       "                headerRow: 'gchart-table-headerrow',\n",
       "                oddTableRow: 'gchart-table-oddrow',\n",
       "                selectedTableRow: 'gchart-table-selectedrow',\n",
       "                hoverTableRow: 'gchart-table-hoverrow',\n",
       "                tableCell: 'gchart-table-cell',\n",
       "                headerCell: 'gchart-table-headercell',\n",
       "                rowNumberCell: 'gchart-table-rownumcell'\n",
       "              }\n",
       "            },\n",
       "            {source_index: 4, fields: 'alpha,dataset,rmse,num_flights'},\n",
       "            0,\n",
       "            2);\n",
       "        }\n",
       "      );\n",
       "    </script>\n",
       "  "
      ],
      "text/plain": [
       "QueryResultsTable job_Bcg7LmQAgUWF5PbYmuJa1t3qR7QM"
      ]
     },
     "execution_count": 26,
     "metadata": {},
     "output_type": "execute_result"
    }
   ],
   "source": [
    "bq.Query(train_and_eval_rand).execute().result()"
   ]
  },
  {
   "cell_type": "markdown",
   "metadata": {},
   "source": [
    "<h2> Using HASH of date to split the data </h2>\n",
    "\n",
    "Let's split by date and train."
   ]
  },
  {
   "cell_type": "code",
   "execution_count": 7,
   "metadata": {},
   "outputs": [
    {
     "name": "stdout",
     "output_type": "stream",
     "text": [
      "0.9758039143620403\n"
     ]
    }
   ],
   "source": [
    "compute_alpha = \"\"\"\n",
    "#standardSQL\n",
    "SELECT \n",
    "   SAFE_DIVIDE(SUM(arrival_delay * departure_delay), SUM(departure_delay * departure_delay)) AS alpha\n",
    "FROM\n",
    "  `bigquery-samples.airline_ontime_data.flights`\n",
    "WHERE\n",
    "  departure_airport = 'DEN' AND arrival_airport = 'LAX'\n",
    "  AND MOD(ABS(FARM_FINGERPRINT(date)), 10) < 8\n",
    "\"\"\"\n",
    "results = bq.Query(compute_alpha).execute().result().to_dataframe()\n",
    "alpha = results['alpha'][0]\n",
    "print(alpha)"
   ]
  },
  {
   "cell_type": "markdown",
   "metadata": {},
   "source": [
    "We can now use the alpha to compute RMSE. Because the alpha value is repeatable, we don't need to worry that the alpha in the compute_rmse will be different from the alpha computed in the compute_alpha."
   ]
  },
  {
   "cell_type": "code",
   "execution_count": 8,
   "metadata": {},
   "outputs": [
    {
     "name": "stdout",
     "output_type": "stream",
     "text": [
      "  dataset       rmse  num_flights\n",
      "0    eval  12.764685        15671\n",
      "1   train  13.160712        64018\n"
     ]
    }
   ],
   "source": [
    "compute_rmse = \"\"\"\n",
    "#standardSQL\n",
    "SELECT\n",
    "  IF(MOD(ABS(FARM_FINGERPRINT(date)), 10) < 8, 'train', 'eval') AS dataset,\n",
    "  SQRT(AVG((arrival_delay - ALPHA * departure_delay)*(arrival_delay - ALPHA * departure_delay))) AS rmse,\n",
    "  COUNT(arrival_delay) AS num_flights\n",
    "FROM\n",
    "    `bigquery-samples.airline_ontime_data.flights`\n",
    "WHERE\n",
    "    departure_airport = 'DEN'\n",
    "    AND arrival_airport = 'LAX'\n",
    "GROUP BY\n",
    "  dataset\n",
    "\"\"\"\n",
    "print(bq.Query(compute_rmse.replace('ALPHA', str(alpha))).execute().result().to_dataframe().head())"
   ]
  },
  {
   "cell_type": "markdown",
   "metadata": {},
   "source": [
    "Note also that the RMSE on the evaluation dataset more from the RMSE on the training dataset when we do the split correctly.  This should be expected; in the RAND() case, there was leakage between training and evaluation datasets, because there is high correlation between flights on the same day.\n",
    "<p>\n",
    "This is one of the biggest dangers with doing machine learning splits the wrong way -- <b> you will develop a false sense of confidence in how good your model is! </b>"
   ]
  },
  {
   "cell_type": "markdown",
   "metadata": {},
   "source": [
    "Copyright 2018 Google Inc.\n",
    "Licensed under the Apache License, Version 2.0 (the \"License\"); you may not use this file except in compliance with the License. You may obtain a copy of the License at\n",
    "http://www.apache.org/licenses/LICENSE-2.0\n",
    "Unless required by applicable law or agreed to in writing, software distributed under the License is distributed on an \"AS IS\" BASIS, WITHOUT WARRANTIES OR CONDITIONS OF ANY KIND, either express or implied. See the License for the specific language governing permissions and limitations under the License."
   ]
  }
 ],
 "metadata": {
  "kernelspec": {
   "display_name": "Python 3",
   "language": "python",
   "name": "python3"
  },
  "language_info": {
   "codemirror_mode": {
    "name": "ipython",
    "version": 3
   },
   "file_extension": ".py",
   "mimetype": "text/x-python",
   "name": "python",
   "nbconvert_exporter": "python",
   "pygments_lexer": "ipython3",
   "version": "3.5.6"
  }
 },
 "nbformat": 4,
 "nbformat_minor": 1
}
