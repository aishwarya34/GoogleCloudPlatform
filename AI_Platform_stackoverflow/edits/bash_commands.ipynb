{
 "cells": [
  {
   "cell_type": "code",
   "execution_count": 5,
   "metadata": {},
   "outputs": [
    {
     "name": "stderr",
     "output_type": "stream",
     "text": [
      "Copying gs://qwiklabs-gcp-1a8cf323172d8441/EstimatorAPI_DNNClassifier_stackoverflow.posts_questions_TrainAndEval.ipynb...\n",
      "/ [0 files][    0.0 B/ 32.6 KiB]                                                \r",
      "Copying gs://qwiklabs-gcp-1a8cf323172d8441/EstimatorAPI_DNNClassifier_stackoverflow.posts_questions_TrainAndEval_cloudmle.ipynb...\n",
      "Copying gs://qwiklabs-gcp-1a8cf323172d8441/stackoverflow/trainer/model.py...\n",
      "Copying gs://qwiklabs-gcp-1a8cf323172d8441/stackoverflow/trainer/task.py...\n",
      "/ [0 files][    0.0 B/ 98.7 KiB]                                                \r",
      "/ [0/4 files][    0.0 B/109.2 KiB]   0% Done                                    \r",
      "/ [0/4 files][    0.0 B/109.2 KiB]   0% Done                                    \r",
      "/ [1/4 files][ 32.6 KiB/109.2 KiB]  29% Done                                    \r",
      "/ [2/4 files][ 98.7 KiB/109.2 KiB]  90% Done                                    \r",
      "/ [3/4 files][101.7 KiB/109.2 KiB]  93% Done                                    \r",
      "/ [4/4 files][109.2 KiB/109.2 KiB] 100% Done                                    \r\n",
      "Operation completed over 4 objects/109.2 KiB.                                    \n"
     ]
    }
   ],
   "source": [
    "%%bash\n",
    "gsutil -m cp -r gs://qwiklabs-gcp-1a8cf323172d8441/   ${PWD}/."
   ]
  },
  {
   "cell_type": "code",
   "execution_count": null,
   "metadata": {},
   "outputs": [],
   "source": [
    "%%bash\n",
    "gsutil -m cp  ${PWD}/*.ipynb  gs://qwiklabs-gcp-1a8cf323172d8441/ "
   ]
  },
  {
   "cell_type": "code",
   "execution_count": 3,
   "metadata": {},
   "outputs": [
    {
     "name": "stderr",
     "output_type": "stream",
     "text": [
      "Copying file:///content/datalab/notebooks/stackoverflow/trainer/__init__.py [Content-Type=text/x-python]...\n",
      "Copying file:///content/datalab/notebooks/stackoverflow/trainer/model.py [Content-Type=text/x-python]...\n",
      "/ [0 files][    0.0 B/  676.0 B]                                                \r",
      "/ [0/3 files][    0.0 B/  8.9 KiB]   0% Done                                    \r",
      "Copying file:///content/datalab/notebooks/stackoverflow/trainer/task.py [Content-Type=text/x-python]...\n",
      "/ [0/3 files][    0.0 B/  8.9 KiB]   0% Done                                    \r",
      "/ [1/3 files][  8.9 KiB/  8.9 KiB]  99% Done                                    \r",
      "/ [2/3 files][  8.9 KiB/  8.9 KiB]  99% Done                                    \r",
      "/ [3/3 files][  8.9 KiB/  8.9 KiB] 100% Done                                    \r\n",
      "Operation completed over 3 objects/8.9 KiB.                                      \n"
     ]
    }
   ],
   "source": [
    "%%bash\n",
    "gsutil -m cp ${PWD}/stackoverflow/trainer/*.py  gs://qwiklabs-gcp-12b4b0f730830df4/stackoverflow/trainer/\n"
   ]
  },
  {
   "cell_type": "code",
   "execution_count": null,
   "metadata": {},
   "outputs": [],
   "source": []
  }
 ],
 "metadata": {
  "kernelspec": {
   "display_name": "Python 2",
   "language": "python",
   "name": "python2"
  },
  "language_info": {
   "codemirror_mode": {
    "name": "ipython",
    "version": 2
   },
   "file_extension": ".py",
   "mimetype": "text/x-python",
   "name": "python",
   "nbconvert_exporter": "python",
   "pygments_lexer": "ipython2",
   "version": "2.7.15"
  }
 },
 "nbformat": 4,
 "nbformat_minor": 2
}
