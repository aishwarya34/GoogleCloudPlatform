{
 "cells": [
  {
   "cell_type": "markdown",
   "metadata": {},
   "source": [
    "# Scaling up ML using Cloud ML Engine\n",
    "\n",
    "In this notebook, we take a previously developed TensorFlow model to predict taxifare rides and package it up so that it can be run in Cloud MLE. For now, we'll run this on a small dataset. The model that was developed is rather simplistic, and therefore, the accuracy of the model is not great either.  However, this notebook illustrates *how* to package up a TensorFlow model to run it within Cloud ML. \n",
    "\n",
    "Later in the course, we will look at ways to make a more effective machine learning model."
   ]
  },
  {
   "cell_type": "markdown",
   "metadata": {},
   "source": [
    "## Environment variables for project and bucket\n",
    "\n",
    "Note that:\n",
    "<ol>\n",
    "<li> Your project id is the *unique* string that identifies your project (not the project name). You can find this from the GCP Console dashboard's Home page.  My dashboard reads:  <b>Project ID:</b> cloud-training-demos </li>\n",
    "<li> Cloud training often involves saving and restoring model files. If you don't have a bucket already, I suggest that you create one from the GCP console (because it will dynamically check whether the bucket name you want is available). A common pattern is to prefix the bucket name by the project id, so that it is unique. Also, for cost reasons, you might want to use a single region bucket. </li>\n",
    "</ol>\n",
    "<b>Change the cell below</b> to reflect your Project ID and bucket name.\n"
   ]
  },
  {
   "cell_type": "code",
   "execution_count": 15,
   "metadata": {},
   "outputs": [],
   "source": [
    "import os\n",
    "PROJECT = 'qwiklabs-gcp-1a8cf323172d8441' # REPLACE WITH YOUR PROJECT ID\n",
    "BUCKET = 'qwiklabs-gcp-1a8cf323172d8441' # REPLACE WITH YOUR BUCKET NAME\n",
    "REGION = 'us-central1' # REPLACE WITH YOUR BUCKET REGION e.g. us-central1"
   ]
  },
  {
   "cell_type": "code",
   "execution_count": 16,
   "metadata": {},
   "outputs": [],
   "source": [
    "# For Python Code\n",
    "# Model Info\n",
    "MODEL_NAME = 'stackoverflow'\n",
    "# Model Version\n",
    "MODEL_VERSION = 'v1'\n",
    "# Training Directory name\n",
    "TRAINING_DIR = 'stackoverflow_trained'"
   ]
  },
  {
   "cell_type": "code",
   "execution_count": 17,
   "metadata": {},
   "outputs": [],
   "source": [
    "# For Bash Code\n",
    "os.environ['PROJECT'] = PROJECT\n",
    "os.environ['BUCKET'] = BUCKET\n",
    "os.environ['REGION'] = REGION\n",
    "os.environ['MODEL_NAME'] = MODEL_NAME\n",
    "os.environ['MODEL_VERSION'] = MODEL_VERSION\n",
    "os.environ['TRAINING_DIR'] = TRAINING_DIR \n",
    "os.environ['TFVERSION'] = '1.13.1'  # Tensorflow version"
   ]
  },
  {
   "cell_type": "code",
   "execution_count": 18,
   "metadata": {},
   "outputs": [
    {
     "name": "stderr",
     "output_type": "stream",
     "text": [
      "Updated property [core/project].\n",
      "Updated property [compute/region].\n"
     ]
    }
   ],
   "source": [
    "%%bash\n",
    "gcloud config set project $PROJECT\n",
    "gcloud config set compute/region $REGION"
   ]
  },
  {
   "cell_type": "markdown",
   "metadata": {},
   "source": [
    "### Create the bucket to store model and training data for deploying to Google Cloud Machine Learning Engine Component"
   ]
  },
  {
   "cell_type": "code",
   "execution_count": 5,
   "metadata": {},
   "outputs": [
    {
     "name": "stderr",
     "output_type": "stream",
     "text": [
      "Creating gs://qwiklabs-gcp-1a8cf323172d8441/...\n",
      "ServiceException: 409 Bucket qwiklabs-gcp-1a8cf323172d8441 already exists.\n"
     ]
    }
   ],
   "source": [
    "%%bash\n",
    "# The bucket needs to exist for the gsutil commands in next cell to work\n",
    "gsutil mb -p ${PROJECT} gs://${BUCKET}"
   ]
  },
  {
   "cell_type": "markdown",
   "metadata": {},
   "source": [
    "### Enable the Cloud Machine Learning Engine API"
   ]
  },
  {
   "cell_type": "markdown",
   "metadata": {},
   "source": [
    "The next command works with Cloud Machine Learning Engine API.  In order for the command to work, you must enable the API using the Cloud Console UI.   Use this [link.](https://console.cloud.google.com/project/_/apis/library)  Then search the API list for Cloud Machine Learning and enable the API before executing the next cell."
   ]
  },
  {
   "cell_type": "markdown",
   "metadata": {},
   "source": [
    "Allow the Cloud ML Engine service account to read/write to the bucket containing training data."
   ]
  },
  {
   "cell_type": "code",
   "execution_count": 6,
   "metadata": {},
   "outputs": [
    {
     "name": "stdout",
     "output_type": "stream",
     "text": [
      "Getting the service account email associated with the Cloud Machine Learning Engine API\n",
      "Authorizing the Cloud ML Service account service-860946498807@cloud-ml.google.com.iam.gserviceaccount.com to access files in qwiklabs-gcp-1a8cf323172d8441\n"
     ]
    },
    {
     "name": "stderr",
     "output_type": "stream",
     "text": [
      "  % Total    % Received % Xferd  Average Speed   Time    Time     Time  Current\n",
      "                                 Dload  Upload   Total   Spent    Left  Speed\n",
      "\r",
      "  0     0    0     0    0     0      0      0 --:--:-- --:--:-- --:--:--     0\r",
      "100   235    0   235    0     0    597      0 --:--:-- --:--:-- --:--:--   599\n",
      "Updated default ACL on gs://qwiklabs-gcp-1a8cf323172d8441/\n",
      "Updated ACL on gs://qwiklabs-gcp-1a8cf323172d8441/EstimatorAPI_DNNClassifier_stackoverflow.posts_questions_TrainAndEval.ipynb\n",
      "Updated ACL on gs://qwiklabs-gcp-1a8cf323172d8441/EstimatorAPI_DNNClassifier_stackoverflow.posts_questions_TrainAndEval_cloudmle.ipynb\n",
      "Updated ACL on gs://qwiklabs-gcp-1a8cf323172d8441/stackoverflow/trainer/model.py\n",
      "Updated ACL on gs://qwiklabs-gcp-1a8cf323172d8441/stackoverflow/trainer/task.py\n",
      "Updated ACL on gs://qwiklabs-gcp-1a8cf323172d8441/\n"
     ]
    }
   ],
   "source": [
    "%%bash\n",
    "# This command will fail if the Cloud Machine Learning Engine API is not enabled using the link above.\n",
    "echo \"Getting the service account email associated with the Cloud Machine Learning Engine API\"\n",
    "\n",
    "AUTH_TOKEN=$(gcloud auth print-access-token)\n",
    "SVC_ACCOUNT=$(curl -X GET -H \"Content-Type: application/json\" \\\n",
    "    -H \"Authorization: Bearer $AUTH_TOKEN\" \\\n",
    "    https://ml.googleapis.com/v1/projects/${PROJECT}:getConfig \\\n",
    "    | python -c \"import json; import sys; response = json.load(sys.stdin); \\\n",
    "    print (response['serviceAccount'])\")  # If this command fails, the Cloud Machine Learning Engine API has not been enabled above.\n",
    "\n",
    "echo \"Authorizing the Cloud ML Service account $SVC_ACCOUNT to access files in $BUCKET\"\n",
    "gsutil -m defacl ch -u $SVC_ACCOUNT:R gs://$BUCKET   \n",
    "gsutil -m acl ch -u $SVC_ACCOUNT:R -r gs://$BUCKET   # error message (if bucket is empty) can be ignored.  \n",
    "gsutil -m acl ch -u $SVC_ACCOUNT:W gs://$BUCKET      "
   ]
  },
  {
   "cell_type": "markdown",
   "metadata": {},
   "source": [
    "## Packaging up the code\n",
    "\n",
    "Take your code and put into a standard Python package structure.  <a href=\"taxifare/trainer/model.py\">model.py</a> and <a href=\"taxifare/trainer/task.py\">task.py</a> containing the Tensorflow code from earlier (explore the <a href=\"taxifare/trainer/\">directory structure</a>)."
   ]
  },
  {
   "cell_type": "code",
   "execution_count": 7,
   "metadata": {},
   "outputs": [
    {
     "name": "stdout",
     "output_type": "stream",
     "text": [
      "stackoverflow\n",
      "stackoverflow/trainer\n",
      "stackoverflow/trainer/model.py\n",
      "stackoverflow/trainer/task.py\n"
     ]
    }
   ],
   "source": [
    "%%bash\n",
    "find ${MODEL_NAME}"
   ]
  },
  {
   "cell_type": "code",
   "execution_count": 19,
   "metadata": {},
   "outputs": [
    {
     "name": "stdout",
     "output_type": "stream",
     "text": [
      "\n",
      "import google.datalab.bigquery as bq\n",
      "import pandas as pd\n",
      "import numpy as np\n",
      "import seaborn as sns\n",
      "import shutil\n",
      "\n",
      "def sample_between(a, b, shredstart):\n",
      "    basequery = \"\"\"\n",
      "  SELECT \n",
      "    answer_count, comment_count, favorite_count,  score, view_count,\n",
      "    TIMESTAMP_DIFF(last_activity_date, creation_date, DAY) as days_posted,\n",
      "    IF(accepted_answer_id IS NULL , 0, 1 ) as accepted\n",
      "  FROM \n",
      "    `bigquery-public-data.stackoverflow.posts_questions`\n",
      "  \"\"\"\n",
      "  \n",
      "    # Use sampling for initial model development. Once model is developed, shread the entire dataset into  .csv files based on condition in the sampler.\n",
      "    sampler = \"WHERE MOD(ABS(FARM_FINGERPRINT(CAST(id as STRING))), EVERY_N * 100) < {1} AND MOD(ABS(FARM_FINGERPRINT(CAST(id as STRING))), EVERY_N * 100) >= {0}\".format(\n",
      "            shredstart, shredstart + 10\n",
      "            )\n",
      "    sampler2 = \"AND {0} >= {1}\\n AND {0} < {2}\".format(\n",
      "           \"MOD(ABS(FARM_FINGERPRINT(CAST(id AS STRING))), EVERY_N * 100) * {}\".format(10),\n",
      "           (shredstart*10)+a, (shredstart*10)+b\n",
      "          )\n",
      "    return \"{}\\n{}\\n{}\".format(basequery, sampler, sampler2)\n",
      "\n",
      "\n",
      "def create_query(phase, EVERY_N, shredstart):\n",
      "    \"\"\"Phase: train (70%) valid (15%) or test (15%)\"\"\"\n",
      "    query = \"\"\n",
      "    if phase == 'train':\n",
      "        query = sample_between(0,60, shredstart)\n",
      "    elif phase == 'valid':\n",
      "        query = sample_between(60,75, shredstart)\n",
      "    else:\n",
      "        query = sample_between(75, 100, shredstart)\n",
      "    return query.replace(\"EVERY_N\", str(EVERY_N))\n",
      "\n",
      "#print(create_query('train', 100))\n",
      "#(answer_count - AVG(answer_count)) / STDDEV_POP(answer_count)  as answer_count,\n",
      "#IF(accepted_answer_id IS NULL , cast(0 as int64), cast(1 as int64)) as accepted\n",
      "\n",
      "def to_csv(df, filename):\n",
      "    outdf = df.copy(deep = True)\n",
      "    #outdf.loc[:, 'key'] = np.arange(0, len(outdf)) # rownumber as key\n",
      "    # Reorder columns so that target is first column\n",
      "    #print(outdf.head())\n",
      "    #print(df.head())\n",
      "    cols = outdf.columns.tolist()\n",
      "    #print(cols)\n",
      "    cols.remove('accepted')\n",
      "    cols.insert(0, 'accepted')\n",
      "    #print(cols)\n",
      "    outdf = outdf[cols]  \n",
      "  \n",
      "  \n",
      "    #Normalizing input columns  and replace NaN or null\n",
      "    normalize_cols = outdf.columns.tolist()\n",
      "    normalize_cols.remove('accepted')\n",
      "    for normalize_cols_name in normalize_cols:\n",
      "        outdf[normalize_cols_name].fillna(0, inplace = True)\n",
      "        outdf[normalize_cols_name] = (outdf[normalize_cols_name] - outdf[normalize_cols_name].mean())  / outdf[normalize_cols_name].std() \n",
      "    #print(outdf)\n",
      "    #print(outdf['answer_count'] )\n",
      "    outdf.to_csv(filename,  header = False, index_label = False, index = False)\n",
      "    print(\"Wrote {} to {}\".format(len(outdf), filename))\n",
      "\n",
      "for phase in ['train', 'valid', 'test']:\n",
      "    #for x in range(2):\n",
      "    for x in range(10):\n",
      "        query = create_query(phase, 100, x*10)\n",
      "        #print(query)\n",
      "        df = bq.Query(query).execute().result().to_dataframe()\n",
      "        #print(df.head())\n",
      "        to_csv(df, 'stackoverflow-{}-{}.csv'.format(phase,(x+1)*10))\n",
      "\n",
      "\n",
      "#tf.estimator modeling\n",
      "\n",
      "import tensorflow as tf\n",
      "import pandas as pd\n",
      "import shutil\n",
      "from google.datalab.ml import TensorBoard\n",
      "\n",
      "print(tf.__version__)\n",
      "\n",
      "CSV_COLUMNS = ['accepted', 'answer_count', 'comment_count', 'favorite_count', 'score', 'view_count', 'days_posted']\n",
      "DEFAULTS = [[0], [0.0], [0.0], [0.0], [0.0], [0.0], [0.0]]\n",
      "\n",
      "#DEFAULTS = [tf.constant([0], dtype=tf.int32),\n",
      "#            tf.constant([0.0], dtype=tf.float32),\n",
      "#            tf.constant([0.0], dtype=tf.float32),\n",
      "#           tf.constant([0.0], dtype=tf.float32),\n",
      "#            tf.constant([0.0], dtype=tf.float32),\n",
      "#            tf.constant([0.0], dtype=tf.float32),\n",
      "#            tf.constant([0.0], dtype=tf.float32) ]\n",
      "\n",
      "#i=0\n",
      "def read_dataset(filename, mode, batch_size = 512):\n",
      "    def decode_line(row):\n",
      "        #print(row)\n",
      "        cols = tf.decode_csv(row, record_defaults = DEFAULTS)\n",
      "        #print(cols)\n",
      "        features = dict(zip(CSV_COLUMNS,cols))\n",
      "        #print(i+1)\n",
      "        label = features.pop('accepted')  # remove label from features and store\n",
      "        #print(\"features: {} \\n label: {}\".format(features, label))\n",
      "        return features, label\n",
      "  \n",
      "    # Create list of file names that match \"glob\" pattern (i.e. data_file_*.csv)\n",
      "    filenames_dataset = tf.data.Dataset.list_files(filename, shuffle=False)\n",
      "    # Read lines from text files\n",
      "    #textlines_dataset = filenames_dataset.flat_map(tf.data.TextLineDataset).skip(1)\n",
      "    textlines_dataset = filenames_dataset.flat_map(tf.data.TextLineDataset)\n",
      "    # Parse text lines as comma-separated values (CSV)\n",
      "    dataset = textlines_dataset.map(decode_line)\n",
      "  \n",
      "  # Note:\n",
      "  # use tf.data.Dataset.flat_map to apply one to many transformations (here: filename -> text lines)\n",
      "  # use tf.data.Dataset.map      to apply one to one  transformations (here: text line -> feature list)\n",
      "  \n",
      "    if(mode == tf.estimator.ModeKeys.TRAIN):\n",
      "        num_epochs = 10  # loop indefinitely\n",
      "        dataset = dataset.shuffle(buffer_size = 10*batch_size, seed=2)\n",
      "    else:\n",
      "        num_epochs = 1\n",
      "  \n",
      "    dataset = dataset.repeat(num_epochs).batch(batch_size)\n",
      "    return dataset\n",
      "\n",
      "  \n",
      "def get_train_input_fn(folder_name):\n",
      "    dataset = read_dataset(folder_name + '/stackoverflow-train-*.csv', tf.estimator.ModeKeys.TRAIN)\n",
      "    features1, label1 = dataset.make_one_shot_iterator().get_next()\n",
      "    #print(\"Training set :  \\nfeatures1 : {}\\nlabel: {}\".format(features1, label1))\n",
      "    with tf.Session() as sess:\n",
      "        print(sess.run(tf.shape(label1))) # output: [ 0.42116176  0.40666069]\n",
      "    return features1, label1 \n",
      "\n",
      "def get_valid_input_fn(folder_name):\n",
      "    dataset = read_dataset(folder_name + '/stackoverflow-valid-*.csv', tf.estimator.ModeKeys.EVAL)\n",
      "    features1, label1 = dataset.make_one_shot_iterator().get_next()\n",
      "    return features1, label1 \n",
      "\n",
      "def get_test_input_fn(folder_name):\n",
      "    dataset = read_dataset(folder_name + '/stackoverflow-test-*.csv', tf.estimator.ModeKeys.PREDICT)\n",
      "    features1, label1 = dataset.make_one_shot_iterator().get_next()\n",
      "    with tf.Session() as sess:\n",
      "        print(sess.run(tf.shape(label1))) # output: [ 0.42116176  0.40666069]\n",
      "    return features1, label1 \n",
      "\n",
      "\n",
      "#get_train_input_fn()\n",
      "FEATURE_NAMES = CSV_COLUMNS[1:]\n",
      "LABEL_NAME = CSV_COLUMNS[0]\n",
      "\n",
      "featcols = [ tf.feature_column.numeric_column(feat) for feat in  FEATURE_NAMES ]\n",
      "#print(featcols)\n",
      "\n",
      "def serving_input_fn():\n",
      "  \n",
      "    json_features_placeholder = {\n",
      "        'answer_count' : tf.placeholder(tf.float32, [None]), #Batch size\n",
      "        'comment_count' : tf.placeholder(tf.float32, [None]), \n",
      "        'favorite_count' : tf.placeholder(tf.float32, [None]), \n",
      "        'score' : tf.placeholder(tf.float32, [None]), \n",
      "        'view_count' : tf.placeholder(tf.float32, [None]),  \n",
      "        'days_posted' : tf.placeholder(tf.float32, [None])\n",
      "    }\n",
      "  \n",
      "    features = json_features_placeholder\n",
      "  \n",
      "    return tf.estimator.export.ServingInputReceiver(features, json_features_placeholder)\n",
      "\n",
      "## Create train and evaluate function using tf.estimator\n",
      "def train_and_evaluate(args):\n",
      "    tf.summary.FileWriterCache.clear() # ensure filewriter cache is clear for TensorBoard events file\n",
      "    \n",
      "    run_config = tf.estimator.RunConfig(model_dir = args['output_dir'], save_summary_steps = 100, save_checkpoints_steps = 1000)\n",
      "  \n",
      "    estimator = tf.estimator.DNNClassifier(\n",
      "        hidden_units =  args['hidden_units']    #[1024, 512, 128, 32],  # specify neural architecture\n",
      "        feature_columns = featcols,\n",
      "        n_classes=2,\n",
      "        optimizer = tf.train.AdamOptimizer(learning_rate=0.001),\n",
      "        #model_dir = OUTDIR,\n",
      "        config = run_config \n",
      "    )\n",
      "  \n",
      "    train_spec = tf.estimator.TrainSpec(input_fn = lambda : get_train_input_fn(args['train_data_paths']), max_steps = args['train_steps'])\n",
      "  \n",
      "    exporter_latest =  tf.estimator.LatestExporter('exporter', serving_input_receiver_fn = serving_input_fn)\n",
      "  \n",
      "    eval_spec = tf.estimator.EvalSpec(input_fn = lambda : get_valid_input_fn(args['eval_data_paths']), \n",
      "                                   steps = None,\n",
      "                                   start_delay_secs = args['eval_delay_secs'], # start evaluating after N seconds\n",
      "                                   throttle_secs = args['throttle_secs'],   # evaluate every N seconds\n",
      "                                   exporters = exporter_latest)\n",
      "\n",
      "    tf.estimator.train_and_evaluate(estimator, train_spec, eval_spec)"
     ]
    }
   ],
   "source": [
    "%%bash\n",
    "cat ${MODEL_NAME}/trainer/model.py"
   ]
  },
  {
   "cell_type": "markdown",
   "metadata": {},
   "source": [
    "## Running the Python module from the command-line"
   ]
  },
  {
   "cell_type": "markdown",
   "metadata": {},
   "source": [
    "#### Clean model training dir/output dir"
   ]
  },
  {
   "cell_type": "code",
   "execution_count": 9,
   "metadata": {},
   "outputs": [],
   "source": [
    "%%bash\n",
    "# This is so that the trained model is started fresh each time. However, this needs to be done before \n",
    "# tensorboard is started\n",
    "rm -rf $PWD/${TRAINING_DIR}"
   ]
  },
  {
   "cell_type": "code",
   "execution_count": 10,
   "metadata": {},
   "outputs": [
    {
     "name": "stdout",
     "output_type": "stream",
     "text": [
      "Wrote 10186 to stackoverflow-train-10.csv\n",
      "Wrote 10333 to stackoverflow-train-20.csv\n",
      "Wrote 10426 to stackoverflow-train-30.csv\n",
      "Wrote 10260 to stackoverflow-train-40.csv\n",
      "Wrote 10298 to stackoverflow-train-50.csv\n",
      "Wrote 10401 to stackoverflow-train-60.csv\n",
      "Wrote 10276 to stackoverflow-train-70.csv\n",
      "Wrote 10249 to stackoverflow-train-80.csv\n",
      "Wrote 10291 to stackoverflow-train-90.csv\n",
      "Wrote 10332 to stackoverflow-train-100.csv\n",
      "Wrote 3500 to stackoverflow-valid-10.csv\n",
      "Wrote 3453 to stackoverflow-valid-20.csv\n",
      "Wrote 3367 to stackoverflow-valid-30.csv\n",
      "Wrote 3573 to stackoverflow-valid-40.csv\n",
      "Wrote 3482 to stackoverflow-valid-50.csv\n",
      "Wrote 3476 to stackoverflow-valid-60.csv\n",
      "Wrote 3431 to stackoverflow-valid-70.csv\n",
      "Wrote 3496 to stackoverflow-valid-80.csv\n",
      "Wrote 3469 to stackoverflow-valid-90.csv\n",
      "Wrote 3354 to stackoverflow-valid-100.csv\n",
      "Wrote 3352 to stackoverflow-test-10.csv\n",
      "Wrote 3476 to stackoverflow-test-20.csv\n",
      "Wrote 3439 to stackoverflow-test-30.csv\n",
      "Wrote 3408 to stackoverflow-test-40.csv\n",
      "Wrote 3571 to stackoverflow-test-50.csv\n",
      "Wrote 3454 to stackoverflow-test-60.csv\n",
      "Wrote 3441 to stackoverflow-test-70.csv\n",
      "Wrote 3594 to stackoverflow-test-80.csv\n",
      "Wrote 3441 to stackoverflow-test-90.csv\n",
      "Wrote 3405 to stackoverflow-test-100.csv\n"
     ]
    }
   ],
   "source": [
    "import google.datalab.bigquery as bq\n",
    "import pandas as pd\n",
    "import numpy as np\n",
    "import seaborn as sns\n",
    "import shutil\n",
    "\n",
    "def sample_between(a, b, shredstart):\n",
    "  basequery = \"\"\"\n",
    "  SELECT \n",
    "    answer_count, comment_count, favorite_count,  score, view_count,\n",
    "    TIMESTAMP_DIFF(last_activity_date, creation_date, DAY) as days_posted,\n",
    "    IF(accepted_answer_id IS NULL , 0, 1 ) as accepted\n",
    "  FROM \n",
    "    `bigquery-public-data.stackoverflow.posts_questions`\n",
    "  \"\"\"\n",
    "  \n",
    "  # Use sampling for initial model development. Once model is developed, shread the entire dataset into  .csv files based on condition in the sampler.\n",
    "  sampler = \"WHERE MOD(ABS(FARM_FINGERPRINT(CAST(id as STRING))), EVERY_N * 100) < {1} AND MOD(ABS(FARM_FINGERPRINT(CAST(id as STRING))), EVERY_N * 100) >= {0}\".format(\n",
    "            shredstart, shredstart + 10\n",
    "            )\n",
    "  sampler2 = \"AND {0} >= {1}\\n AND {0} < {2}\".format(\n",
    "           \"MOD(ABS(FARM_FINGERPRINT(CAST(id AS STRING))), EVERY_N * 100) * {}\".format(10),\n",
    "           (shredstart*10)+a, (shredstart*10)+b\n",
    "          )\n",
    "  return \"{}\\n{}\\n{}\".format(basequery, sampler, sampler2)\n",
    "\n",
    "\n",
    "def create_query(phase, EVERY_N, shredstart):\n",
    "  \"\"\"Phase: train (70%) valid (15%) or test (15%)\"\"\"\n",
    "  query = \"\"\n",
    "  if phase == 'train':\n",
    "    query = sample_between(0,60, shredstart)\n",
    "  elif phase == 'valid':\n",
    "    query = sample_between(60,75, shredstart)\n",
    "  else:\n",
    "    query = sample_between(75, 100, shredstart)\n",
    "  return query.replace(\"EVERY_N\", str(EVERY_N))\n",
    "\n",
    "#print(create_query('train', 100))\n",
    "#(answer_count - AVG(answer_count)) / STDDEV_POP(answer_count)  as answer_count,\n",
    "#IF(accepted_answer_id IS NULL , cast(0 as int64), cast(1 as int64)) as accepted\n",
    "\n",
    "def to_csv(df, filename):\n",
    "  outdf = df.copy(deep = True)\n",
    "  #outdf.loc[:, 'key'] = np.arange(0, len(outdf)) # rownumber as key\n",
    "  # Reorder columns so that target is first column\n",
    "  #print(outdf.head())\n",
    "  #print(df.head())\n",
    "  cols = outdf.columns.tolist()\n",
    "  #print(cols)\n",
    "  cols.remove('accepted')\n",
    "  cols.insert(0, 'accepted')\n",
    "  #print(cols)\n",
    "  outdf = outdf[cols]  \n",
    "  \n",
    "  \n",
    "  #Normalizing input columns  and replace NaN or null\n",
    "  normalize_cols = outdf.columns.tolist()\n",
    "  normalize_cols.remove('accepted')\n",
    "  for normalize_cols_name in normalize_cols:\n",
    "    outdf[normalize_cols_name].fillna(0, inplace = True)\n",
    "    outdf[normalize_cols_name] = (outdf[normalize_cols_name] - outdf[normalize_cols_name].mean())  / outdf[normalize_cols_name].std() \n",
    "  #print(outdf)\n",
    "  #print(outdf['answer_count'] )\n",
    "  outdf.to_csv(filename,  header = False, index_label = False, index = False)\n",
    "  print(\"Wrote {} to {}\".format(len(outdf), filename))\n",
    "\n",
    "for phase in ['train', 'valid', 'test']:\n",
    "  #for x in range(2):\n",
    "  for x in range(10):\n",
    "    query = create_query(phase, 100, x*10)\n",
    "    #print(query)\n",
    "    df = bq.Query(query).execute().result().to_dataframe()\n",
    "    #print(df.head())\n",
    "    to_csv(df, 'stackoverflow-{}-{}.csv'.format(phase,(x+1)*10))\n"
   ]
  },
  {
   "cell_type": "code",
   "execution_count": 11,
   "metadata": {},
   "outputs": [
    {
     "name": "stdout",
     "output_type": "stream",
     "text": [
      "qwiklabs-gcp-1a8cf323172d8441\n"
     ]
    },
    {
     "name": "stderr",
     "output_type": "stream",
     "text": [
      "CommandException: 1 files/objects could not be removed.\n",
      "Copying file:///content/datalab/notebooks/qwiklabs-gcp-1a8cf323172d8441/stackoverflow-test-30.csv [Content-Type=text/csv]...\n",
      "Copying file:///content/datalab/notebooks/qwiklabs-gcp-1a8cf323172d8441/stackoverflow-test-20.csv [Content-Type=text/csv]...\n",
      "/ [0 files][    0.0 B/417.6 KiB]                                                \r",
      "/ [0 files][    0.0 B/838.4 KiB]                                                \r",
      "Copying file:///content/datalab/notebooks/qwiklabs-gcp-1a8cf323172d8441/stackoverflow-test-10.csv [Content-Type=text/csv]...\n",
      "/ [0 files][    0.0 B/  1.2 MiB]                                                \r",
      "Copying file:///content/datalab/notebooks/qwiklabs-gcp-1a8cf323172d8441/stackoverflow-test-100.csv [Content-Type=text/csv]...\n",
      "Copying file:///content/datalab/notebooks/qwiklabs-gcp-1a8cf323172d8441/stackoverflow-test-40.csv [Content-Type=text/csv]...\n",
      "/ [0 files][    0.0 B/  1.6 MiB]                                                \r",
      "/ [0 files][    0.0 B/  2.0 MiB]                                                \r",
      "Copying file:///content/datalab/notebooks/qwiklabs-gcp-1a8cf323172d8441/stackoverflow-test-50.csv [Content-Type=text/csv]...\n",
      "/ [1/30 files][  2.0 MiB/ 20.4 MiB]   9% Done                                   \r",
      "/ [1/30 files][  2.0 MiB/ 20.4 MiB]   9% Done                                   \r",
      "/ [2/30 files][  2.0 MiB/ 20.4 MiB]   9% Done                                   \r",
      "Copying file:///content/datalab/notebooks/qwiklabs-gcp-1a8cf323172d8441/stackoverflow-test-60.csv [Content-Type=text/csv]...\n",
      "/ [2/30 files][  2.0 MiB/ 20.4 MiB]   9% Done                                   \r",
      "Copying file:///content/datalab/notebooks/qwiklabs-gcp-1a8cf323172d8441/stackoverflow-test-70.csv [Content-Type=text/csv]...\n",
      "/ [3/30 files][  2.3 MiB/ 20.4 MiB]  11% Done                                   \r",
      "/ [3/30 files][  2.4 MiB/ 20.4 MiB]  11% Done                                   \r",
      "/ [4/30 files][  2.4 MiB/ 20.4 MiB]  11% Done                                   \r",
      "Copying file:///content/datalab/notebooks/qwiklabs-gcp-1a8cf323172d8441/stackoverflow-test-80.csv [Content-Type=text/csv]...\n",
      "/ [4/30 files][  2.4 MiB/ 20.4 MiB]  11% Done                                   \r",
      "/ [5/30 files][  2.8 MiB/ 20.4 MiB]  13% Done                                   \r",
      "Copying file:///content/datalab/notebooks/qwiklabs-gcp-1a8cf323172d8441/stackoverflow-test-90.csv [Content-Type=text/csv]...\n",
      "/ [5/30 files][  2.8 MiB/ 20.4 MiB]  13% Done                                   \r",
      "-\r",
      "Copying file:///content/datalab/notebooks/qwiklabs-gcp-1a8cf323172d8441/stackoverflow-train-100.csv [Content-Type=text/csv]...\n",
      "- [6/30 files][  4.1 MiB/ 20.4 MiB]  19% Done                                   \r",
      "- [6/30 files][  4.1 MiB/ 20.4 MiB]  19% Done                                   \r",
      "Copying file:///content/datalab/notebooks/qwiklabs-gcp-1a8cf323172d8441/stackoverflow-train-10.csv [Content-Type=text/csv]...\n",
      "- [7/30 files][  5.3 MiB/ 20.4 MiB]  26% Done                                   \r",
      "- [7/30 files][  5.3 MiB/ 20.4 MiB]  26% Done                                   \r",
      "Copying file:///content/datalab/notebooks/qwiklabs-gcp-1a8cf323172d8441/stackoverflow-train-20.csv [Content-Type=text/csv]...\n",
      "- [8/30 files][  5.3 MiB/ 20.4 MiB]  26% Done                                   \r",
      "- [8/30 files][  5.8 MiB/ 20.4 MiB]  28% Done                                   \r",
      "Copying file:///content/datalab/notebooks/qwiklabs-gcp-1a8cf323172d8441/stackoverflow-train-30.csv [Content-Type=text/csv]...\n",
      "- [9/30 files][  6.5 MiB/ 20.4 MiB]  32% Done                                   \r",
      "- [9/30 files][  6.5 MiB/ 20.4 MiB]  32% Done                                   \r",
      "- [10/30 files][  7.7 MiB/ 20.4 MiB]  37% Done                                  \r",
      "Copying file:///content/datalab/notebooks/qwiklabs-gcp-1a8cf323172d8441/stackoverflow-train-40.csv [Content-Type=text/csv]...\n",
      "- [10/30 files][  7.7 MiB/ 20.4 MiB]  37% Done                                  \r",
      "Copying file:///content/datalab/notebooks/qwiklabs-gcp-1a8cf323172d8441/stackoverflow-train-50.csv [Content-Type=text/csv]...\n",
      "Copying file:///content/datalab/notebooks/qwiklabs-gcp-1a8cf323172d8441/stackoverflow-train-60.csv [Content-Type=text/csv]...\n",
      "Copying file:///content/datalab/notebooks/qwiklabs-gcp-1a8cf323172d8441/stackoverflow-train-70.csv [Content-Type=text/csv]...\n",
      "- [11/30 files][ 10.2 MiB/ 20.4 MiB]  50% Done                                  \r",
      "- [11/30 files][ 10.2 MiB/ 20.4 MiB]  50% Done                                  \r",
      "- [12/30 files][ 10.2 MiB/ 20.4 MiB]  50% Done                                  \r",
      "- [13/30 files][ 10.2 MiB/ 20.4 MiB]  50% Done                                  \r",
      "- [13/30 files][ 10.2 MiB/ 20.4 MiB]  50% Done                                  \r",
      "- [13/30 files][ 10.2 MiB/ 20.4 MiB]  50% Done                                  \r",
      "- [14/30 files][ 10.2 MiB/ 20.4 MiB]  50% Done                                  \r",
      "\\\r",
      "Copying file:///content/datalab/notebooks/qwiklabs-gcp-1a8cf323172d8441/stackoverflow-train-80.csv [Content-Type=text/csv]...\n",
      "\\ [14/30 files][ 10.2 MiB/ 20.4 MiB]  50% Done                                  \r",
      "\\ [15/30 files][ 10.2 MiB/ 20.4 MiB]  50% Done                                  \r",
      "Copying file:///content/datalab/notebooks/qwiklabs-gcp-1a8cf323172d8441/stackoverflow-train-90.csv [Content-Type=text/csv]...\n",
      "\\ [15/30 files][ 11.2 MiB/ 20.4 MiB]  55% Done                                  \r",
      "Copying file:///content/datalab/notebooks/qwiklabs-gcp-1a8cf323172d8441/stackoverflow-valid-100.csv [Content-Type=text/csv]...\n",
      "\\ [16/30 files][ 16.3 MiB/ 20.4 MiB]  79% Done                                  \r",
      "\\ [16/30 files][ 16.3 MiB/ 20.4 MiB]  79% Done                                  \r",
      "Copying file:///content/datalab/notebooks/qwiklabs-gcp-1a8cf323172d8441/stackoverflow-valid-20.csv [Content-Type=text/csv]...\n",
      "Copying file:///content/datalab/notebooks/qwiklabs-gcp-1a8cf323172d8441/stackoverflow-valid-10.csv [Content-Type=text/csv]...\n",
      "Copying file:///content/datalab/notebooks/qwiklabs-gcp-1a8cf323172d8441/stackoverflow-valid-30.csv [Content-Type=text/csv]...\n",
      "\\ [17/30 files][ 16.7 MiB/ 20.4 MiB]  81% Done                                  \r",
      "\\ [18/30 files][ 16.7 MiB/ 20.4 MiB]  81% Done                                  \r",
      "\\ [19/30 files][ 16.7 MiB/ 20.4 MiB]  81% Done                                  \r",
      "\\ [19/30 files][ 16.7 MiB/ 20.4 MiB]  81% Done                                  \r",
      "\\ [19/30 files][ 16.7 MiB/ 20.4 MiB]  81% Done                                  \r",
      "\\ [19/30 files][ 16.7 MiB/ 20.4 MiB]  81% Done                                  \r",
      "\\ [20/30 files][ 16.7 MiB/ 20.4 MiB]  81% Done                                  \r",
      "Copying file:///content/datalab/notebooks/qwiklabs-gcp-1a8cf323172d8441/stackoverflow-valid-40.csv [Content-Type=text/csv]...\n",
      "\\ [20/30 files][ 16.7 MiB/ 20.4 MiB]  81% Done                                  \r",
      "\\ [21/30 files][ 18.3 MiB/ 20.4 MiB]  89% Done                                  \r",
      "Copying file:///content/datalab/notebooks/qwiklabs-gcp-1a8cf323172d8441/stackoverflow-valid-50.csv [Content-Type=text/csv]...\n",
      "\\ [21/30 files][ 18.3 MiB/ 20.4 MiB]  89% Done                                  \r",
      "Copying file:///content/datalab/notebooks/qwiklabs-gcp-1a8cf323172d8441/stackoverflow-valid-60.csv [Content-Type=text/csv]...\n",
      "\\ [22/30 files][ 18.7 MiB/ 20.4 MiB]  91% Done                                  \r",
      "|\r",
      "| [22/30 files][ 18.7 MiB/ 20.4 MiB]  91% Done                                  \r",
      "| [23/30 files][ 18.7 MiB/ 20.4 MiB]  91% Done                                  \r",
      "| [24/30 files][ 18.7 MiB/ 20.4 MiB]  91% Done                                  \r",
      "Copying file:///content/datalab/notebooks/qwiklabs-gcp-1a8cf323172d8441/stackoverflow-valid-70.csv [Content-Type=text/csv]...\n",
      "Copying file:///content/datalab/notebooks/qwiklabs-gcp-1a8cf323172d8441/stackoverflow-valid-80.csv [Content-Type=text/csv]...\n",
      "| [24/30 files][ 18.7 MiB/ 20.4 MiB]  91% Done                                  \r",
      "| [24/30 files][ 18.7 MiB/ 20.4 MiB]  91% Done                                  \r",
      "| [25/30 files][ 18.7 MiB/ 20.4 MiB]  91% Done                                  \r",
      "Copying file:///content/datalab/notebooks/qwiklabs-gcp-1a8cf323172d8441/stackoverflow-valid-90.csv [Content-Type=text/csv]...\n",
      "| [25/30 files][ 18.7 MiB/ 20.4 MiB]  91% Done                                  \r",
      "| [26/30 files][ 18.7 MiB/ 20.4 MiB]  91% Done                                  \r",
      "| [27/30 files][ 20.4 MiB/ 20.4 MiB]  99% Done                                  \r",
      "| [28/30 files][ 20.4 MiB/ 20.4 MiB]  99% Done                                  \r",
      "| [29/30 files][ 20.4 MiB/ 20.4 MiB]  99% Done                                  \r",
      "| [30/30 files][ 20.4 MiB/ 20.4 MiB] 100% Done                                  \r\n",
      "Operation completed over 30 objects/20.4 MiB.                                    \n"
     ]
    }
   ],
   "source": [
    "%%bash\n",
    "# Clear Cloud Storage bucket and copy the CSV files to Cloud Storage bucket\n",
    "echo $BUCKET\n",
    "gsutil -m rm -rf gs://${BUCKET}/${MODEL_NAME}/dataset/\n",
    "gsutil -m cp ${PWD}/*.csv gs://${BUCKET}/${MODEL_NAME}/dataset/"
   ]
  },
  {
   "cell_type": "code",
   "execution_count": 12,
   "metadata": {},
   "outputs": [
    {
     "name": "stdout",
     "output_type": "stream",
     "text": [
      "Collecting tensorflow==1.13.1\n",
      "\u001b[?25l  Downloading https://files.pythonhosted.org/packages/ca/f2/0931c194bb98398017d52c94ee30e5e1a4082ab6af76e204856ff1fdb33e/tensorflow-1.13.1-cp35-cp35m-manylinux1_x86_64.whl (92.5MB)\n",
      "\u001b[K    100% |████████████████████████████████| 92.5MB 322kB/s eta 0:00:01  0% |▎                               | 737kB 36.4MB/s eta 0:00:03    4% |█▎                              | 3.8MB 35.3MB/s eta 0:00:03    7% |██▍                             | 6.7MB 34.9MB/s eta 0:00:03    21% |██████▉                         | 19.9MB 27.7MB/s eta 0:00:03    28% |█████████                       | 25.9MB 13.9MB/s eta 0:00:05    29% |█████████▌                      | 27.5MB 12.8MB/s eta 0:00:06    36% |███████████▋                    | 33.6MB 30.0MB/s eta 0:00:02    37% |████████████                    | 34.9MB 29.6MB/s eta 0:00:02    39% |████████████▌                   | 36.2MB 29.7MB/s eta 0:00:02    40% |█████████████                   | 37.6MB 29.8MB/s eta 0:00:02    47% |███████████████▎                | 44.2MB 29.4MB/s eta 0:00:02    50% |████████████████▏               | 46.8MB 29.1MB/s eta 0:00:02    59% |███████████████████             | 55.0MB 26.5MB/s eta 0:00:02    62% |███████████████████▉            | 57.4MB 25.9MB/s eta 0:00:02    64% |████████████████████▋           | 59.7MB 27.4MB/s eta 0:00:02    69% |██████████████████████▎         | 64.4MB 25.4MB/s eta 0:00:02    73% |███████████████████████▍        | 67.7MB 25.1MB/s eta 0:00:01    75% |████████████████████████▏       | 69.9MB 25.4MB/s eta 0:00:01    76% |████████████████████████▋       | 71.0MB 22.6MB/s eta 0:00:01    79% |█████████████████████████▌      | 73.8MB 23.5MB/s eta 0:00:01    81% |██████████████████████████▏     | 75.8MB 21.8MB/s eta 0:00:01    83% |██████████████████████████▋     | 76.8MB 23.0MB/s eta 0:00:01    89% |████████████████████████████▊   | 83.2MB 20.2MB/s eta 0:00:01    90% |█████████████████████████████   | 84.0MB 22.2MB/s eta 0:00:01    91% |█████████████████████████████▍  | 85.1MB 23.1MB/s eta 0:00:01    95% |██████████████████████████████▌ | 88.1MB 21.6MB/s eta 0:00:01    96% |██████████████████████████████▉ | 89.1MB 21.6MB/s eta 0:00:01    97% |███████████████████████████████▏| 90.1MB 20.3MB/s eta 0:00:01\n",
      "\u001b[?25hRequirement already satisfied: six>=1.10.0 in /usr/local/envs/py3env/lib/python3.5/site-packages (from tensorflow==1.13.1) (1.10.0)\n",
      "Requirement already satisfied: protobuf>=3.6.1 in /usr/local/envs/py3env/lib/python3.5/site-packages (from tensorflow==1.13.1) (3.6.1)\n",
      "Collecting keras-preprocessing>=1.0.5 (from tensorflow==1.13.1)\n",
      "\u001b[?25l  Downloading https://files.pythonhosted.org/packages/c0/bf/0315ef6a9fd3fc2346e85b0ff1f5f83ca17073f2c31ac719ab2e4da0d4a3/Keras_Preprocessing-1.0.9-py2.py3-none-any.whl (59kB)\n",
      "\u001b[K    100% |████████████████████████████████| 61kB 9.5MB/s eta 0:00:01\n",
      "\u001b[?25hRequirement already satisfied: absl-py>=0.1.6 in /usr/local/envs/py3env/lib/python3.5/site-packages (from tensorflow==1.13.1) (0.6.1)\n",
      "Requirement already satisfied: astor>=0.6.0 in /usr/local/envs/py3env/lib/python3.5/site-packages (from tensorflow==1.13.1) (0.7.1)\n",
      "Requirement already satisfied: numpy>=1.13.3 in /usr/local/envs/py3env/lib/python3.5/site-packages (from tensorflow==1.13.1) (1.14.0)\n",
      "Collecting tensorflow-estimator<1.14.0rc0,>=1.13.0 (from tensorflow==1.13.1)\n",
      "\u001b[?25l  Downloading https://files.pythonhosted.org/packages/bb/48/13f49fc3fa0fdf916aa1419013bb8f2ad09674c275b4046d5ee669a46873/tensorflow_estimator-1.13.0-py2.py3-none-any.whl (367kB)\n",
      "\u001b[K    100% |████████████████████████████████| 368kB 6.4MB/s eta 0:00:01\n",
      "\u001b[?25hRequirement already satisfied: termcolor>=1.1.0 in /usr/local/envs/py3env/lib/python3.5/site-packages (from tensorflow==1.13.1) (1.1.0)\n",
      "Requirement already satisfied: wheel>=0.26 in /usr/local/envs/py3env/lib/python3.5/site-packages (from tensorflow==1.13.1) (0.31.1)\n",
      "Collecting keras-applications>=1.0.6 (from tensorflow==1.13.1)\n",
      "\u001b[?25l  Downloading https://files.pythonhosted.org/packages/90/85/64c82949765cfb246bbdaf5aca2d55f400f792655927a017710a78445def/Keras_Applications-1.0.7-py2.py3-none-any.whl (51kB)\n",
      "\u001b[K    100% |████████████████████████████████| 61kB 10.3MB/s ta 0:00:01\n",
      "\u001b[?25hCollecting tensorboard<1.14.0,>=1.13.0 (from tensorflow==1.13.1)\n",
      "\u001b[?25l  Downloading https://files.pythonhosted.org/packages/0f/39/bdd75b08a6fba41f098b6cb091b9e8c7a80e1b4d679a581a0ccd17b10373/tensorboard-1.13.1-py3-none-any.whl (3.2MB)\n",
      "\u001b[K    100% |████████████████████████████████| 3.2MB 5.2MB/s ta 0:00:011    64% |████████████████████▊           | 2.1MB 7.5MB/s eta 0:00:01    98% |███████████████████████████████▋| 3.2MB 20.4MB/s eta 0:00:01\n",
      "\u001b[?25hRequirement already satisfied: grpcio>=1.8.6 in /usr/local/envs/py3env/lib/python3.5/site-packages (from tensorflow==1.13.1) (1.17.1)\n",
      "Requirement already satisfied: gast>=0.2.0 in /usr/local/envs/py3env/lib/python3.5/site-packages (from tensorflow==1.13.1) (0.2.2)\n",
      "Requirement already satisfied: setuptools in /usr/local/envs/py3env/lib/python3.5/site-packages (from protobuf>=3.6.1->tensorflow==1.13.1) (40.2.0)\n",
      "Requirement already satisfied: mock>=2.0.0 in /usr/local/envs/py3env/lib/python3.5/site-packages (from tensorflow-estimator<1.14.0rc0,>=1.13.0->tensorflow==1.13.1) (2.0.0)\n",
      "Requirement already satisfied: h5py in /usr/local/envs/py3env/lib/python3.5/site-packages (from keras-applications>=1.0.6->tensorflow==1.13.1) (2.7.1)\n",
      "Requirement already satisfied: werkzeug>=0.11.15 in /usr/local/envs/py3env/lib/python3.5/site-packages (from tensorboard<1.14.0,>=1.13.0->tensorflow==1.13.1) (0.14.1)\n",
      "Requirement already satisfied: markdown>=2.6.8 in /usr/local/envs/py3env/lib/python3.5/site-packages (from tensorboard<1.14.0,>=1.13.0->tensorflow==1.13.1) (2.6.11)\n",
      "Requirement already satisfied: pbr>=0.11 in /usr/local/envs/py3env/lib/python3.5/site-packages (from mock>=2.0.0->tensorflow-estimator<1.14.0rc0,>=1.13.0->tensorflow==1.13.1) (4.2.0)\n",
      "Installing collected packages: keras-preprocessing, tensorflow-estimator, keras-applications, tensorboard, tensorflow\n",
      "  Found existing installation: tensorboard 1.8.0\n",
      "    Uninstalling tensorboard-1.8.0:\n",
      "      Successfully uninstalled tensorboard-1.8.0\n",
      "  Found existing installation: tensorflow 1.8.0\n",
      "    Uninstalling tensorflow-1.8.0:\n",
      "      Successfully uninstalled tensorflow-1.8.0\n",
      "Successfully installed keras-applications-1.0.7 keras-preprocessing-1.0.9 tensorboard-1.13.1 tensorflow-1.13.1 tensorflow-estimator-1.13.0\n"
     ]
    }
   ],
   "source": [
    "# Ensure that we have TensorFlow 1.13.1 installed.\n",
    "!pip3 freeze | grep tensorflow==1.13.1 || pip3 install tensorflow==1.13.1"
   ]
  },
  {
   "cell_type": "markdown",
   "metadata": {},
   "source": [
    "#### Monitor using Tensorboard"
   ]
  },
  {
   "cell_type": "code",
   "execution_count": 13,
   "metadata": {},
   "outputs": [
    {
     "name": "stderr",
     "output_type": "stream",
     "text": [
      "/usr/local/envs/py2env/lib/python2.7/site-packages/h5py/__init__.py:36: FutureWarning: Conversion of the second argument of issubdtype from `float` to `np.floating` is deprecated. In future, it will be treated as `np.float64 == np.dtype(float).type`.\n",
      "  from ._conv import register_converters as _register_converters\n"
     ]
    },
    {
     "data": {
      "text/html": [
       "<p>TensorBoard was started successfully with pid 6600. Click <a href=\"/_proxy/34499/\" target=\"_blank\">here</a> to access it.</p>"
      ]
     },
     "metadata": {},
     "output_type": "display_data"
    },
    {
     "data": {
      "text/plain": [
       "6600"
      ]
     },
     "execution_count": 13,
     "metadata": {},
     "output_type": "execute_result"
    }
   ],
   "source": [
    "from google.datalab.ml import TensorBoard\n",
    "TensorBoard().start('./'+ TRAINING_DIR)"
   ]
  },
  {
   "cell_type": "code",
   "execution_count": 24,
   "metadata": {},
   "outputs": [
    {
     "name": "stdout",
     "output_type": "stream",
     "text": [
      "1.8.0\n"
     ]
    },
    {
     "name": "stderr",
     "output_type": "stream",
     "text": [
      "/usr/local/envs/py2env/lib/python2.7/site-packages/h5py/__init__.py:36: FutureWarning: Conversion of the second argument of issubdtype from `float` to `np.floating` is deprecated. In future, it will be treated as `np.float64 == np.dtype(float).type`.\n",
      "  from ._conv import register_converters as _register_converters\n",
      "INFO:tensorflow:Using config: {'_save_checkpoints_secs': None, '_session_config': None, '_keep_checkpoint_max': 5, '_tf_random_seed': None, '_task_type': 'worker', '_train_distribute': None, '_is_chief': True, '_cluster_spec': <tensorflow.python.training.server_lib.ClusterSpec object at 0x7f355f783950>, '_model_dir': '/content/datalab/notebooks/qwiklabs-gcp-1a8cf323172d8441/stackoverflow_trained', '_num_worker_replicas': 1, '_task_id': 0, '_log_step_count_steps': 100, '_master': '', '_save_checkpoints_steps': 1000, '_keep_checkpoint_every_n_hours': 10000, '_evaluation_master': '', '_service': None, '_global_id_in_cluster': 0, '_save_summary_steps': 100, '_num_ps_replicas': 0}\n",
      "INFO:tensorflow:Running training and evaluation locally (non-distributed).\n",
      "INFO:tensorflow:Start train and evaluate loop. The evaluate will happen after 300 secs (eval_spec.throttle_secs) or training is finished.\n",
      "INFO:tensorflow:Skipping training since max_steps has already saved.\n",
      "INFO:tensorflow:Calling model_fn.\n",
      "WARNING:tensorflow:Trapezoidal rule is known to produce incorrect PR-AUCs; please switch to \"careful_interpolation\" instead.\n",
      "WARNING:tensorflow:Trapezoidal rule is known to produce incorrect PR-AUCs; please switch to \"careful_interpolation\" instead.\n",
      "INFO:tensorflow:Done calling model_fn.\n",
      "INFO:tensorflow:Starting evaluation at 2019-05-21-17:17:13\n",
      "INFO:tensorflow:Graph was finalized.\n",
      "2019-05-21 17:17:13.501057: I tensorflow/core/platform/cpu_feature_guard.cc:140] Your CPU supports instructions that this TensorFlow binary was not compiled to use: AVX2 FMA\n",
      "INFO:tensorflow:Restoring parameters from /content/datalab/notebooks/qwiklabs-gcp-1a8cf323172d8441/stackoverflow_trained/model.ckpt-1000\n",
      "INFO:tensorflow:Running local_init_op.\n",
      "INFO:tensorflow:Done running local_init_op.\n",
      "INFO:tensorflow:Finished evaluation at 2019-05-21-17:17:16\n",
      "INFO:tensorflow:Saving dict for global step 1000: accuracy = 0.67261064, accuracy_baseline = 0.5301003, auc = 0.7274425, auc_precision_recall = 0.7147916, average_loss = 0.56111443, global_step = 1000, label/mean = 0.5301003, loss = 285.51648, precision = 0.6399665, prediction/mean = 0.5264292, recall = 0.8742231\n",
      "INFO:tensorflow:Calling model_fn.\n",
      "INFO:tensorflow:Done calling model_fn.\n",
      "INFO:tensorflow:Signatures INCLUDED in export for Classify: None\n",
      "INFO:tensorflow:Signatures INCLUDED in export for Regress: None\n",
      "INFO:tensorflow:Signatures INCLUDED in export for Predict: ['predict']\n",
      "INFO:tensorflow:Signatures EXCLUDED from export because they cannot be be served via TensorFlow Serving APIs:\n",
      "INFO:tensorflow:'serving_default' : Classification input must be a single string Tensor; got {'view_count': <tf.Tensor 'Placeholder_4:0' shape=(?,) dtype=float32>, 'answer_count': <tf.Tensor 'Placeholder:0' shape=(?,) dtype=float32>, 'comment_count': <tf.Tensor 'Placeholder_1:0' shape=(?,) dtype=float32>, 'score': <tf.Tensor 'Placeholder_3:0' shape=(?,) dtype=float32>, 'days_posted': <tf.Tensor 'Placeholder_5:0' shape=(?,) dtype=float32>, 'favorite_count': <tf.Tensor 'Placeholder_2:0' shape=(?,) dtype=float32>}\n",
      "INFO:tensorflow:'regression' : Regression input must be a single string Tensor; got {'view_count': <tf.Tensor 'Placeholder_4:0' shape=(?,) dtype=float32>, 'answer_count': <tf.Tensor 'Placeholder:0' shape=(?,) dtype=float32>, 'comment_count': <tf.Tensor 'Placeholder_1:0' shape=(?,) dtype=float32>, 'score': <tf.Tensor 'Placeholder_3:0' shape=(?,) dtype=float32>, 'days_posted': <tf.Tensor 'Placeholder_5:0' shape=(?,) dtype=float32>, 'favorite_count': <tf.Tensor 'Placeholder_2:0' shape=(?,) dtype=float32>}\n",
      "INFO:tensorflow:'classification' : Classification input must be a single string Tensor; got {'view_count': <tf.Tensor 'Placeholder_4:0' shape=(?,) dtype=float32>, 'answer_count': <tf.Tensor 'Placeholder:0' shape=(?,) dtype=float32>, 'comment_count': <tf.Tensor 'Placeholder_1:0' shape=(?,) dtype=float32>, 'score': <tf.Tensor 'Placeholder_3:0' shape=(?,) dtype=float32>, 'days_posted': <tf.Tensor 'Placeholder_5:0' shape=(?,) dtype=float32>, 'favorite_count': <tf.Tensor 'Placeholder_2:0' shape=(?,) dtype=float32>}\n",
      "WARNING:tensorflow:Export includes no default signature!\n",
      "INFO:tensorflow:Restoring parameters from /content/datalab/notebooks/qwiklabs-gcp-1a8cf323172d8441/stackoverflow_trained/model.ckpt-1000\n",
      "INFO:tensorflow:Assets added to graph.\n",
      "INFO:tensorflow:No assets to write.\n",
      "INFO:tensorflow:SavedModel written to: /content/datalab/notebooks/qwiklabs-gcp-1a8cf323172d8441/stackoverflow_trained/export/exporter/temp-1558459037/saved_model.pb\n"
     ]
    }
   ],
   "source": [
    "%%bash\n",
    "# Setup python so it sees the task module which controls the model.py\n",
    "export PYTHONPATH=${PYTHONPATH}:${PWD}/${MODEL_NAME}\n",
    "# Currently set for python 2.  To run with python 3 \n",
    "#    1.  Replace 'python' with 'python3' in the following command\n",
    "#    2.  Edit trainer/task.py to reflect proper module import method \n",
    "python -m trainer.task \\\n",
    "   --train_data_paths=${PWD} \\\n",
    "   --eval_data_paths=${PWD}  \\\n",
    "   --output_dir=${PWD}/${TRAINING_DIR} \\\n",
    "   --train_steps=10 --job-dir=./tmp"
   ]
  },
  {
   "cell_type": "code",
   "execution_count": 25,
   "metadata": {},
   "outputs": [
    {
     "name": "stdout",
     "output_type": "stream",
     "text": [
      "1558458773\n",
      "1558458937\n",
      "1558459037\n"
     ]
    }
   ],
   "source": [
    "%%bash\n",
    "ls $PWD/${TRAINING_DIR}/export/exporter/"
   ]
  },
  {
   "cell_type": "code",
   "execution_count": 28,
   "metadata": {},
   "outputs": [
    {
     "name": "stdout",
     "output_type": "stream",
     "text": [
      "Overwriting ./test.json\n"
     ]
    }
   ],
   "source": [
    "%%writefile ./test.json\n",
    "{\"answer_count\": 2, \"comment_count\": 2, \"favorite_count\": 1, \"score\": 2, \"view_count\": 2, \"days_posted\": 10}"
   ]
  },
  {
   "cell_type": "code",
   "execution_count": 29,
   "metadata": {},
   "outputs": [
    {
     "name": "stdout",
     "output_type": "stream",
     "text": [
      "CLASS_IDS  CLASSES  LOGISTIC             LOGITS               PROBABILITIES\n",
      "[1]        [u'1']   [0.919774055480957]  [2.439281702041626]  [0.08022589981555939, 0.919774055480957]\n"
     ]
    },
    {
     "name": "stderr",
     "output_type": "stream",
     "text": [
      "WARNING: /usr/local/envs/py2env/lib/python2.7/site-packages/h5py/__init__.py:36: FutureWarning: Conversion of the second argument of issubdtype from `float` to `np.floating` is deprecated. In future, it will be treated as `np.float64 == np.dtype(float).type`.\n",
      "  from ._conv import register_converters as _register_converters\n",
      "2019-05-21 17:25:52.837396: I tensorflow/core/platform/cpu_feature_guard.cc:140] Your CPU supports instructions that this TensorFlow binary was not compiled to use: AVX2 FMA\n",
      "\n"
     ]
    }
   ],
   "source": [
    "%%bash\n",
    "# This model dir is the model exported after training and is used for prediction\n",
    "#\n",
    "model_dir=$(ls ${PWD}/${TRAINING_DIR}/export/exporter | tail -1)\n",
    "# predict using the trained model\n",
    "gcloud ml-engine local predict  \\\n",
    "    --model-dir=${PWD}/${TRAINING_DIR}/export/exporter/${model_dir} \\\n",
    "    --json-instances=./test.json"
   ]
  },
  {
   "cell_type": "markdown",
   "metadata": {},
   "source": [
    "#### Stop Tensorboard\n",
    "The training directory will be deleted.  Stop the exising tensorboard before removing the directory its using."
   ]
  },
  {
   "cell_type": "code",
   "execution_count": 30,
   "metadata": {},
   "outputs": [
    {
     "name": "stdout",
     "output_type": "stream",
     "text": [
      "Stopped TensorBoard with pid 6600\n"
     ]
    }
   ],
   "source": [
    "pids_df = TensorBoard.list()\n",
    "if not pids_df.empty:\n",
    "    for pid in pids_df['pid']:\n",
    "        TensorBoard().stop(pid)\n",
    "        print('Stopped TensorBoard with pid {}'.format(pid))"
   ]
  },
  {
   "cell_type": "markdown",
   "metadata": {},
   "source": [
    "#### Clean model training dir/output dir"
   ]
  },
  {
   "cell_type": "code",
   "execution_count": 31,
   "metadata": {},
   "outputs": [],
   "source": [
    "%%bash\n",
    "# This is so that the trained model is started fresh each time. However, this needs to be done before \n",
    "# tensorboard is started\n",
    "rm -rf $PWD/${TRAINING_DIR}"
   ]
  },
  {
   "cell_type": "markdown",
   "metadata": {},
   "source": [
    "#### Restart tensorboard for monitoring"
   ]
  },
  {
   "cell_type": "code",
   "execution_count": 32,
   "metadata": {},
   "outputs": [
    {
     "data": {
      "text/html": [
       "<p>TensorBoard was started successfully with pid 9273. Click <a href=\"/_proxy/34277/\" target=\"_blank\">here</a> to access it.</p>"
      ]
     },
     "metadata": {},
     "output_type": "display_data"
    },
    {
     "data": {
      "text/plain": [
       "9273"
      ]
     },
     "execution_count": 32,
     "metadata": {},
     "output_type": "execute_result"
    }
   ],
   "source": [
    "TensorBoard().start('./'+ TRAINING_DIR)"
   ]
  },
  {
   "cell_type": "markdown",
   "metadata": {},
   "source": [
    "## Running locally using gcloud"
   ]
  },
  {
   "cell_type": "code",
   "execution_count": 33,
   "metadata": {
    "hiddenCell": true
   },
   "outputs": [
    {
     "name": "stdout",
     "output_type": "stream",
     "text": [
      "1.8.0\n",
      "[512]\n"
     ]
    },
    {
     "name": "stderr",
     "output_type": "stream",
     "text": [
      "/usr/local/envs/py2env/lib/python2.7/site-packages/h5py/__init__.py:36: FutureWarning: Conversion of the second argument of issubdtype from `float` to `np.floating` is deprecated. In future, it will be treated as `np.float64 == np.dtype(float).type`.\n",
      "  from ._conv import register_converters as _register_converters\n",
      "INFO:tensorflow:TF_CONFIG environment variable: {u'environment': u'cloud', u'cluster': {}, u'job': {u'args': [u'--train_data_paths=/content/datalab/notebooks/qwiklabs-gcp-1a8cf323172d8441', u'--eval_data_paths=/content/datalab/notebooks/qwiklabs-gcp-1a8cf323172d8441', u'--train_steps=1000', u'--output_dir=/content/datalab/notebooks/qwiklabs-gcp-1a8cf323172d8441/stackoverflow_trained'], u'job_name': u'trainer.task'}, u'task': {}}\n",
      "INFO:tensorflow:Using config: {'_save_checkpoints_secs': None, '_session_config': None, '_keep_checkpoint_max': 5, '_tf_random_seed': None, '_task_type': 'worker', '_train_distribute': None, '_is_chief': True, '_cluster_spec': <tensorflow.python.training.server_lib.ClusterSpec object at 0x7f91285e71d0>, '_model_dir': '/content/datalab/notebooks/qwiklabs-gcp-1a8cf323172d8441/stackoverflow_trained', '_num_worker_replicas': 1, '_task_id': 0, '_log_step_count_steps': 100, '_master': '', '_save_checkpoints_steps': 1000, '_keep_checkpoint_every_n_hours': 10000, '_evaluation_master': '', '_service': None, '_global_id_in_cluster': 0, '_save_summary_steps': 100, '_num_ps_replicas': 0}\n",
      "INFO:tensorflow:Running training and evaluation locally (non-distributed).\n",
      "INFO:tensorflow:Start train and evaluate loop. The evaluate will happen after 300 secs (eval_spec.throttle_secs) or training is finished.\n",
      "2019-05-21 17:28:05.329919: I tensorflow/core/platform/cpu_feature_guard.cc:140] Your CPU supports instructions that this TensorFlow binary was not compiled to use: AVX2 FMA\n",
      "INFO:tensorflow:Calling model_fn.\n",
      "INFO:tensorflow:Done calling model_fn.\n",
      "INFO:tensorflow:Create CheckpointSaverHook.\n",
      "INFO:tensorflow:Graph was finalized.\n",
      "INFO:tensorflow:Running local_init_op.\n",
      "INFO:tensorflow:Done running local_init_op.\n",
      "INFO:tensorflow:Saving checkpoints for 1 into /content/datalab/notebooks/qwiklabs-gcp-1a8cf323172d8441/stackoverflow_trained/model.ckpt.\n",
      "INFO:tensorflow:loss = 359.2786, step = 1\n",
      "INFO:tensorflow:global_step/sec: 34.522\n",
      "INFO:tensorflow:loss = 308.74466, step = 101 (2.897 sec)\n",
      "INFO:tensorflow:global_step/sec: 36.8743\n",
      "INFO:tensorflow:loss = 331.30737, step = 201 (2.713 sec)\n",
      "INFO:tensorflow:global_step/sec: 31.4828\n",
      "INFO:tensorflow:loss = 291.05035, step = 301 (3.175 sec)\n",
      "INFO:tensorflow:global_step/sec: 35.9525\n",
      "INFO:tensorflow:loss = 319.57245, step = 401 (2.781 sec)\n",
      "INFO:tensorflow:global_step/sec: 32.0522\n",
      "INFO:tensorflow:loss = 274.51007, step = 501 (3.120 sec)\n",
      "INFO:tensorflow:global_step/sec: 36.8071\n",
      "INFO:tensorflow:loss = 321.56042, step = 601 (2.717 sec)\n",
      "INFO:tensorflow:global_step/sec: 33.3677\n",
      "INFO:tensorflow:loss = 266.19196, step = 701 (2.997 sec)\n",
      "INFO:tensorflow:global_step/sec: 35.6471\n",
      "INFO:tensorflow:loss = 314.19525, step = 801 (2.805 sec)\n",
      "INFO:tensorflow:global_step/sec: 32.9722\n",
      "INFO:tensorflow:loss = 254.28354, step = 901 (3.033 sec)\n",
      "INFO:tensorflow:Saving checkpoints for 1000 into /content/datalab/notebooks/qwiklabs-gcp-1a8cf323172d8441/stackoverflow_trained/model.ckpt.\n",
      "INFO:tensorflow:Loss for final step: 311.79202.\n",
      "INFO:tensorflow:Calling model_fn.\n",
      "WARNING:tensorflow:Trapezoidal rule is known to produce incorrect PR-AUCs; please switch to \"careful_interpolation\" instead.\n",
      "WARNING:tensorflow:Trapezoidal rule is known to produce incorrect PR-AUCs; please switch to \"careful_interpolation\" instead.\n",
      "INFO:tensorflow:Done calling model_fn.\n",
      "INFO:tensorflow:Starting evaluation at 2019-05-21-17:28:37\n",
      "INFO:tensorflow:Graph was finalized.\n",
      "INFO:tensorflow:Restoring parameters from /content/datalab/notebooks/qwiklabs-gcp-1a8cf323172d8441/stackoverflow_trained/model.ckpt-1000\n",
      "INFO:tensorflow:Running local_init_op.\n",
      "INFO:tensorflow:Done running local_init_op.\n",
      "INFO:tensorflow:Finished evaluation at 2019-05-21-17:28:41\n",
      "INFO:tensorflow:Saving dict for global step 1000: accuracy = 0.6735644, accuracy_baseline = 0.5301003, auc = 0.7052343, auc_precision_recall = 0.7584983, average_loss = 0.5685803, global_step = 1000, label/mean = 0.5301003, loss = 289.3154, precision = 0.6321296, prediction/mean = 0.5120796, recall = 0.9190383\n",
      "INFO:tensorflow:Calling model_fn.\n",
      "INFO:tensorflow:Done calling model_fn.\n",
      "INFO:tensorflow:Signatures INCLUDED in export for Classify: None\n",
      "INFO:tensorflow:Signatures INCLUDED in export for Regress: None\n",
      "INFO:tensorflow:Signatures INCLUDED in export for Predict: ['predict']\n",
      "INFO:tensorflow:Signatures EXCLUDED from export because they cannot be be served via TensorFlow Serving APIs:\n",
      "INFO:tensorflow:'serving_default' : Classification input must be a single string Tensor; got {'view_count': <tf.Tensor 'Placeholder_4:0' shape=(?,) dtype=float32>, 'answer_count': <tf.Tensor 'Placeholder:0' shape=(?,) dtype=float32>, 'comment_count': <tf.Tensor 'Placeholder_1:0' shape=(?,) dtype=float32>, 'score': <tf.Tensor 'Placeholder_3:0' shape=(?,) dtype=float32>, 'days_posted': <tf.Tensor 'Placeholder_5:0' shape=(?,) dtype=float32>, 'favorite_count': <tf.Tensor 'Placeholder_2:0' shape=(?,) dtype=float32>}\n",
      "INFO:tensorflow:'regression' : Regression input must be a single string Tensor; got {'view_count': <tf.Tensor 'Placeholder_4:0' shape=(?,) dtype=float32>, 'answer_count': <tf.Tensor 'Placeholder:0' shape=(?,) dtype=float32>, 'comment_count': <tf.Tensor 'Placeholder_1:0' shape=(?,) dtype=float32>, 'score': <tf.Tensor 'Placeholder_3:0' shape=(?,) dtype=float32>, 'days_posted': <tf.Tensor 'Placeholder_5:0' shape=(?,) dtype=float32>, 'favorite_count': <tf.Tensor 'Placeholder_2:0' shape=(?,) dtype=float32>}\n",
      "INFO:tensorflow:'classification' : Classification input must be a single string Tensor; got {'view_count': <tf.Tensor 'Placeholder_4:0' shape=(?,) dtype=float32>, 'answer_count': <tf.Tensor 'Placeholder:0' shape=(?,) dtype=float32>, 'comment_count': <tf.Tensor 'Placeholder_1:0' shape=(?,) dtype=float32>, 'score': <tf.Tensor 'Placeholder_3:0' shape=(?,) dtype=float32>, 'days_posted': <tf.Tensor 'Placeholder_5:0' shape=(?,) dtype=float32>, 'favorite_count': <tf.Tensor 'Placeholder_2:0' shape=(?,) dtype=float32>}\n",
      "WARNING:tensorflow:Export includes no default signature!\n",
      "INFO:tensorflow:Restoring parameters from /content/datalab/notebooks/qwiklabs-gcp-1a8cf323172d8441/stackoverflow_trained/model.ckpt-1000\n",
      "INFO:tensorflow:Assets added to graph.\n",
      "INFO:tensorflow:No assets to write.\n",
      "INFO:tensorflow:SavedModel written to: /content/datalab/notebooks/qwiklabs-gcp-1a8cf323172d8441/stackoverflow_trained/export/exporter/temp-1558459721/saved_model.pb\n"
     ]
    }
   ],
   "source": [
    "%%bash\n",
    "# Use Cloud Machine Learning Engine to train the model in local file system\n",
    "gcloud ml-engine local train \\\n",
    "   --module-name=trainer.task \\\n",
    "   --package-path=${PWD}/${MODEL_NAME}/trainer \\\n",
    "   -- \\\n",
    "   --train_data_paths=${PWD} \\\n",
    "   --eval_data_paths=${PWD}  \\\n",
    "   --train_steps=1000 \\\n",
    "   --output_dir=${PWD}/${TRAINING_DIR} "
   ]
  },
  {
   "cell_type": "markdown",
   "metadata": {},
   "source": [
    "Use TensorBoard to examine results.  When I ran it (due to random seeds, your results will be different), the ```average_loss``` (Mean Squared Error) on the evaluation dataset was 187, meaning that the RMSE was around 13."
   ]
  },
  {
   "cell_type": "markdown",
   "metadata": {},
   "source": [
    "### Stop Tensorboard"
   ]
  },
  {
   "cell_type": "code",
   "execution_count": 34,
   "metadata": {},
   "outputs": [
    {
     "name": "stdout",
     "output_type": "stream",
     "text": [
      "Stopped TensorBoard with pid 9273\n"
     ]
    }
   ],
   "source": [
    "pids_df = TensorBoard.list()\n",
    "if not pids_df.empty:\n",
    "    for pid in pids_df['pid']:\n",
    "        TensorBoard().stop(pid)\n",
    "        print('Stopped TensorBoard with pid {}'.format(pid))"
   ]
  },
  {
   "cell_type": "markdown",
   "metadata": {},
   "source": [
    "If the above step (to stop TensorBoard) appears stalled, just move on to the next step. You don't need to wait for it to return."
   ]
  },
  {
   "cell_type": "code",
   "execution_count": 35,
   "metadata": {},
   "outputs": [
    {
     "name": "stdout",
     "output_type": "stream",
     "text": [
      "checkpoint\n",
      "eval\n",
      "events.out.tfevents.1558459686.9a7f7741b2b1\n",
      "export\n",
      "graph.pbtxt\n",
      "model.ckpt-1000.data-00000-of-00001\n",
      "model.ckpt-1000.index\n",
      "model.ckpt-1000.meta\n",
      "model.ckpt-1.data-00000-of-00001\n",
      "model.ckpt-1.index\n",
      "model.ckpt-1.meta\n"
     ]
    }
   ],
   "source": [
    "%%bash\n",
    "ls $PWD/${TRAINING_DIR}"
   ]
  },
  {
   "cell_type": "markdown",
   "metadata": {},
   "source": [
    "## Submit training job using gcloud\n",
    "\n",
    "First copy the training data to the cloud.  Then, launch a training job.\n",
    "\n",
    "After you submit the job, go to the cloud console (http://console.cloud.google.com) and select <b>Machine Learning | Jobs</b> to monitor progress.  \n",
    "\n",
    "<b>Note:</b> Don't be concerned if the notebook stalls (with a blue progress bar) or returns with an error about being unable to refresh auth tokens. This is a long-lived Cloud job and work is going on in the cloud.  Use the Cloud Console link (above) to monitor the job."
   ]
  },
  {
   "cell_type": "code",
   "execution_count": null,
   "metadata": {},
   "outputs": [],
   "source": [
    "%%bash\n",
    "# Clear Cloud Storage bucket and copy the CSV files to Cloud Storage bucket\n",
    "echo $BUCKET\n",
    "gsutil -m rm -rf gs://${BUCKET}/${MODEL_NAME}/dataset/\n",
    "gsutil -m cp ${PWD}/*.csv gs://${BUCKET}/${MODEL_NAME}/dataset/"
   ]
  },
  {
   "cell_type": "code",
   "execution_count": 36,
   "metadata": {},
   "outputs": [
    {
     "name": "stdout",
     "output_type": "stream",
     "text": [
      "gs://qwiklabs-gcp-1a8cf323172d8441/stackoverflow/dataset/stackoverflow_trained us-central1 stackoverflow_190521_173250\n"
     ]
    },
    {
     "name": "stderr",
     "output_type": "stream",
     "text": [
      "CommandException: 1 files/objects could not be removed.\n",
      "ERROR: (gcloud.ml-engine.jobs.submit.training) INVALID_ARGUMENT: Field: runtime_version Error: The specified runtime version '1.13.1' with the Python version '' is not supported or is deprecated.  Please specify a different runtime version. See https://cloud.google.com/ml-engine/docs/runtime-version-list for a list of supported versions\n",
      "- '@type': type.googleapis.com/google.rpc.BadRequest\n",
      "  fieldViolations:\n",
      "  - description: The specified runtime version '1.13.1' with the Python version ''\n",
      "      is not supported or is deprecated.  Please specify a different runtime version.\n",
      "      See https://cloud.google.com/ml-engine/docs/runtime-version-list for a list\n",
      "      of supported versions\n",
      "    field: runtime_version\n"
     ]
    }
   ],
   "source": [
    "%%bash\n",
    "OUTDIR=gs://${BUCKET}/${MODEL_NAME}/dataset/${TRAINING_DIR}\n",
    "JOBNAME=${MODEL_NAME}_$(date -u +%y%m%d_%H%M%S)\n",
    "echo $OUTDIR $REGION $JOBNAME\n",
    "# Clear the Cloud Storage Bucket used for the training job\n",
    "gsutil -m rm -rf $OUTDIR\n",
    "gcloud ml-engine jobs submit training $JOBNAME \\\n",
    "   --region=$REGION \\\n",
    "   --module-name=trainer.task \\\n",
    "   --package-path=${PWD}/${MODEL_NAME}/trainer \\\n",
    "   --job-dir=$OUTDIR \\\n",
    "   --staging-bucket=gs://$BUCKET \\\n",
    "   --scale-tier=BASIC \\\n",
    "   --runtime-version=$TFVERSION \\\n",
    "   -- \\\n",
    "   --train_data_paths=\"gs://${BUCKET}/${MODEL_NAME}/dataset\" \\\n",
    "   --eval_data_paths=\"gs://${BUCKET}/${MODEL_NAME}/dataset\"  \\\n",
    "   --output_dir=$OUTDIR \\\n",
    "   --train_steps=10000"
   ]
  },
  {
   "cell_type": "markdown",
   "metadata": {},
   "source": [
    "Don't be concerned if the notebook appears stalled (with a blue progress bar) or returns with an error about being unable to refresh auth tokens. This is a long-lived Cloud job and work is going on in the cloud. \n",
    "\n",
    "<b>Use the Cloud Console link to monitor the job and do NOT proceed until the job is done.</b>"
   ]
  },
  {
   "cell_type": "markdown",
   "metadata": {},
   "source": [
    "## Deploy model\n",
    "\n",
    "Find out the actual name of the subdirectory where the model is stored and use it to deploy the model.  Deploying model will take up to <b>5 minutes</b>."
   ]
  },
  {
   "cell_type": "code",
   "execution_count": null,
   "metadata": {},
   "outputs": [],
   "source": [
    "%%bash\n",
    "gsutil ls gs://${BUCKET}/${MODEL_NAME}/smallinput/${TRAINING_DIR}/export/exporter"
   ]
  },
  {
   "cell_type": "markdown",
   "metadata": {},
   "source": [
    "#### Deploy model : step 1 - remove version info \n",
    "Before an existing cloud model can be removed, it must have any version info removed.  If an existing model does not exist, this command will generate an error but that is ok."
   ]
  },
  {
   "cell_type": "code",
   "execution_count": null,
   "metadata": {},
   "outputs": [],
   "source": [
    "%%bash\n",
    "MODEL_LOCATION=$(gsutil ls gs://${BUCKET}/${MODEL_NAME}/smallinput/${TRAINING_DIR}/export/exporter | tail -1)\n",
    "\n",
    "echo \"MODEL_LOCATION = ${MODEL_LOCATION}\"\n",
    "\n",
    "gcloud ml-engine versions delete ${MODEL_VERSION} --model ${MODEL_NAME}"
   ]
  },
  {
   "cell_type": "markdown",
   "metadata": {},
   "source": [
    "#### Deploy model: step 2 - remove existing model\n",
    "Now that the version info is removed from an existing model, the actual model can be removed.  If an existing model is not deployed, this command will generate an error but that is ok.  It just means the model with the given name is not deployed."
   ]
  },
  {
   "cell_type": "code",
   "execution_count": null,
   "metadata": {},
   "outputs": [],
   "source": [
    "%%bash\n",
    "gcloud ml-engine models delete ${MODEL_NAME}"
   ]
  },
  {
   "cell_type": "markdown",
   "metadata": {},
   "source": [
    "#### Deploy model: step 3 - deploy new model"
   ]
  },
  {
   "cell_type": "code",
   "execution_count": null,
   "metadata": {},
   "outputs": [],
   "source": [
    "%%bash\n",
    "gcloud ml-engine models create ${MODEL_NAME} --regions $REGION"
   ]
  },
  {
   "cell_type": "markdown",
   "metadata": {},
   "source": [
    "#### Deploy model: step 4 - add version info to the new model"
   ]
  },
  {
   "cell_type": "code",
   "execution_count": null,
   "metadata": {},
   "outputs": [],
   "source": [
    "%%bash\n",
    "MODEL_LOCATION=$(gsutil ls gs://${BUCKET}/${MODEL_NAME}/smallinput/${TRAINING_DIR}/export/exporter | tail -1)\n",
    "\n",
    "echo \"MODEL_LOCATION = ${MODEL_LOCATION}\"\n",
    "\n",
    "gcloud ml-engine versions create ${MODEL_VERSION} --model ${MODEL_NAME} --origin ${MODEL_LOCATION} --runtime-version $TFVERSION"
   ]
  },
  {
   "cell_type": "markdown",
   "metadata": {},
   "source": [
    "## Prediction"
   ]
  },
  {
   "cell_type": "code",
   "execution_count": null,
   "metadata": {},
   "outputs": [],
   "source": [
    "%%bash\n",
    "gcloud ml-engine predict --model=${MODEL_NAME} --version=${MODEL_VERSION} --json-instances=./test.json"
   ]
  },
  {
   "cell_type": "code",
   "execution_count": null,
   "metadata": {},
   "outputs": [],
   "source": [
    "from googleapiclient import discovery\n",
    "from oauth2client.client import GoogleCredentials\n",
    "import json\n",
    "\n",
    "credentials = GoogleCredentials.get_application_default()\n",
    "api = discovery.build('ml', 'v1', credentials=credentials,\n",
    "            discoveryServiceUrl='https://storage.googleapis.com/cloud-ml/discovery/ml_v1_discovery.json')\n",
    "\n",
    "request_data = {'instances':\n",
    "  [\n",
    "      {\n",
    "        'pickuplon': -73.885262,\n",
    "        'pickuplat': 40.773008,\n",
    "        'dropofflon': -73.987232,\n",
    "        'dropofflat': 40.732403,\n",
    "        'passengers': 2,\n",
    "      }\n",
    "  ]\n",
    "}\n",
    "\n",
    "parent = 'projects/%s/models/%s/versions/%s' % (PROJECT, MODEL_NAME, MODEL_VERSION)\n",
    "response = api.projects().predict(body=request_data, name=parent).execute()\n",
    "print \"response={0}\".format(response)"
   ]
  },
  {
   "cell_type": "markdown",
   "metadata": {},
   "source": [
    "## Train on larger dataset\n",
    "\n",
    "I have already followed the steps below and the files are already available. <b> You don't need to do the steps in this comment. </b> In the next chapter (on feature engineering), we will avoid all this manual processing by using Cloud Dataflow.\n",
    "\n",
    "Go to http://bigquery.cloud.google.com/ and type the query:\n",
    "<pre>\n",
    "SELECT\n",
    "  (tolls_amount + fare_amount) AS fare_amount,\n",
    "  pickup_longitude AS pickuplon,\n",
    "  pickup_latitude AS pickuplat,\n",
    "  dropoff_longitude AS dropofflon,\n",
    "  dropoff_latitude AS dropofflat,\n",
    "  passenger_count*1.0 AS passengers,\n",
    "  'nokeyindata' AS key\n",
    "FROM\n",
    "  [nyc-tlc:yellow.trips]\n",
    "WHERE\n",
    "  trip_distance > 0\n",
    "  AND fare_amount >= 2.5\n",
    "  AND pickup_longitude > -78\n",
    "  AND pickup_longitude < -70\n",
    "  AND dropoff_longitude > -78\n",
    "  AND dropoff_longitude < -70\n",
    "  AND pickup_latitude > 37\n",
    "  AND pickup_latitude < 45\n",
    "  AND dropoff_latitude > 37\n",
    "  AND dropoff_latitude < 45\n",
    "  AND passenger_count > 0\n",
    "  AND ABS(HASH(pickup_datetime)) % 1000 == 1\n",
    "</pre>\n",
    "\n",
    "Note that this is now 1,000,000 rows (i.e. 100x the original dataset).  Export this to CSV using the following steps (Note that <b>I have already done this and made the resulting GCS data publicly available</b>, so you don't need to do it.):\n",
    "<ol>\n",
    "<li> Click on the \"Save As Table\" button and note down the name of the dataset and table.\n",
    "<li> On the BigQuery console, find the newly exported table in the left-hand-side menu, and click on the name.\n",
    "<li> Click on \"Export Table\"\n",
    "<li> Supply your bucket name and give it the name train.csv (for example: gs://cloud-training-demos-ml/taxifare/ch3/train.csv). Note down what this is.  Wait for the job to finish (look at the \"Job History\" on the left-hand-side menu)\n",
    "<li> In the query above, change the final \"== 1\" to \"== 2\" and export this to Cloud Storage as valid.csv (e.g.  gs://cloud-training-demos-ml/taxifare/ch3/valid.csv)\n",
    "<li> Download the two files, remove the header line and upload it back to GCS.\n",
    "</ol>\n",
    "\n",
    "<p/>\n",
    "<p/>\n",
    "\n",
    "## Run Cloud training on 1-million row dataset\n",
    "\n",
    "This took 60 minutes and uses as input 1-million rows.  The model is exactly the same as above. The only changes are to the input (to use the larger dataset) and to the Cloud MLE tier (to use STANDARD_1 instead of BASIC -- STANDARD_1 is approximately 10x more powerful than BASIC).  At the end of the training the loss was 32, but the RMSE (calculated on the validation dataset) was stubbornly at 9.03. So, simply adding more data doesn't help."
   ]
  },
  {
   "cell_type": "code",
   "execution_count": null,
   "metadata": {},
   "outputs": [],
   "source": [
    "%%bash\n",
    "\n",
    "XXXXX  this takes 60 minutes. if you are sure you want to run it, then remove this line.\n",
    "\n",
    "OUTDIR=gs://${BUCKET}/${MODEL_NAME}/${TRAINING_DIR}\n",
    "JOBNAME=${MODEL_NAME}_$(date -u +%y%m%d_%H%M%S)\n",
    "CRS_BUCKET=cloud-training-demos # use the already exported data\n",
    "echo $OUTDIR $REGION $JOBNAME\n",
    "gsutil -m rm -rf $OUTDIR\n",
    "gcloud ml-engine jobs submit training $JOBNAME \\\n",
    "   --region=$REGION \\\n",
    "   --module-name=trainer.task \\\n",
    "   --package-path=${PWD}/${MODEL_NAME}/trainer \\\n",
    "   --job-dir=$OUTDIR \\\n",
    "   --staging-bucket=gs://$BUCKET \\\n",
    "   --scale-tier=STANDARD_1 \\\n",
    "   --runtime-version=$TFVERSION \\\n",
    "   -- \\\n",
    "   --train_data_paths=\"gs://${CRS_BUCKET}/${MODEL_NAME}/ch3/train.csv\" \\\n",
    "   --eval_data_paths=\"gs://${CRS_BUCKET}/${MODEL_NAME}/ch3/valid.csv\"  \\\n",
    "   --output_dir=$OUTDIR \\\n",
    "   --train_steps=100000   "
   ]
  },
  {
   "cell_type": "markdown",
   "metadata": {},
   "source": [
    "## Challenge Exercise\n",
    "\n",
    "Modify your solution to the challenge exercise in d_trainandevaluate.ipynb appropriately. Make sure that you implement training and deployment. Increase the size of your dataset by 10x since you are running on the cloud. Does your accuracy improve?"
   ]
  },
  {
   "cell_type": "markdown",
   "metadata": {},
   "source": [
    "### Clean-up"
   ]
  },
  {
   "cell_type": "markdown",
   "metadata": {},
   "source": [
    "#### Delete Model : step 1 - remove version info \n",
    "Before an existing cloud model can be removed, it must have any version info removed.  "
   ]
  },
  {
   "cell_type": "code",
   "execution_count": null,
   "metadata": {},
   "outputs": [],
   "source": [
    "%%bash\n",
    "gcloud ml-engine versions delete ${MODEL_VERSION} --model ${MODEL_NAME}"
   ]
  },
  {
   "cell_type": "markdown",
   "metadata": {},
   "source": [
    "#### Delete model: step 2 - remove existing model\n",
    "Now that the version info is removed from an existing model, the actual model can be removed.  "
   ]
  },
  {
   "cell_type": "code",
   "execution_count": null,
   "metadata": {},
   "outputs": [],
   "source": [
    "%%bash\n",
    "gcloud ml-engine models delete ${MODEL_NAME}"
   ]
  },
  {
   "cell_type": "markdown",
   "metadata": {},
   "source": [
    "Copyright 2016 Google Inc. Licensed under the Apache License, Version 2.0 (the \"License\"); you may not use this file except in compliance with the License. You may obtain a copy of the License at http://www.apache.org/licenses/LICENSE-2.0 Unless required by applicable law or agreed to in writing, software distributed under the License is distributed on an \"AS IS\" BASIS, WITHOUT WARRANTIES OR CONDITIONS OF ANY KIND, either express or implied. See the License for the specific language governing permissions and limitations under the License"
   ]
  }
 ],
 "metadata": {
  "kernelspec": {
   "display_name": "Python 2",
   "language": "python",
   "name": "python2"
  },
  "language_info": {
   "codemirror_mode": {
    "name": "ipython",
    "version": 2
   },
   "file_extension": ".py",
   "mimetype": "text/x-python",
   "name": "python",
   "nbconvert_exporter": "python",
   "pygments_lexer": "ipython2",
   "version": "2.7.15"
  }
 },
 "nbformat": 4,
 "nbformat_minor": 1
}
