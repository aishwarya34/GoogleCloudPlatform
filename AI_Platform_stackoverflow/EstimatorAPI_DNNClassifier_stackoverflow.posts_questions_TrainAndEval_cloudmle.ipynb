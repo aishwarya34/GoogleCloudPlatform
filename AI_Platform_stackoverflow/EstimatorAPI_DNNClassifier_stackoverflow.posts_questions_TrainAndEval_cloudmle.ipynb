{
 "cells": [
  {
   "cell_type": "markdown",
   "metadata": {},
   "source": [
    "# Scaling up ML using Cloud ML Engine\n",
    "\n",
    "In this notebook, we take a previously developed TensorFlow model to predict taxifare rides and package it up so that it can be run in Cloud MLE. For now, we'll run this on a small dataset. The model that was developed is rather simplistic, and therefore, the accuracy of the model is not great either.  However, this notebook illustrates *how* to package up a TensorFlow model to run it within Cloud ML. \n",
    "\n",
    "Later in the course, we will look at ways to make a more effective machine learning model."
   ]
  },
  {
   "cell_type": "markdown",
   "metadata": {},
   "source": [
    "## Environment variables for project and bucket\n",
    "\n",
    "Note that:\n",
    "<ol>\n",
    "<li> Your project id is the *unique* string that identifies your project (not the project name). You can find this from the GCP Console dashboard's Home page.  My dashboard reads:  <b>Project ID:</b> cloud-training-demos </li>\n",
    "<li> Cloud training often involves saving and restoring model files. If you don't have a bucket already, I suggest that you create one from the GCP console (because it will dynamically check whether the bucket name you want is available). A common pattern is to prefix the bucket name by the project id, so that it is unique. Also, for cost reasons, you might want to use a single region bucket. </li>\n",
    "</ol>\n",
    "<b>Change the cell below</b> to reflect your Project ID and bucket name.\n"
   ]
  },
  {
   "cell_type": "code",
   "execution_count": 1,
   "metadata": {},
   "outputs": [],
   "source": [
    "import os\n",
    "PROJECT = 'qwiklabs-gcp-12b4b0f730830df4' # REPLACE WITH YOUR PROJECT ID\n",
    "BUCKET = 'qwiklabs-gcp-12b4b0f730830df4' # REPLACE WITH YOUR BUCKET NAME\n",
    "REGION = 'us-central1' # REPLACE WITH YOUR BUCKET REGION e.g. us-central1"
   ]
  },
  {
   "cell_type": "code",
   "execution_count": 2,
   "metadata": {},
   "outputs": [],
   "source": [
    "# For Python Code\n",
    "# Model Info\n",
    "MODEL_NAME = 'stackoverflow'\n",
    "# Model Version\n",
    "MODEL_VERSION = 'v1'\n",
    "# Training Directory name\n",
    "TRAINING_DIR = 'stackoverflow_trained'"
   ]
  },
  {
   "cell_type": "code",
   "execution_count": 21,
   "metadata": {},
   "outputs": [],
   "source": [
    "# For Bash Code\n",
    "os.environ['PROJECT'] = PROJECT\n",
    "os.environ['BUCKET'] = BUCKET\n",
    "os.environ['REGION'] = REGION\n",
    "os.environ['MODEL_NAME'] = MODEL_NAME\n",
    "os.environ['MODEL_VERSION'] = MODEL_VERSION\n",
    "os.environ['TRAINING_DIR'] = TRAINING_DIR \n",
    "os.environ['TFVERSION'] = '1.8'  # Tensorflow version"
   ]
  },
  {
   "cell_type": "code",
   "execution_count": 4,
   "metadata": {},
   "outputs": [
    {
     "name": "stderr",
     "output_type": "stream",
     "text": [
      "Updated property [core/project].\n",
      "Updated property [compute/region].\n"
     ]
    }
   ],
   "source": [
    "%%bash\n",
    "gcloud config set project $PROJECT\n",
    "gcloud config set compute/region $REGION"
   ]
  },
  {
   "cell_type": "markdown",
   "metadata": {},
   "source": [
    "### Create the bucket to store model and training data for deploying to Google Cloud Machine Learning Engine Component"
   ]
  },
  {
   "cell_type": "code",
   "execution_count": 5,
   "metadata": {},
   "outputs": [
    {
     "name": "stderr",
     "output_type": "stream",
     "text": [
      "Creating gs://qwiklabs-gcp-12b4b0f730830df4/...\n",
      "ServiceException: 409 Bucket qwiklabs-gcp-12b4b0f730830df4 already exists.\n"
     ]
    }
   ],
   "source": [
    "%%bash\n",
    "# The bucket needs to exist for the gsutil commands in next cell to work\n",
    "gsutil mb -p ${PROJECT} gs://${BUCKET}"
   ]
  },
  {
   "cell_type": "markdown",
   "metadata": {},
   "source": [
    "### Enable the Cloud Machine Learning Engine API"
   ]
  },
  {
   "cell_type": "markdown",
   "metadata": {},
   "source": [
    "The next command works with Cloud Machine Learning Engine API.  In order for the command to work, you must enable the API using the Cloud Console UI.   Use this [link.](https://console.cloud.google.com/project/_/apis/library)  Then search the API list for Cloud Machine Learning and enable the API before executing the next cell."
   ]
  },
  {
   "cell_type": "markdown",
   "metadata": {},
   "source": [
    "Allow the Cloud ML Engine service account to read/write to the bucket containing training data."
   ]
  },
  {
   "cell_type": "code",
   "execution_count": 6,
   "metadata": {},
   "outputs": [
    {
     "name": "stdout",
     "output_type": "stream",
     "text": [
      "Getting the service account email associated with the Cloud Machine Learning Engine API\n",
      "Authorizing the Cloud ML Service account service-40233307502@cloud-ml.google.com.iam.gserviceaccount.com to access files in qwiklabs-gcp-12b4b0f730830df4\n"
     ]
    },
    {
     "name": "stderr",
     "output_type": "stream",
     "text": [
      "  % Total    % Received % Xferd  Average Speed   Time    Time     Time  Current\n",
      "                                 Dload  Upload   Total   Spent    Left  Speed\n",
      "\r",
      "  0     0    0     0    0     0      0      0 --:--:-- --:--:-- --:--:--     0\r",
      "100   234    0   234    0     0    950      0 --:--:-- --:--:-- --:--:--   951\n",
      "No changes to gs://qwiklabs-gcp-12b4b0f730830df4/\n",
      "No changes to gs://qwiklabs-gcp-12b4b0f730830df4/datalab-backups/us-central1-a/mydatalabvm/content/daily-20190521181602\n",
      "No changes to gs://qwiklabs-gcp-12b4b0f730830df4/datalab-backups/us-central1-a/mydatalabvm/content/hourly-20190521181602\n",
      "No changes to gs://qwiklabs-gcp-12b4b0f730830df4/datalab-backups/us-central1-a/mydatalabvm/content/weekly-20190521181602\n",
      "No changes to gs://qwiklabs-gcp-12b4b0f730830df4/stackoverflow/dataset/stackoverflow-test-10.csv\n",
      "No changes to gs://qwiklabs-gcp-12b4b0f730830df4/stackoverflow/dataset/stackoverflow-test-100.csv\n",
      "No changes to gs://qwiklabs-gcp-12b4b0f730830df4/stackoverflow/dataset/stackoverflow-test-20.csv\n",
      "No changes to gs://qwiklabs-gcp-12b4b0f730830df4/stackoverflow/dataset/stackoverflow-test-30.csv\n",
      "No changes to gs://qwiklabs-gcp-12b4b0f730830df4/stackoverflow/dataset/stackoverflow-test-40.csv\n",
      "No changes to gs://qwiklabs-gcp-12b4b0f730830df4/stackoverflow/dataset/stackoverflow-test-50.csv\n",
      "No changes to gs://qwiklabs-gcp-12b4b0f730830df4/stackoverflow/dataset/stackoverflow-test-60.csv\n",
      "No changes to gs://qwiklabs-gcp-12b4b0f730830df4/stackoverflow/dataset/stackoverflow-test-70.csv\n",
      "No changes to gs://qwiklabs-gcp-12b4b0f730830df4/stackoverflow/dataset/stackoverflow-test-80.csv\n",
      "No changes to gs://qwiklabs-gcp-12b4b0f730830df4/stackoverflow/dataset/stackoverflow-test-90.csv\n",
      "No changes to gs://qwiklabs-gcp-12b4b0f730830df4/stackoverflow/dataset/stackoverflow-train-10.csv\n",
      "No changes to gs://qwiklabs-gcp-12b4b0f730830df4/stackoverflow/dataset/stackoverflow-train-100.csv\n",
      "No changes to gs://qwiklabs-gcp-12b4b0f730830df4/stackoverflow/dataset/stackoverflow-train-20.csv\n",
      "No changes to gs://qwiklabs-gcp-12b4b0f730830df4/stackoverflow/dataset/stackoverflow-train-30.csv\n",
      "No changes to gs://qwiklabs-gcp-12b4b0f730830df4/stackoverflow/dataset/stackoverflow-train-40.csv\n",
      "No changes to gs://qwiklabs-gcp-12b4b0f730830df4/stackoverflow/dataset/stackoverflow-train-50.csv\n",
      "No changes to gs://qwiklabs-gcp-12b4b0f730830df4/stackoverflow/dataset/stackoverflow-train-60.csv\n",
      "No changes to gs://qwiklabs-gcp-12b4b0f730830df4/stackoverflow/dataset/stackoverflow-train-70.csv\n",
      "No changes to gs://qwiklabs-gcp-12b4b0f730830df4/stackoverflow/dataset/stackoverflow-train-80.csv\n",
      "No changes to gs://qwiklabs-gcp-12b4b0f730830df4/stackoverflow/dataset/stackoverflow-train-90.csv\n",
      "No changes to gs://qwiklabs-gcp-12b4b0f730830df4/stackoverflow/dataset/stackoverflow-valid-10.csv\n",
      "No changes to gs://qwiklabs-gcp-12b4b0f730830df4/stackoverflow/dataset/stackoverflow-valid-100.csv\n",
      "No changes to gs://qwiklabs-gcp-12b4b0f730830df4/stackoverflow/dataset/stackoverflow-valid-20.csv\n",
      "No changes to gs://qwiklabs-gcp-12b4b0f730830df4/stackoverflow/dataset/stackoverflow-valid-30.csv\n",
      "No changes to gs://qwiklabs-gcp-12b4b0f730830df4/stackoverflow/dataset/stackoverflow-valid-40.csv\n",
      "No changes to gs://qwiklabs-gcp-12b4b0f730830df4/stackoverflow/dataset/stackoverflow-valid-50.csv\n",
      "No changes to gs://qwiklabs-gcp-12b4b0f730830df4/stackoverflow/dataset/stackoverflow-valid-60.csv\n",
      "No changes to gs://qwiklabs-gcp-12b4b0f730830df4/stackoverflow/dataset/stackoverflow-valid-70.csv\n",
      "No changes to gs://qwiklabs-gcp-12b4b0f730830df4/stackoverflow/dataset/stackoverflow-valid-80.csv\n",
      "No changes to gs://qwiklabs-gcp-12b4b0f730830df4/stackoverflow/dataset/stackoverflow-valid-90.csv\n",
      "No changes to gs://qwiklabs-gcp-12b4b0f730830df4/stackoverflow/trainer/__init__.py\n",
      "No changes to gs://qwiklabs-gcp-12b4b0f730830df4/stackoverflow/trainer/model.py\n",
      "No changes to gs://qwiklabs-gcp-12b4b0f730830df4/stackoverflow/trainer/task.py\n",
      "No changes to gs://qwiklabs-gcp-12b4b0f730830df4/stackoverflow_190521_183918/f0bf33b211dfb5bee1bf8e5748649468ce74e591d390550b33013dd77b5aa024/trainer-0.0.0.tar.gz\n",
      "No changes to gs://qwiklabs-gcp-12b4b0f730830df4/\n"
     ]
    }
   ],
   "source": [
    "%%bash\n",
    "# This command will fail if the Cloud Machine Learning Engine API is not enabled using the link above.\n",
    "echo \"Getting the service account email associated with the Cloud Machine Learning Engine API\"\n",
    "\n",
    "AUTH_TOKEN=$(gcloud auth print-access-token)\n",
    "SVC_ACCOUNT=$(curl -X GET -H \"Content-Type: application/json\" \\\n",
    "    -H \"Authorization: Bearer $AUTH_TOKEN\" \\\n",
    "    https://ml.googleapis.com/v1/projects/${PROJECT}:getConfig \\\n",
    "    | python -c \"import json; import sys; response = json.load(sys.stdin); \\\n",
    "    print (response['serviceAccount'])\")  # If this command fails, the Cloud Machine Learning Engine API has not been enabled above.\n",
    "\n",
    "echo \"Authorizing the Cloud ML Service account $SVC_ACCOUNT to access files in $BUCKET\"\n",
    "gsutil -m defacl ch -u $SVC_ACCOUNT:R gs://$BUCKET   \n",
    "gsutil -m acl ch -u $SVC_ACCOUNT:R -r gs://$BUCKET   # error message (if bucket is empty) can be ignored.  \n",
    "gsutil -m acl ch -u $SVC_ACCOUNT:W gs://$BUCKET      "
   ]
  },
  {
   "cell_type": "markdown",
   "metadata": {},
   "source": [
    "## Packaging up the code\n",
    "\n",
    "Take your code and put into a standard Python package structure.  <a href=\"taxifare/trainer/model.py\">model.py</a> and <a href=\"taxifare/trainer/task.py\">task.py</a> containing the Tensorflow code from earlier (explore the <a href=\"taxifare/trainer/\">directory structure</a>)."
   ]
  },
  {
   "cell_type": "code",
   "execution_count": 7,
   "metadata": {},
   "outputs": [
    {
     "name": "stdout",
     "output_type": "stream",
     "text": [
      "stackoverflow\n",
      "stackoverflow/trainer\n",
      "stackoverflow/trainer/__init__.py\n",
      "stackoverflow/trainer/task.py\n",
      "stackoverflow/trainer/model.py\n",
      "stackoverflow/trainer/model.pyc\n",
      "stackoverflow/trainer/__init__.pyc\n"
     ]
    }
   ],
   "source": [
    "%%bash\n",
    "find ${MODEL_NAME}"
   ]
  },
  {
   "cell_type": "code",
   "execution_count": 8,
   "metadata": {},
   "outputs": [
    {
     "name": "stdout",
     "output_type": "stream",
     "text": [
      "#tf.estimator modeling\n",
      "\n",
      "from __future__ import absolute_import\n",
      "from __future__ import division\n",
      "from __future__ import print_function\n",
      "\n",
      "\n",
      "import tensorflow as tf\n",
      "import pandas as pd\n",
      "import shutil\n",
      "from google.datalab.ml import TensorBoard\n",
      "\n",
      "print(tf.__version__)\n",
      "tf.logging.set_verbosity(tf.logging.INFO)\n",
      "\n",
      "\n",
      "CSV_COLUMNS = ['accepted', 'answer_count', 'comment_count', 'favorite_count', 'score', 'view_count', 'days_posted']\n",
      "DEFAULTS = [[0], [0.0], [0.0], [0.0], [0.0], [0.0], [0.0]]\n",
      "\n",
      "#DEFAULTS = [tf.constant([0], dtype=tf.int32),\n",
      "#            tf.constant([0.0], dtype=tf.float32),\n",
      "#            tf.constant([0.0], dtype=tf.float32),\n",
      "#           tf.constant([0.0], dtype=tf.float32),\n",
      "#            tf.constant([0.0], dtype=tf.float32),\n",
      "#            tf.constant([0.0], dtype=tf.float32),\n",
      "#            tf.constant([0.0], dtype=tf.float32) ]\n",
      "\n",
      "#i=0\n",
      "def read_dataset(filename, mode, batch_size = 512):\n",
      "    def decode_line(row):\n",
      "        #print(row)\n",
      "        cols = tf.decode_csv(row, record_defaults = DEFAULTS)\n",
      "        #print(cols)\n",
      "        features = dict(zip(CSV_COLUMNS,cols))\n",
      "        #print(i+1)\n",
      "        label = features.pop('accepted')  # remove label from features and store\n",
      "        #print(\"features: {} \\n label: {}\".format(features, label))\n",
      "        return features, label\n",
      "  \n",
      "    # Create list of file names that match \"glob\" pattern (i.e. data_file_*.csv)\n",
      "    filenames_dataset = tf.data.Dataset.list_files(filename, shuffle=False)\n",
      "    # Read lines from text files\n",
      "    #textlines_dataset = filenames_dataset.flat_map(tf.data.TextLineDataset).skip(1)\n",
      "    textlines_dataset = filenames_dataset.flat_map(tf.data.TextLineDataset)\n",
      "    # Parse text lines as comma-separated values (CSV)\n",
      "    dataset = textlines_dataset.map(decode_line)\n",
      "  \n",
      "  # Note:\n",
      "  # use tf.data.Dataset.flat_map to apply one to many transformations (here: filename -> text lines)\n",
      "  # use tf.data.Dataset.map      to apply one to one  transformations (here: text line -> feature list)\n",
      "  \n",
      "    if(mode == tf.estimator.ModeKeys.TRAIN):\n",
      "        num_epochs = 10  # loop indefinitely\n",
      "        dataset = dataset.shuffle(buffer_size = 10*batch_size, seed=2)\n",
      "    else:\n",
      "        num_epochs = 1\n",
      "  \n",
      "    dataset = dataset.repeat(num_epochs).batch(batch_size)\n",
      "    return dataset\n",
      "\n",
      "  \n",
      "def get_train_input_fn(folder_name):\n",
      "    dataset = read_dataset(folder_name + '/stackoverflow-train-*.csv', tf.estimator.ModeKeys.TRAIN)\n",
      "    features1, label1 = dataset.make_one_shot_iterator().get_next()\n",
      "    #print(\"Training set :  \\nfeatures1 : {}\\nlabel: {}\".format(features1, label1))\n",
      "    with tf.Session() as sess:\n",
      "        print(sess.run(tf.shape(label1))) # output: [ 0.42116176  0.40666069]\n",
      "    return features1, label1 \n",
      "\n",
      "def get_valid_input_fn(folder_name):\n",
      "    dataset = read_dataset(folder_name + '/stackoverflow-valid-*.csv', tf.estimator.ModeKeys.EVAL)\n",
      "    features1, label1 = dataset.make_one_shot_iterator().get_next()\n",
      "    return features1, label1 \n",
      "\n",
      "def get_test_input_fn(folder_name):\n",
      "    dataset = read_dataset(folder_name + '/stackoverflow-test-*.csv', tf.estimator.ModeKeys.PREDICT)\n",
      "    features1, label1 = dataset.make_one_shot_iterator().get_next()\n",
      "    with tf.Session() as sess:\n",
      "        print(sess.run(tf.shape(label1))) # output: [ 0.42116176  0.40666069]\n",
      "    return features1, label1 \n",
      "\n",
      "\n",
      "#get_train_input_fn()\n",
      "FEATURE_NAMES = CSV_COLUMNS[1:]\n",
      "LABEL_NAME = CSV_COLUMNS[0]\n",
      "\n",
      "featcols = [ tf.feature_column.numeric_column(feat) for feat in  FEATURE_NAMES ]\n",
      "#print(featcols)\n",
      "\n",
      "def serving_input_fn():\n",
      "  \n",
      "    json_features_placeholder = {\n",
      "        'answer_count' : tf.placeholder(tf.float32, [None]), #Batch size\n",
      "        'comment_count' : tf.placeholder(tf.float32, [None]), \n",
      "        'favorite_count' : tf.placeholder(tf.float32, [None]), \n",
      "        'score' : tf.placeholder(tf.float32, [None]), \n",
      "        'view_count' : tf.placeholder(tf.float32, [None]),  \n",
      "        'days_posted' : tf.placeholder(tf.float32, [None])\n",
      "    }\n",
      "  \n",
      "    features = json_features_placeholder\n",
      "  \n",
      "    return tf.estimator.export.ServingInputReceiver(features, json_features_placeholder)\n",
      "\n",
      "## Create train and evaluate function using tf.estimator\n",
      "def train_and_evaluate(args):\n",
      "    tf.summary.FileWriterCache.clear() # ensure filewriter cache is clear for TensorBoard events file\n",
      "    \n",
      "    run_config = tf.estimator.RunConfig(model_dir = args['output_dir'], save_summary_steps = 100, save_checkpoints_steps = 1000)\n",
      "  \n",
      "    estimator = tf.estimator.DNNClassifier(\n",
      "        hidden_units =  args['hidden_units'],    #[1024, 512, 128, 32],  # specify neural architecture\n",
      "        feature_columns = featcols,\n",
      "        n_classes=2,\n",
      "        optimizer = tf.train.AdamOptimizer(learning_rate=0.001),\n",
      "        #model_dir = OUTDIR,\n",
      "        config = run_config \n",
      "    )\n",
      "  \n",
      "    train_spec = tf.estimator.TrainSpec(input_fn = lambda : get_train_input_fn(args['train_data_paths']), max_steps = args['train_steps'])\n",
      "  \n",
      "    exporter_latest =  tf.estimator.LatestExporter('exporter', serving_input_receiver_fn = serving_input_fn)\n",
      "  \n",
      "    eval_spec = tf.estimator.EvalSpec(input_fn = lambda : get_valid_input_fn(args['eval_data_paths']), \n",
      "                                   steps = None,\n",
      "                                   start_delay_secs = args['eval_delay_secs'], # start evaluating after N seconds\n",
      "                                   throttle_secs = args['throttle_secs'],   # evaluate every N seconds\n",
      "                                   exporters = exporter_latest)\n",
      "\n",
      "    tf.estimator.train_and_evaluate(estimator, train_spec, eval_spec)"
     ]
    }
   ],
   "source": [
    "%%bash\n",
    "cat ${MODEL_NAME}/trainer/model.py"
   ]
  },
  {
   "cell_type": "markdown",
   "metadata": {},
   "source": [
    "## Running the Python module from the command-line"
   ]
  },
  {
   "cell_type": "markdown",
   "metadata": {},
   "source": [
    "#### Clean model training dir/output dir"
   ]
  },
  {
   "cell_type": "code",
   "execution_count": 9,
   "metadata": {},
   "outputs": [],
   "source": [
    "%%bash\n",
    "# This is so that the trained model is started fresh each time. However, this needs to be done before \n",
    "# tensorboard is started\n",
    "rm -rf $PWD/${TRAINING_DIR}"
   ]
  },
  {
   "cell_type": "code",
   "execution_count": 22,
   "metadata": {},
   "outputs": [
    {
     "name": "stdout",
     "output_type": "stream",
     "text": [
      "Wrote 10186 to stackoverflow-train-10.csv\n",
      "Wrote 10333 to stackoverflow-train-20.csv\n",
      "Wrote 10426 to stackoverflow-train-30.csv\n",
      "Wrote 10260 to stackoverflow-train-40.csv\n",
      "Wrote 10298 to stackoverflow-train-50.csv\n",
      "Wrote 10401 to stackoverflow-train-60.csv\n",
      "Wrote 10276 to stackoverflow-train-70.csv\n",
      "Wrote 10249 to stackoverflow-train-80.csv\n",
      "Wrote 10291 to stackoverflow-train-90.csv\n",
      "Wrote 10332 to stackoverflow-train-100.csv\n",
      "Wrote 3500 to stackoverflow-valid-10.csv\n",
      "Wrote 3453 to stackoverflow-valid-20.csv\n",
      "Wrote 3367 to stackoverflow-valid-30.csv\n",
      "Wrote 3573 to stackoverflow-valid-40.csv\n",
      "Wrote 3482 to stackoverflow-valid-50.csv\n",
      "Wrote 3476 to stackoverflow-valid-60.csv\n",
      "Wrote 3431 to stackoverflow-valid-70.csv\n",
      "Wrote 3496 to stackoverflow-valid-80.csv\n",
      "Wrote 3469 to stackoverflow-valid-90.csv\n",
      "Wrote 3354 to stackoverflow-valid-100.csv\n",
      "Wrote 3352 to stackoverflow-test-10.csv\n",
      "Wrote 3476 to stackoverflow-test-20.csv\n",
      "Wrote 3439 to stackoverflow-test-30.csv\n",
      "Wrote 3408 to stackoverflow-test-40.csv\n",
      "Wrote 3571 to stackoverflow-test-50.csv\n",
      "Wrote 3454 to stackoverflow-test-60.csv\n",
      "Wrote 3441 to stackoverflow-test-70.csv\n",
      "Wrote 3594 to stackoverflow-test-80.csv\n",
      "Wrote 3441 to stackoverflow-test-90.csv\n",
      "Wrote 3405 to stackoverflow-test-100.csv\n"
     ]
    }
   ],
   "source": [
    "import google.datalab.bigquery as bq\n",
    "import pandas as pd\n",
    "import numpy as np\n",
    "import seaborn as sns\n",
    "import shutil\n",
    "\n",
    "def sample_between(a, b, shredstart):\n",
    "  basequery = \"\"\"\n",
    "  SELECT \n",
    "    answer_count, comment_count, favorite_count,  score, view_count,\n",
    "    TIMESTAMP_DIFF(last_activity_date, creation_date, DAY) as days_posted,\n",
    "    IF(accepted_answer_id IS NULL , 0, 1 ) as accepted\n",
    "  FROM \n",
    "    `bigquery-public-data.stackoverflow.posts_questions`\n",
    "  \"\"\"\n",
    "  \n",
    "  # Use sampling for initial model development. Once model is developed, shread the entire dataset into  .csv files based on condition in the sampler.\n",
    "  sampler = \"WHERE MOD(ABS(FARM_FINGERPRINT(CAST(id as STRING))), EVERY_N * 100) < {1} AND MOD(ABS(FARM_FINGERPRINT(CAST(id as STRING))), EVERY_N * 100) >= {0}\".format(\n",
    "            shredstart, shredstart + 10\n",
    "            )\n",
    "  sampler2 = \"AND {0} >= {1}\\n AND {0} < {2}\".format(\n",
    "           \"MOD(ABS(FARM_FINGERPRINT(CAST(id AS STRING))), EVERY_N * 100) * {}\".format(10),\n",
    "           (shredstart*10)+a, (shredstart*10)+b\n",
    "          )\n",
    "  return \"{}\\n{}\\n{}\".format(basequery, sampler, sampler2)\n",
    "\n",
    "\n",
    "def create_query(phase, EVERY_N, shredstart):\n",
    "  \"\"\"Phase: train (70%) valid (15%) or test (15%)\"\"\"\n",
    "  query = \"\"\n",
    "  if phase == 'train':\n",
    "    query = sample_between(0,60, shredstart)\n",
    "  elif phase == 'valid':\n",
    "    query = sample_between(60,75, shredstart)\n",
    "  else:\n",
    "    query = sample_between(75, 100, shredstart)\n",
    "  return query.replace(\"EVERY_N\", str(EVERY_N))\n",
    "\n",
    "#print(create_query('train', 100))\n",
    "#(answer_count - AVG(answer_count)) / STDDEV_POP(answer_count)  as answer_count,\n",
    "#IF(accepted_answer_id IS NULL , cast(0 as int64), cast(1 as int64)) as accepted\n",
    "\n",
    "def to_csv(df, filename):\n",
    "  outdf = df.copy(deep = True)\n",
    "  #outdf.loc[:, 'key'] = np.arange(0, len(outdf)) # rownumber as key\n",
    "  # Reorder columns so that target is first column\n",
    "  #print(outdf.head())\n",
    "  #print(df.head())\n",
    "  cols = outdf.columns.tolist()\n",
    "  #print(cols)\n",
    "  cols.remove('accepted')\n",
    "  cols.insert(0, 'accepted')\n",
    "  #print(cols)\n",
    "  outdf = outdf[cols]  \n",
    "  \n",
    "  \n",
    "  #Normalizing input columns  and replace NaN or null\n",
    "  normalize_cols = outdf.columns.tolist()\n",
    "  normalize_cols.remove('accepted')\n",
    "  for normalize_cols_name in normalize_cols:\n",
    "    outdf[normalize_cols_name].fillna(0, inplace = True)\n",
    "    outdf[normalize_cols_name] = (outdf[normalize_cols_name] - outdf[normalize_cols_name].mean())  / outdf[normalize_cols_name].std() \n",
    "  #print(outdf)\n",
    "  #print(outdf['answer_count'] )\n",
    "  outdf.to_csv(filename,  header = False, index_label = False, index = False)\n",
    "  print(\"Wrote {} to {}\".format(len(outdf), filename))\n",
    "\n",
    "for phase in ['train', 'valid', 'test']:\n",
    "  #for x in range(2):\n",
    "  for x in range(10):\n",
    "    query = create_query(phase, 100, x*10)\n",
    "    #print(query)\n",
    "    df = bq.Query(query).execute().result().to_dataframe()\n",
    "    #print(df.head())\n",
    "    to_csv(df, 'stackoverflow-{}-{}.csv'.format(phase,(x+1)*10))\n"
   ]
  },
  {
   "cell_type": "code",
   "execution_count": 11,
   "metadata": {},
   "outputs": [
    {
     "name": "stdout",
     "output_type": "stream",
     "text": [
      "qwiklabs-gcp-12b4b0f730830df4\n"
     ]
    },
    {
     "name": "stderr",
     "output_type": "stream",
     "text": [
      "CommandException: 1 files/objects could not be removed.\n",
      "Copying file:///content/datalab/notebooks/stackoverflow-test-30.csv [Content-Type=text/csv]...\n",
      "/ [0 files][    0.0 B/417.6 KiB]                                                \r",
      "Copying file:///content/datalab/notebooks/stackoverflow-test-10.csv [Content-Type=text/csv]...\n",
      "Copying file:///content/datalab/notebooks/stackoverflow-test-20.csv [Content-Type=text/csv]...\n",
      "/ [0 files][    0.0 B/824.1 KiB]                                                \r",
      "/ [0 files][    0.0 B/  1.2 MiB]                                                \r",
      "Copying file:///content/datalab/notebooks/stackoverflow-test-100.csv [Content-Type=text/csv]...\n",
      "/ [0 files][    0.0 B/  1.6 MiB]                                                \r",
      "Copying file:///content/datalab/notebooks/stackoverflow-test-40.csv [Content-Type=text/csv]...\n",
      "/ [0 files][    0.0 B/  2.0 MiB]                                                \r",
      "Copying file:///content/datalab/notebooks/stackoverflow-test-50.csv [Content-Type=text/csv]...\n",
      "/ [1/30 files][  2.0 MiB/ 20.4 MiB]   9% Done                                   \r",
      "/ [1/30 files][  2.0 MiB/ 20.4 MiB]   9% Done                                   \r",
      "/ [2/30 files][  2.0 MiB/ 20.4 MiB]   9% Done                                   \r",
      "Copying file:///content/datalab/notebooks/stackoverflow-test-60.csv [Content-Type=text/csv]...\n",
      "/ [2/30 files][  2.0 MiB/ 20.4 MiB]   9% Done                                   \r",
      "/ [3/30 files][  2.9 MiB/ 20.4 MiB]  13% Done                                   \r",
      "Copying file:///content/datalab/notebooks/stackoverflow-test-70.csv [Content-Type=text/csv]...\n",
      "/ [3/30 files][  2.9 MiB/ 20.4 MiB]  13% Done                                   \r",
      "/ [4/30 files][  2.9 MiB/ 20.4 MiB]  13% Done                                   \r",
      "/ [5/30 files][  2.9 MiB/ 20.4 MiB]  13% Done                                   \r",
      "Copying file:///content/datalab/notebooks/stackoverflow-test-80.csv [Content-Type=text/csv]...\n",
      "/ [5/30 files][  2.9 MiB/ 20.4 MiB]  13% Done                                   \r",
      "Copying file:///content/datalab/notebooks/stackoverflow-test-90.csv [Content-Type=text/csv]...\n",
      "/ [5/30 files][  3.3 MiB/ 20.4 MiB]  15% Done                                   \r",
      "-\r",
      "Copying file:///content/datalab/notebooks/stackoverflow-train-100.csv [Content-Type=text/csv]...\n",
      "- [6/30 files][  4.1 MiB/ 20.4 MiB]  20% Done                                   \r",
      "- [6/30 files][  4.1 MiB/ 20.4 MiB]  20% Done                                   \r",
      "Copying file:///content/datalab/notebooks/stackoverflow-train-10.csv [Content-Type=text/csv]...\n",
      "- [7/30 files][  5.3 MiB/ 20.4 MiB]  26% Done                                   \r",
      "- [7/30 files][  5.3 MiB/ 20.4 MiB]  26% Done                                   \r",
      "Copying file:///content/datalab/notebooks/stackoverflow-train-20.csv [Content-Type=text/csv]...\n",
      "- [8/30 files][  6.5 MiB/ 20.4 MiB]  32% Done                                   \r",
      "- [8/30 files][  6.5 MiB/ 20.4 MiB]  32% Done                                   \r",
      "Copying file:///content/datalab/notebooks/stackoverflow-train-30.csv [Content-Type=text/csv]...\n",
      "Copying file:///content/datalab/notebooks/stackoverflow-train-40.csv [Content-Type=text/csv]...\n",
      "- [9/30 files][  6.5 MiB/ 20.4 MiB]  32% Done                                   \r",
      "- [9/30 files][  6.8 MiB/ 20.4 MiB]  33% Done                                   \r",
      "- [10/30 files][  7.3 MiB/ 20.4 MiB]  35% Done                                  \r",
      "- [10/30 files][  7.7 MiB/ 20.4 MiB]  37% Done                                  \r",
      "Copying file:///content/datalab/notebooks/stackoverflow-train-50.csv [Content-Type=text/csv]...\n",
      "- [11/30 files][  7.7 MiB/ 20.4 MiB]  37% Done                                  \r",
      "- [11/30 files][  7.7 MiB/ 20.4 MiB]  37% Done                                  \r",
      "Copying file:///content/datalab/notebooks/stackoverflow-train-60.csv [Content-Type=text/csv]...\n",
      "- [12/30 files][ 11.4 MiB/ 20.4 MiB]  56% Done                                  \r",
      "- [12/30 files][ 11.4 MiB/ 20.4 MiB]  56% Done                                  \r",
      "- [13/30 files][ 11.4 MiB/ 20.4 MiB]  56% Done                                  \r",
      "Copying file:///content/datalab/notebooks/stackoverflow-train-70.csv [Content-Type=text/csv]...\n",
      "- [13/30 files][ 11.4 MiB/ 20.4 MiB]  56% Done                                  \r",
      "\\\r",
      "Copying file:///content/datalab/notebooks/stackoverflow-train-80.csv [Content-Type=text/csv]...\n",
      "\\ [14/30 files][ 13.9 MiB/ 20.4 MiB]  68% Done                                  \r",
      "\\ [14/30 files][ 13.9 MiB/ 20.4 MiB]  68% Done                                  \r",
      "Copying file:///content/datalab/notebooks/stackoverflow-train-90.csv [Content-Type=text/csv]...\n",
      "\\ [15/30 files][ 15.1 MiB/ 20.4 MiB]  73% Done                                  \r",
      "\\ [15/30 files][ 15.1 MiB/ 20.4 MiB]  73% Done                                  \r",
      "Copying file:///content/datalab/notebooks/stackoverflow-valid-100.csv [Content-Type=text/csv]...\n",
      "\\ [16/30 files][ 15.1 MiB/ 20.4 MiB]  73% Done                                  \r",
      "\\ [16/30 files][ 15.1 MiB/ 20.4 MiB]  73% Done                                  \r",
      "Copying file:///content/datalab/notebooks/stackoverflow-valid-10.csv [Content-Type=text/csv]...\n",
      "\\ [17/30 files][ 16.7 MiB/ 20.4 MiB]  81% Done                                  \r",
      "\\ [17/30 files][ 16.7 MiB/ 20.4 MiB]  81% Done                                  \r",
      "\\ [18/30 files][ 16.7 MiB/ 20.4 MiB]  81% Done                                  \r",
      "Copying file:///content/datalab/notebooks/stackoverflow-valid-20.csv [Content-Type=text/csv]...\n",
      "\\ [18/30 files][ 16.7 MiB/ 20.4 MiB]  81% Done                                  \r",
      "Copying file:///content/datalab/notebooks/stackoverflow-valid-30.csv [Content-Type=text/csv]...\n",
      "\\ [19/30 files][ 17.4 MiB/ 20.4 MiB]  85% Done                                  \r",
      "\\ [19/30 files][ 17.5 MiB/ 20.4 MiB]  85% Done                                  \r",
      "\\ [20/30 files][ 17.9 MiB/ 20.4 MiB]  87% Done                                  \r",
      "Copying file:///content/datalab/notebooks/stackoverflow-valid-40.csv [Content-Type=text/csv]...\n",
      "\\ [20/30 files][ 17.9 MiB/ 20.4 MiB]  87% Done                                  \r",
      "Copying file:///content/datalab/notebooks/stackoverflow-valid-50.csv [Content-Type=text/csv]...\n",
      "\\ [21/30 files][ 18.4 MiB/ 20.4 MiB]  89% Done                                  \r",
      "|\r",
      "| [21/30 files][ 18.4 MiB/ 20.4 MiB]  89% Done                                  \r",
      "Copying file:///content/datalab/notebooks/stackoverflow-valid-60.csv [Content-Type=text/csv]...\n",
      "| [22/30 files][ 18.4 MiB/ 20.4 MiB]  89% Done                                  \r",
      "| [22/30 files][ 18.4 MiB/ 20.4 MiB]  89% Done                                  \r",
      "| [23/30 files][ 18.4 MiB/ 20.4 MiB]  89% Done                                  \r",
      "Copying file:///content/datalab/notebooks/stackoverflow-valid-70.csv [Content-Type=text/csv]...\n",
      "| [23/30 files][ 18.4 MiB/ 20.4 MiB]  89% Done                                  \r",
      "Copying file:///content/datalab/notebooks/stackoverflow-valid-80.csv [Content-Type=text/csv]...\n",
      "Copying file:///content/datalab/notebooks/stackoverflow-valid-90.csv [Content-Type=text/csv]...\n",
      "| [24/30 files][ 19.6 MiB/ 20.4 MiB]  95% Done                                  \r",
      "| [24/30 files][ 19.6 MiB/ 20.4 MiB]  95% Done                                  \r",
      "| [25/30 files][ 19.6 MiB/ 20.4 MiB]  95% Done                                  \r",
      "| [25/30 files][ 19.6 MiB/ 20.4 MiB]  95% Done                                  \r",
      "| [26/30 files][ 20.4 MiB/ 20.4 MiB]  99% Done                                  \r",
      "| [27/30 files][ 20.4 MiB/ 20.4 MiB]  99% Done                                  \r",
      "| [28/30 files][ 20.4 MiB/ 20.4 MiB]  99% Done                                  \r",
      "| [29/30 files][ 20.4 MiB/ 20.4 MiB]  99% Done                                  \r",
      "| [30/30 files][ 20.4 MiB/ 20.4 MiB] 100% Done                                  \r\n",
      "Operation completed over 30 objects/20.4 MiB.                                    \n"
     ]
    }
   ],
   "source": [
    "%%bash\n",
    "# Clear Cloud Storage bucket and copy the CSV files to Cloud Storage bucket\n",
    "echo $BUCKET\n",
    "gsutil -m rm -rf gs://${BUCKET}/${MODEL_NAME}/dataset/\n",
    "gsutil -m cp ${PWD}/*.csv gs://${BUCKET}/${MODEL_NAME}/dataset/"
   ]
  },
  {
   "cell_type": "code",
   "execution_count": 12,
   "metadata": {},
   "outputs": [
    {
     "name": "stdout",
     "output_type": "stream",
     "text": [
      "Collecting tensorflow==1.13.1\n",
      "\u001b[?25l  Downloading https://files.pythonhosted.org/packages/ca/f2/0931c194bb98398017d52c94ee30e5e1a4082ab6af76e204856ff1fdb33e/tensorflow-1.13.1-cp35-cp35m-manylinux1_x86_64.whl (92.5MB)\n",
      "\u001b[K    100% |████████████████████████████████| 92.5MB 220kB/s eta 0:00:01  0% |▎                               | 645kB 36.1MB/s eta 0:00:03    4% |█▎                              | 3.7MB 31.0MB/s eta 0:00:03    7% |██▍                             | 7.0MB 34.4MB/s eta 0:00:03    9% |███                             | 8.6MB 32.9MB/s eta 0:00:03    12% |████                            | 11.7MB 30.5MB/s eta 0:00:03    15% |█████                           | 14.7MB 31.0MB/s eta 0:00:03    17% |█████▋                          | 16.1MB 31.0MB/s eta 0:00:03    20% |██████▌                         | 18.9MB 33.0MB/s eta 0:00:03    36% |███████████▋                    | 33.5MB 29.3MB/s eta 0:00:03    39% |████████████▌                   | 36.2MB 26.9MB/s eta 0:00:03    40% |█████████████                   | 37.5MB 24.7MB/s eta 0:00:03    47% |███████████████                 | 43.5MB 10.8MB/s eta 0:00:05    53% |█████████████████               | 49.4MB 21.7MB/s eta 0:00:02    55% |██████████████████              | 51.7MB 26.1MB/s eta 0:00:02    63% |████████████████████▏           | 58.4MB 25.7MB/s eta 0:00:02    65% |█████████████████████           | 60.7MB 24.5MB/s eta 0:00:02    67% |█████████████████████▋          | 62.5MB 11.4MB/s eta 0:00:03    68% |█████████████████████▉          | 63.1MB 24.6MB/s eta 0:00:02    69% |██████████████████████▎         | 64.3MB 12.0MB/s eta 0:00:03    70% |██████████████████████▊         | 65.6MB 26.1MB/s eta 0:00:02    72% |███████████████████████         | 66.7MB 24.8MB/s eta 0:00:02    79% |█████████████████████████▎      | 73.2MB 23.9MB/s eta 0:00:01    80% |█████████████████████████▊      | 74.3MB 25.2MB/s eta 0:00:01    81% |██████████████████████████      | 75.2MB 8.3MB/s eta 0:00:03    84% |███████████████████████████▏    | 78.4MB 23.0MB/s eta 0:00:01    88% |████████████████████████████▏   | 81.5MB 23.2MB/s eta 0:00:01    92% |█████████████████████████████▋  | 85.5MB 23.7MB/s eta 0:00:01    93% |██████████████████████████████  | 86.4MB 23.2MB/s eta 0:00:01    94% |██████████████████████████████▎ | 87.4MB 22.1MB/s eta 0:00:01    96% |██████████████████████████████▉ | 89.2MB 23.7MB/s eta 0:00:01\n",
      "\u001b[?25hCollecting keras-applications>=1.0.6 (from tensorflow==1.13.1)\n",
      "\u001b[?25l  Downloading https://files.pythonhosted.org/packages/90/85/64c82949765cfb246bbdaf5aca2d55f400f792655927a017710a78445def/Keras_Applications-1.0.7-py2.py3-none-any.whl (51kB)\n",
      "\u001b[K    100% |████████████████████████████████| 61kB 3.8MB/s ta 0:00:01\n",
      "\u001b[?25hRequirement already satisfied: protobuf>=3.6.1 in /usr/local/envs/py3env/lib/python3.5/site-packages (from tensorflow==1.13.1) (3.6.1)\n",
      "Requirement already satisfied: astor>=0.6.0 in /usr/local/envs/py3env/lib/python3.5/site-packages (from tensorflow==1.13.1) (0.7.1)\n",
      "Requirement already satisfied: absl-py>=0.1.6 in /usr/local/envs/py3env/lib/python3.5/site-packages (from tensorflow==1.13.1) (0.6.1)\n",
      "Collecting tensorboard<1.14.0,>=1.13.0 (from tensorflow==1.13.1)\n",
      "\u001b[?25l  Downloading https://files.pythonhosted.org/packages/0f/39/bdd75b08a6fba41f098b6cb091b9e8c7a80e1b4d679a581a0ccd17b10373/tensorboard-1.13.1-py3-none-any.whl (3.2MB)\n",
      "\u001b[K    100% |████████████████████████████████| 3.2MB 8.4MB/s eta 0:00:01    75% |████████████████████████▏       | 2.4MB 20.8MB/s eta 0:00:01\n",
      "\u001b[?25hCollecting tensorflow-estimator<1.14.0rc0,>=1.13.0 (from tensorflow==1.13.1)\n",
      "\u001b[?25l  Downloading https://files.pythonhosted.org/packages/bb/48/13f49fc3fa0fdf916aa1419013bb8f2ad09674c275b4046d5ee669a46873/tensorflow_estimator-1.13.0-py2.py3-none-any.whl (367kB)\n",
      "\u001b[K    100% |████████████████████████████████| 368kB 14.8MB/s ta 0:00:01\n",
      "\u001b[?25hRequirement already satisfied: wheel>=0.26 in /usr/local/envs/py3env/lib/python3.5/site-packages (from tensorflow==1.13.1) (0.31.1)\n",
      "Requirement already satisfied: six>=1.10.0 in /usr/local/envs/py3env/lib/python3.5/site-packages (from tensorflow==1.13.1) (1.10.0)\n",
      "Collecting keras-preprocessing>=1.0.5 (from tensorflow==1.13.1)\n",
      "\u001b[?25l  Downloading https://files.pythonhosted.org/packages/c0/bf/0315ef6a9fd3fc2346e85b0ff1f5f83ca17073f2c31ac719ab2e4da0d4a3/Keras_Preprocessing-1.0.9-py2.py3-none-any.whl (59kB)\n",
      "\u001b[K    100% |████████████████████████████████| 61kB 10.6MB/s ta 0:00:01\n",
      "\u001b[?25hRequirement already satisfied: numpy>=1.13.3 in /usr/local/envs/py3env/lib/python3.5/site-packages (from tensorflow==1.13.1) (1.14.0)\n",
      "Requirement already satisfied: gast>=0.2.0 in /usr/local/envs/py3env/lib/python3.5/site-packages (from tensorflow==1.13.1) (0.2.2)\n",
      "Requirement already satisfied: termcolor>=1.1.0 in /usr/local/envs/py3env/lib/python3.5/site-packages (from tensorflow==1.13.1) (1.1.0)\n",
      "Requirement already satisfied: grpcio>=1.8.6 in /usr/local/envs/py3env/lib/python3.5/site-packages (from tensorflow==1.13.1) (1.17.1)\n",
      "Requirement already satisfied: h5py in /usr/local/envs/py3env/lib/python3.5/site-packages (from keras-applications>=1.0.6->tensorflow==1.13.1) (2.7.1)\n",
      "Requirement already satisfied: setuptools in /usr/local/envs/py3env/lib/python3.5/site-packages (from protobuf>=3.6.1->tensorflow==1.13.1) (40.2.0)\n",
      "Requirement already satisfied: werkzeug>=0.11.15 in /usr/local/envs/py3env/lib/python3.5/site-packages (from tensorboard<1.14.0,>=1.13.0->tensorflow==1.13.1) (0.14.1)\n",
      "Requirement already satisfied: markdown>=2.6.8 in /usr/local/envs/py3env/lib/python3.5/site-packages (from tensorboard<1.14.0,>=1.13.0->tensorflow==1.13.1) (2.6.11)\n",
      "Requirement already satisfied: mock>=2.0.0 in /usr/local/envs/py3env/lib/python3.5/site-packages (from tensorflow-estimator<1.14.0rc0,>=1.13.0->tensorflow==1.13.1) (2.0.0)\n",
      "Requirement already satisfied: pbr>=0.11 in /usr/local/envs/py3env/lib/python3.5/site-packages (from mock>=2.0.0->tensorflow-estimator<1.14.0rc0,>=1.13.0->tensorflow==1.13.1) (4.2.0)\n",
      "Installing collected packages: keras-applications, tensorboard, tensorflow-estimator, keras-preprocessing, tensorflow\n",
      "  Found existing installation: tensorboard 1.8.0\n",
      "    Uninstalling tensorboard-1.8.0:\n",
      "      Successfully uninstalled tensorboard-1.8.0\n",
      "  Found existing installation: tensorflow 1.8.0\n",
      "    Uninstalling tensorflow-1.8.0:\n",
      "      Successfully uninstalled tensorflow-1.8.0\n",
      "Successfully installed keras-applications-1.0.7 keras-preprocessing-1.0.9 tensorboard-1.13.1 tensorflow-1.13.1 tensorflow-estimator-1.13.0\n"
     ]
    }
   ],
   "source": [
    "# Ensure that we have TensorFlow 1.13.1 installed.\n",
    "!pip3 freeze | grep tensorflow==1.13.1 || pip3 install tensorflow==1.13.1"
   ]
  },
  {
   "cell_type": "markdown",
   "metadata": {},
   "source": [
    "#### Monitor using Tensorboard"
   ]
  },
  {
   "cell_type": "code",
   "execution_count": 10,
   "metadata": {},
   "outputs": [
    {
     "name": "stderr",
     "output_type": "stream",
     "text": [
      "/usr/local/envs/py3env/lib/python3.5/site-packages/h5py/__init__.py:36: FutureWarning: Conversion of the second argument of issubdtype from `float` to `np.floating` is deprecated. In future, it will be treated as `np.float64 == np.dtype(float).type`.\n",
      "  from ._conv import register_converters as _register_converters\n"
     ]
    },
    {
     "data": {
      "text/html": [
       "<p>TensorBoard was started successfully with pid 11137. Click <a href=\"/_proxy/50445/\" target=\"_blank\">here</a> to access it.</p>"
      ]
     },
     "metadata": {},
     "output_type": "display_data"
    },
    {
     "data": {
      "text/plain": [
       "11137"
      ]
     },
     "execution_count": 10,
     "metadata": {},
     "output_type": "execute_result"
    }
   ],
   "source": [
    "from google.datalab.ml import TensorBoard\n",
    "TensorBoard().start('./'+ TRAINING_DIR)"
   ]
  },
  {
   "cell_type": "code",
   "execution_count": 11,
   "metadata": {},
   "outputs": [
    {
     "name": "stdout",
     "output_type": "stream",
     "text": [
      "1.13.1\n",
      "[512]\n"
     ]
    },
    {
     "name": "stderr",
     "output_type": "stream",
     "text": [
      "/usr/local/envs/py3env/lib/python3.5/site-packages/h5py/__init__.py:36: FutureWarning: Conversion of the second argument of issubdtype from `float` to `np.floating` is deprecated. In future, it will be treated as `np.float64 == np.dtype(float).type`.\n",
      "  from ._conv import register_converters as _register_converters\n",
      "INFO:tensorflow:Using config: {'_task_type': 'worker', '_evaluation_master': '', '_global_id_in_cluster': 0, '_eval_distribute': None, '_keep_checkpoint_every_n_hours': 10000, '_is_chief': True, '_save_checkpoints_steps': 1000, '_save_summary_steps': 100, '_cluster_spec': <tensorflow.python.training.server_lib.ClusterSpec object at 0x7f376475fdd8>, '_save_checkpoints_secs': None, '_session_config': allow_soft_placement: true\n",
      "graph_options {\n",
      "  rewrite_options {\n",
      "    meta_optimizer_iterations: ONE\n",
      "  }\n",
      "}\n",
      ", '_master': '', '_task_id': 0, '_num_worker_replicas': 1, '_keep_checkpoint_max': 5, '_device_fn': None, '_tf_random_seed': None, '_protocol': None, '_service': None, '_num_ps_replicas': 0, '_experimental_distribute': None, '_model_dir': '/content/datalab/notebooks/stackoverflow_trained', '_log_step_count_steps': 100, '_train_distribute': None}\n",
      "INFO:tensorflow:Not using Distribute Coordinator.\n",
      "INFO:tensorflow:Running training and evaluation locally (non-distributed).\n",
      "INFO:tensorflow:Start train and evaluate loop. The evaluate will happen after every checkpoint. Checkpoint frequency is determined based on RunConfig arguments: save_checkpoints_steps 1000 or save_checkpoints_secs None.\n",
      "WARNING:tensorflow:From /usr/local/envs/py3env/lib/python3.5/site-packages/tensorflow/python/framework/op_def_library.py:263: colocate_with (from tensorflow.python.framework.ops) is deprecated and will be removed in a future version.\n",
      "Instructions for updating:\n",
      "Colocations handled automatically by placer.\n",
      "2019-05-21 18:53:42.379135: I tensorflow/core/platform/cpu_feature_guard.cc:141] Your CPU supports instructions that this TensorFlow binary was not compiled to use: AVX2 FMA\n",
      "2019-05-21 18:53:42.400391: I tensorflow/core/platform/profile_utils/cpu_utils.cc:94] CPU Frequency: 2300000000 Hz\n",
      "2019-05-21 18:53:42.400859: I tensorflow/compiler/xla/service/service.cc:150] XLA service 0x55d7aef38710 executing computations on platform Host. Devices:\n",
      "2019-05-21 18:53:42.400885: I tensorflow/compiler/xla/service/service.cc:158]   StreamExecutor device (0): <undefined>, <undefined>\n",
      "INFO:tensorflow:Calling model_fn.\n",
      "WARNING:tensorflow:From /usr/local/envs/py3env/lib/python3.5/site-packages/tensorflow/python/feature_column/feature_column_v2.py:2703: to_float (from tensorflow.python.ops.math_ops) is deprecated and will be removed in a future version.\n",
      "Instructions for updating:\n",
      "Use tf.cast instead.\n",
      "INFO:tensorflow:Done calling model_fn.\n",
      "INFO:tensorflow:Create CheckpointSaverHook.\n",
      "INFO:tensorflow:Graph was finalized.\n",
      "INFO:tensorflow:Running local_init_op.\n",
      "INFO:tensorflow:Done running local_init_op.\n",
      "INFO:tensorflow:Saving checkpoints for 0 into /content/datalab/notebooks/stackoverflow_trained/model.ckpt.\n",
      "INFO:tensorflow:loss = 350.79858, step = 1\n",
      "INFO:tensorflow:Saving checkpoints for 10 into /content/datalab/notebooks/stackoverflow_trained/model.ckpt.\n",
      "INFO:tensorflow:Calling model_fn.\n",
      "WARNING:tensorflow:From /usr/local/envs/py3env/lib/python3.5/site-packages/tensorflow/python/ops/metrics_impl.py:2002: div (from tensorflow.python.ops.math_ops) is deprecated and will be removed in a future version.\n",
      "Instructions for updating:\n",
      "Deprecated in favor of operator or tf.math.divide.\n",
      "WARNING:tensorflow:Trapezoidal rule is known to produce incorrect PR-AUCs; please switch to \"careful_interpolation\" instead.\n",
      "WARNING:tensorflow:Trapezoidal rule is known to produce incorrect PR-AUCs; please switch to \"careful_interpolation\" instead.\n",
      "INFO:tensorflow:Done calling model_fn.\n",
      "INFO:tensorflow:Starting evaluation at 2019-05-21T18:53:46Z\n",
      "INFO:tensorflow:Graph was finalized.\n",
      "WARNING:tensorflow:From /usr/local/envs/py3env/lib/python3.5/site-packages/tensorflow/python/training/saver.py:1266: checkpoint_exists (from tensorflow.python.training.checkpoint_management) is deprecated and will be removed in a future version.\n",
      "Instructions for updating:\n",
      "Use standard file APIs to check for files with this prefix.\n",
      "INFO:tensorflow:Restoring parameters from /content/datalab/notebooks/stackoverflow_trained/model.ckpt-10\n",
      "INFO:tensorflow:Running local_init_op.\n",
      "INFO:tensorflow:Done running local_init_op.\n",
      "INFO:tensorflow:Finished evaluation at 2019-05-21-18:53:48\n",
      "INFO:tensorflow:Saving dict for global step 10: accuracy = 0.5210832, accuracy_baseline = 0.5301003, auc = 0.6819463, auc_precision_recall = 0.6627758, average_loss = 0.67298293, global_step = 10, label/mean = 0.5301003, loss = 342.43945, precision = 0.6845945, prediction/mean = 0.46868515, recall = 0.17904264\n",
      "INFO:tensorflow:Saving 'checkpoint_path' summary for global step 10: /content/datalab/notebooks/stackoverflow_trained/model.ckpt-10\n",
      "INFO:tensorflow:Calling model_fn.\n",
      "INFO:tensorflow:Done calling model_fn.\n",
      "WARNING:tensorflow:From /usr/local/envs/py3env/lib/python3.5/site-packages/tensorflow/python/saved_model/signature_def_utils_impl.py:205: build_tensor_info (from tensorflow.python.saved_model.utils_impl) is deprecated and will be removed in a future version.\n",
      "Instructions for updating:\n",
      "This function will only be available through the v1 compatibility library as tf.compat.v1.saved_model.utils.build_tensor_info or tf.compat.v1.saved_model.build_tensor_info.\n",
      "INFO:tensorflow:Signatures INCLUDED in export for Predict: ['predict']\n",
      "INFO:tensorflow:Signatures INCLUDED in export for Regress: None\n",
      "INFO:tensorflow:Signatures INCLUDED in export for Train: None\n",
      "INFO:tensorflow:Signatures INCLUDED in export for Eval: None\n",
      "INFO:tensorflow:Signatures INCLUDED in export for Classify: None\n",
      "INFO:tensorflow:Signatures EXCLUDED from export because they cannot be be served via TensorFlow Serving APIs:\n",
      "INFO:tensorflow:'classification' : Classification input must be a single string Tensor; got {'view_count': <tf.Tensor 'Placeholder_4:0' shape=(?,) dtype=float32>, 'answer_count': <tf.Tensor 'Placeholder:0' shape=(?,) dtype=float32>, 'favorite_count': <tf.Tensor 'Placeholder_2:0' shape=(?,) dtype=float32>, 'days_posted': <tf.Tensor 'Placeholder_5:0' shape=(?,) dtype=float32>, 'score': <tf.Tensor 'Placeholder_3:0' shape=(?,) dtype=float32>, 'comment_count': <tf.Tensor 'Placeholder_1:0' shape=(?,) dtype=float32>}\n",
      "INFO:tensorflow:'regression' : Regression input must be a single string Tensor; got {'view_count': <tf.Tensor 'Placeholder_4:0' shape=(?,) dtype=float32>, 'answer_count': <tf.Tensor 'Placeholder:0' shape=(?,) dtype=float32>, 'favorite_count': <tf.Tensor 'Placeholder_2:0' shape=(?,) dtype=float32>, 'days_posted': <tf.Tensor 'Placeholder_5:0' shape=(?,) dtype=float32>, 'score': <tf.Tensor 'Placeholder_3:0' shape=(?,) dtype=float32>, 'comment_count': <tf.Tensor 'Placeholder_1:0' shape=(?,) dtype=float32>}\n",
      "INFO:tensorflow:'serving_default' : Classification input must be a single string Tensor; got {'view_count': <tf.Tensor 'Placeholder_4:0' shape=(?,) dtype=float32>, 'answer_count': <tf.Tensor 'Placeholder:0' shape=(?,) dtype=float32>, 'favorite_count': <tf.Tensor 'Placeholder_2:0' shape=(?,) dtype=float32>, 'days_posted': <tf.Tensor 'Placeholder_5:0' shape=(?,) dtype=float32>, 'score': <tf.Tensor 'Placeholder_3:0' shape=(?,) dtype=float32>, 'comment_count': <tf.Tensor 'Placeholder_1:0' shape=(?,) dtype=float32>}\n",
      "WARNING:tensorflow:Export includes no default signature!\n",
      "INFO:tensorflow:Restoring parameters from /content/datalab/notebooks/stackoverflow_trained/model.ckpt-10\n",
      "INFO:tensorflow:Assets added to graph.\n",
      "INFO:tensorflow:No assets to write.\n",
      "INFO:tensorflow:SavedModel written to: /content/datalab/notebooks/stackoverflow_trained/export/exporter/temp-b'1558464829'/saved_model.pb\n",
      "INFO:tensorflow:Loss for final step: 346.3259.\n"
     ]
    }
   ],
   "source": [
    "%%bash\n",
    "# Setup python so it sees the task module which controls the model.py\n",
    "export PYTHONPATH=${PYTHONPATH}:${PWD}/${MODEL_NAME}\n",
    "# Currently set for python 2.  To run with python 3 \n",
    "#    1.  Replace 'python' with 'python3' in the following command\n",
    "#    2.  Edit trainer/task.py to reflect proper module import method \n",
    "python -m trainer.task \\\n",
    "   --train_data_paths=${PWD} \\\n",
    "   --eval_data_paths=${PWD}  \\\n",
    "   --output_dir=${PWD}/${TRAINING_DIR} \\\n",
    "   --train_steps=10 --job-dir=./tmp"
   ]
  },
  {
   "cell_type": "code",
   "execution_count": 12,
   "metadata": {},
   "outputs": [
    {
     "name": "stdout",
     "output_type": "stream",
     "text": [
      "1558464829\n"
     ]
    }
   ],
   "source": [
    "%%bash\n",
    "ls $PWD/${TRAINING_DIR}/export/exporter/"
   ]
  },
  {
   "cell_type": "code",
   "execution_count": 13,
   "metadata": {},
   "outputs": [
    {
     "name": "stdout",
     "output_type": "stream",
     "text": [
      "Overwriting ./test.json\n"
     ]
    }
   ],
   "source": [
    "%%writefile ./test.json\n",
    "{\"answer_count\": 2, \"comment_count\": 2, \"favorite_count\": 1, \"score\": 2, \"view_count\": 2, \"days_posted\": 10}"
   ]
  },
  {
   "cell_type": "code",
   "execution_count": 15,
   "metadata": {},
   "outputs": [
    {
     "name": "stderr",
     "output_type": "stream",
     "text": [
      "ERROR: (gcloud.ml-engine.local.predict) RuntimeError: Bad magic number in .pyc file\n",
      "\n"
     ]
    }
   ],
   "source": [
    "%%bash\n",
    "# This model dir is the model exported after training and is used for prediction\n",
    "#\n",
    "model_dir=$(ls ${PWD}/${TRAINING_DIR}/export/exporter | tail -1)\n",
    "# predict using the trained model\n",
    "gcloud ml-engine local predict  \\\n",
    "    --model-dir=${PWD}/${TRAINING_DIR}/export/exporter/${model_dir} \\\n",
    "    --json-instances=./test.json"
   ]
  },
  {
   "cell_type": "markdown",
   "metadata": {},
   "source": [
    "#### Stop Tensorboard\n",
    "The training directory will be deleted.  Stop the exising tensorboard before removing the directory its using."
   ]
  },
  {
   "cell_type": "code",
   "execution_count": 16,
   "metadata": {},
   "outputs": [
    {
     "name": "stdout",
     "output_type": "stream",
     "text": [
      "Stopped TensorBoard with pid 8130\n",
      "Stopped TensorBoard with pid 11137\n"
     ]
    }
   ],
   "source": [
    "pids_df = TensorBoard.list()\n",
    "if not pids_df.empty:\n",
    "    for pid in pids_df['pid']:\n",
    "        TensorBoard().stop(pid)\n",
    "        print('Stopped TensorBoard with pid {}'.format(pid))"
   ]
  },
  {
   "cell_type": "markdown",
   "metadata": {},
   "source": [
    "#### Clean model training dir/output dir"
   ]
  },
  {
   "cell_type": "code",
   "execution_count": 17,
   "metadata": {},
   "outputs": [],
   "source": [
    "%%bash\n",
    "# This is so that the trained model is started fresh each time. However, this needs to be done before \n",
    "# tensorboard is started\n",
    "rm -rf $PWD/${TRAINING_DIR}"
   ]
  },
  {
   "cell_type": "markdown",
   "metadata": {},
   "source": [
    "#### Restart tensorboard for monitoring"
   ]
  },
  {
   "cell_type": "code",
   "execution_count": 18,
   "metadata": {},
   "outputs": [
    {
     "data": {
      "text/html": [
       "<p>TensorBoard was started successfully with pid 11473. Click <a href=\"/_proxy/44909/\" target=\"_blank\">here</a> to access it.</p>"
      ]
     },
     "metadata": {},
     "output_type": "display_data"
    },
    {
     "data": {
      "text/plain": [
       "11473"
      ]
     },
     "execution_count": 18,
     "metadata": {},
     "output_type": "execute_result"
    }
   ],
   "source": [
    "TensorBoard().start('./'+ TRAINING_DIR)"
   ]
  },
  {
   "cell_type": "markdown",
   "metadata": {},
   "source": [
    "## Running locally using gcloud"
   ]
  },
  {
   "cell_type": "code",
   "execution_count": 1,
   "metadata": {
    "hiddenCell": true
   },
   "outputs": [
    {
     "name": "stderr",
     "output_type": "stream",
     "text": [
      "/usr/local/envs/py3env/bin/python: Error while finding module specification for 'trainer.task' (ImportError: No module named 'trainer')\n"
     ]
    }
   ],
   "source": [
    "%%bash\n",
    "# Use Cloud Machine Learning Engine to train the model in local file system\n",
    "gcloud ml-engine local train \\\n",
    "   --module-name=trainer.task \\\n",
    "   --package-path=${PWD}/${MODEL_NAME}/trainer \\\n",
    "   -- \\\n",
    "   --train_data_paths=${PWD} \\\n",
    "   --eval_data_paths=${PWD}  \\\n",
    "   --train_steps=10 \\\n",
    "   --output_dir=${PWD}/${TRAINING_DIR} "
   ]
  },
  {
   "cell_type": "markdown",
   "metadata": {},
   "source": [
    "Use TensorBoard to examine results.  When I ran it (due to random seeds, your results will be different), the ```average_loss``` (Mean Squared Error) on the evaluation dataset was 187, meaning that the RMSE was around 13."
   ]
  },
  {
   "cell_type": "markdown",
   "metadata": {},
   "source": [
    "### Stop Tensorboard"
   ]
  },
  {
   "cell_type": "code",
   "execution_count": 33,
   "metadata": {},
   "outputs": [
    {
     "name": "stdout",
     "output_type": "stream",
     "text": [
      "Stopped TensorBoard with pid 7733\n"
     ]
    }
   ],
   "source": [
    "pids_df = TensorBoard.list()\n",
    "if not pids_df.empty:\n",
    "    for pid in pids_df['pid']:\n",
    "        TensorBoard().stop(pid)\n",
    "        print('Stopped TensorBoard with pid {}'.format(pid))"
   ]
  },
  {
   "cell_type": "markdown",
   "metadata": {},
   "source": [
    "If the above step (to stop TensorBoard) appears stalled, just move on to the next step. You don't need to wait for it to return."
   ]
  },
  {
   "cell_type": "code",
   "execution_count": 36,
   "metadata": {},
   "outputs": [
    {
     "name": "stderr",
     "output_type": "stream",
     "text": [
      "ls: cannot access '/content/datalab/notebooks/stackoverflow_trained': No such file or directory\n"
     ]
    }
   ],
   "source": [
    "%%bash\n",
    "ls $PWD/${TRAINING_DIR}"
   ]
  },
  {
   "cell_type": "markdown",
   "metadata": {},
   "source": [
    "## Submit training job using gcloud\n",
    "\n",
    "First copy the training data to the cloud.  Then, launch a training job.\n",
    "\n",
    "After you submit the job, go to the cloud console (http://console.cloud.google.com) and select <b>Machine Learning | Jobs</b> to monitor progress.  \n",
    "\n",
    "<b>Note:</b> Don't be concerned if the notebook stalls (with a blue progress bar) or returns with an error about being unable to refresh auth tokens. This is a long-lived Cloud job and work is going on in the cloud.  Use the Cloud Console link (above) to monitor the job."
   ]
  },
  {
   "cell_type": "code",
   "execution_count": 19,
   "metadata": {},
   "outputs": [
    {
     "name": "stdout",
     "output_type": "stream",
     "text": [
      "qwiklabs-gcp-12b4b0f730830df4\n"
     ]
    },
    {
     "name": "stderr",
     "output_type": "stream",
     "text": [
      "Removing gs://qwiklabs-gcp-12b4b0f730830df4/stackoverflow/dataset/stackoverflow-test-10.csv#1558463956219769...\n",
      "Removing gs://qwiklabs-gcp-12b4b0f730830df4/stackoverflow/dataset/stackoverflow-test-100.csv#1558463956213080...\n",
      "Removing gs://qwiklabs-gcp-12b4b0f730830df4/stackoverflow/dataset/stackoverflow-test-20.csv#1558463956169788...\n",
      "Removing gs://qwiklabs-gcp-12b4b0f730830df4/stackoverflow/dataset/stackoverflow-test-30.csv#1558463956167974...\n",
      "Removing gs://qwiklabs-gcp-12b4b0f730830df4/stackoverflow/dataset/stackoverflow-test-40.csv#1558463956198200...\n",
      "Removing gs://qwiklabs-gcp-12b4b0f730830df4/stackoverflow/dataset/stackoverflow-test-50.csv#1558463956528845...\n",
      "/ [1/30 objects]   3% Done                                                      \r",
      "Removing gs://qwiklabs-gcp-12b4b0f730830df4/stackoverflow/dataset/stackoverflow-test-60.csv#1558463956707110...\n",
      "/ [2/30 objects]   6% Done                                                      \r",
      "Removing gs://qwiklabs-gcp-12b4b0f730830df4/stackoverflow/dataset/stackoverflow-test-70.csv#1558463956578898...\n",
      "/ [3/30 objects]  10% Done                                                      \r",
      "Removing gs://qwiklabs-gcp-12b4b0f730830df4/stackoverflow/dataset/stackoverflow-test-80.csv#1558463956518422...\n",
      "/ [4/30 objects]  13% Done                                                      \r",
      "/ [5/30 objects]  16% Done                                                      \r",
      "Removing gs://qwiklabs-gcp-12b4b0f730830df4/stackoverflow/dataset/stackoverflow-test-90.csv#1558463956546943...\n",
      "Removing gs://qwiklabs-gcp-12b4b0f730830df4/stackoverflow/dataset/stackoverflow-train-10.csv#1558463956948264...\n",
      "/ [6/30 objects]  20% Done                                                      \r",
      "Removing gs://qwiklabs-gcp-12b4b0f730830df4/stackoverflow/dataset/stackoverflow-train-100.csv#1558463956927071...\n",
      "/ [7/30 objects]  23% Done                                                      \r",
      "Removing gs://qwiklabs-gcp-12b4b0f730830df4/stackoverflow/dataset/stackoverflow-train-20.csv#1558463956986257...\n",
      "Removing gs://qwiklabs-gcp-12b4b0f730830df4/stackoverflow/dataset/stackoverflow-train-30.csv#1558463957028998...\n",
      "Removing gs://qwiklabs-gcp-12b4b0f730830df4/stackoverflow/dataset/stackoverflow-train-40.csv#1558463956998159...\n",
      "/ [8/30 objects]  26% Done                                                      \r",
      "/ [9/30 objects]  30% Done                                                      \r",
      "/ [10/30 objects]  33% Done                                                     \r",
      "/ [11/30 objects]  36% Done                                                     \r",
      "Removing gs://qwiklabs-gcp-12b4b0f730830df4/stackoverflow/dataset/stackoverflow-train-50.csv#1558463957299113...\n",
      "/ [12/30 objects]  40% Done                                                     \r",
      "Removing gs://qwiklabs-gcp-12b4b0f730830df4/stackoverflow/dataset/stackoverflow-train-60.csv#1558463957387392...\n",
      "Removing gs://qwiklabs-gcp-12b4b0f730830df4/stackoverflow/dataset/stackoverflow-train-70.csv#1558463957418002...\n",
      "/ [13/30 objects]  43% Done                                                     \r",
      "Removing gs://qwiklabs-gcp-12b4b0f730830df4/stackoverflow/dataset/stackoverflow-train-80.csv#1558463957388028...\n",
      "/ [14/30 objects]  46% Done                                                     \r",
      "Removing gs://qwiklabs-gcp-12b4b0f730830df4/stackoverflow/dataset/stackoverflow-train-90.csv#1558463957414884...\n",
      "/ [15/30 objects]  50% Done                                                     \r",
      "/ [16/30 objects]  53% Done                                                     \r",
      "Removing gs://qwiklabs-gcp-12b4b0f730830df4/stackoverflow/dataset/stackoverflow-valid-10.csv#1558463957705328...\n",
      "Removing gs://qwiklabs-gcp-12b4b0f730830df4/stackoverflow/dataset/stackoverflow-valid-100.csv#1558463957540823...\n",
      "/ [17/30 objects]  56% Done                                                     \r",
      "Removing gs://qwiklabs-gcp-12b4b0f730830df4/stackoverflow/dataset/stackoverflow-valid-20.csv#1558463957717393...\n",
      "Removing gs://qwiklabs-gcp-12b4b0f730830df4/stackoverflow/dataset/stackoverflow-valid-30.csv#1558463957725092...\n",
      "/ [18/30 objects]  60% Done                                                     \r",
      "/ [19/30 objects]  63% Done                                                     \r",
      "Removing gs://qwiklabs-gcp-12b4b0f730830df4/stackoverflow/dataset/stackoverflow-valid-40.csv#1558463957749218...\n",
      "/ [20/30 objects]  66% Done                                                     \r",
      "Removing gs://qwiklabs-gcp-12b4b0f730830df4/stackoverflow/dataset/stackoverflow-valid-50.csv#1558463957798643...\n",
      "/ [21/30 objects]  70% Done                                                     \r",
      "/ [22/30 objects]  73% Done                                                     \r",
      "Removing gs://qwiklabs-gcp-12b4b0f730830df4/stackoverflow/dataset/stackoverflow-valid-60.csv#1558463958034176...\n",
      "Removing gs://qwiklabs-gcp-12b4b0f730830df4/stackoverflow/dataset/stackoverflow-valid-70.csv#1558463958060062...\n",
      "/ [23/30 objects]  76% Done                                                     \r",
      "Removing gs://qwiklabs-gcp-12b4b0f730830df4/stackoverflow/dataset/stackoverflow-valid-80.csv#1558463958066303...\n",
      "/ [24/30 objects]  80% Done                                                     \r",
      "Removing gs://qwiklabs-gcp-12b4b0f730830df4/stackoverflow/dataset/stackoverflow-valid-90.csv#1558463958089914...\n",
      "/ [25/30 objects]  83% Done                                                     \r",
      "/ [26/30 objects]  86% Done                                                     \r",
      "/ [27/30 objects]  90% Done                                                     \r",
      "/ [28/30 objects]  93% Done                                                     \r",
      "/ [29/30 objects]  96% Done                                                     \r",
      "/ [30/30 objects] 100% Done                                                     \r\n",
      "Operation completed over 30 objects.                                             \n",
      "Copying file:///content/datalab/notebooks/stackoverflow-test-100.csv [Content-Type=text/csv]...\n",
      "/ [0 files][    0.0 B/411.1 KiB]                                                \r",
      "Copying file:///content/datalab/notebooks/stackoverflow-test-10.csv [Content-Type=text/csv]...\n",
      "/ [0 files][    0.0 B/817.6 KiB]                                                \r",
      "Copying file:///content/datalab/notebooks/stackoverflow-test-20.csv [Content-Type=text/csv]...\n",
      "/ [0 files][    0.0 B/  1.2 MiB]                                                \r",
      "Copying file:///content/datalab/notebooks/stackoverflow-test-30.csv [Content-Type=text/csv]...\n",
      "/ [0 files][    0.0 B/  1.6 MiB]                                                \r",
      "Copying file:///content/datalab/notebooks/stackoverflow-test-40.csv [Content-Type=text/csv]...\n",
      "/ [0 files][    0.0 B/  2.0 MiB]                                                \r",
      "Copying file:///content/datalab/notebooks/stackoverflow-test-50.csv [Content-Type=text/csv]...\n",
      "/ [1/30 files][  2.0 MiB/ 20.4 MiB]   9% Done                                   \r",
      "/ [1/30 files][  2.0 MiB/ 20.4 MiB]   9% Done                                   \r",
      "/ [2/30 files][  2.0 MiB/ 20.4 MiB]   9% Done                                   \r",
      "/ [3/30 files][  2.0 MiB/ 20.4 MiB]   9% Done                                   \r",
      "Copying file:///content/datalab/notebooks/stackoverflow-test-60.csv [Content-Type=text/csv]...\n",
      "/ [3/30 files][  2.0 MiB/ 20.4 MiB]   9% Done                                   \r",
      "/ [4/30 files][  2.0 MiB/ 20.4 MiB]   9% Done                                   \r",
      "Copying file:///content/datalab/notebooks/stackoverflow-test-70.csv [Content-Type=text/csv]...\n",
      "/ [4/30 files][  2.0 MiB/ 20.4 MiB]   9% Done                                   \r",
      "Copying file:///content/datalab/notebooks/stackoverflow-test-80.csv [Content-Type=text/csv]...\n",
      "/ [4/30 files][  2.0 MiB/ 20.4 MiB]   9% Done                                   \r",
      "/ [5/30 files][  2.0 MiB/ 20.4 MiB]   9% Done                                   \r",
      "Copying file:///content/datalab/notebooks/stackoverflow-test-90.csv [Content-Type=text/csv]...\n",
      "/ [5/30 files][  2.0 MiB/ 20.4 MiB]   9% Done                                   \r",
      "Copying file:///content/datalab/notebooks/stackoverflow-train-100.csv [Content-Type=text/csv]...\n",
      "/ [6/30 files][  4.1 MiB/ 20.4 MiB]  20% Done                                   \r",
      "-\r",
      "- [6/30 files][  4.1 MiB/ 20.4 MiB]  20% Done                                   \r",
      "- [7/30 files][  5.3 MiB/ 20.4 MiB]  26% Done                                   \r",
      "Copying file:///content/datalab/notebooks/stackoverflow-train-10.csv [Content-Type=text/csv]...\n",
      "- [7/30 files][  5.3 MiB/ 20.4 MiB]  26% Done                                   \r",
      "- [8/30 files][  5.3 MiB/ 20.4 MiB]  26% Done                                   \r",
      "- [9/30 files][  5.3 MiB/ 20.4 MiB]  26% Done                                   \r",
      "- [10/30 files][  5.3 MiB/ 20.4 MiB]  26% Done                                  \r",
      "Copying file:///content/datalab/notebooks/stackoverflow-train-40.csv [Content-Type=text/csv]...\n",
      "Copying file:///content/datalab/notebooks/stackoverflow-train-20.csv [Content-Type=text/csv]...\n",
      "Copying file:///content/datalab/notebooks/stackoverflow-train-30.csv [Content-Type=text/csv]...\n",
      "- [10/30 files][  5.3 MiB/ 20.4 MiB]  26% Done                                  \r",
      "- [10/30 files][  5.3 MiB/ 20.4 MiB]  26% Done                                  \r",
      "- [10/30 files][  5.3 MiB/ 20.4 MiB]  26% Done                                  \r",
      "Copying file:///content/datalab/notebooks/stackoverflow-train-50.csv [Content-Type=text/csv]...\n",
      "- [11/30 files][  6.9 MiB/ 20.4 MiB]  33% Done                                  \r",
      "- [11/30 files][  8.2 MiB/ 20.4 MiB]  39% Done                                  \r",
      "Copying file:///content/datalab/notebooks/stackoverflow-train-60.csv [Content-Type=text/csv]...\n",
      "Copying file:///content/datalab/notebooks/stackoverflow-train-70.csv [Content-Type=text/csv]...\n",
      "- [12/30 files][ 11.4 MiB/ 20.4 MiB]  56% Done                                  \r",
      "- [13/30 files][ 11.4 MiB/ 20.4 MiB]  56% Done                                  \r",
      "- [13/30 files][ 11.4 MiB/ 20.4 MiB]  56% Done                                  \r",
      "- [13/30 files][ 11.4 MiB/ 20.4 MiB]  56% Done                                  \r",
      "Copying file:///content/datalab/notebooks/stackoverflow-train-90.csv [Content-Type=text/csv]...\n",
      "Copying file:///content/datalab/notebooks/stackoverflow-train-80.csv [Content-Type=text/csv]...\n",
      "- [14/30 files][ 11.4 MiB/ 20.4 MiB]  56% Done                                  \r",
      "- [15/30 files][ 11.4 MiB/ 20.4 MiB]  56% Done                                  \r",
      "- [15/30 files][ 11.4 MiB/ 20.4 MiB]  56% Done                                  \r",
      "- [15/30 files][ 11.4 MiB/ 20.4 MiB]  56% Done                                  \r",
      "- [16/30 files][ 11.4 MiB/ 20.4 MiB]  56% Done                                  \r",
      "\\\r",
      "Copying file:///content/datalab/notebooks/stackoverflow-valid-100.csv [Content-Type=text/csv]...\n",
      "\\ [16/30 files][ 12.5 MiB/ 20.4 MiB]  61% Done                                  \r",
      "Copying file:///content/datalab/notebooks/stackoverflow-valid-10.csv [Content-Type=text/csv]...\n",
      "\\ [17/30 files][ 16.7 MiB/ 20.4 MiB]  81% Done                                  \r",
      "\\ [17/30 files][ 16.7 MiB/ 20.4 MiB]  81% Done                                  \r",
      "\\ [18/30 files][ 16.7 MiB/ 20.4 MiB]  81% Done                                  \r",
      "Copying file:///content/datalab/notebooks/stackoverflow-valid-20.csv [Content-Type=text/csv]...\n",
      "\\ [18/30 files][ 16.7 MiB/ 20.4 MiB]  81% Done                                  \r",
      "\\ [19/30 files][ 17.0 MiB/ 20.4 MiB]  83% Done                                  \r",
      "\\ [20/30 files][ 17.1 MiB/ 20.4 MiB]  83% Done                                  \r",
      "Copying file:///content/datalab/notebooks/stackoverflow-valid-30.csv [Content-Type=text/csv]...\n",
      "Copying file:///content/datalab/notebooks/stackoverflow-valid-40.csv [Content-Type=text/csv]...\n",
      "\\ [20/30 files][ 17.1 MiB/ 20.4 MiB]  83% Done                                  \r",
      "\\ [20/30 files][ 17.1 MiB/ 20.4 MiB]  83% Done                                  \r",
      "\\ [21/30 files][ 17.5 MiB/ 20.4 MiB]  85% Done                                  \r",
      "Copying file:///content/datalab/notebooks/stackoverflow-valid-50.csv [Content-Type=text/csv]...\n",
      "\\ [21/30 files][ 17.5 MiB/ 20.4 MiB]  85% Done                                  \r",
      "Copying file:///content/datalab/notebooks/stackoverflow-valid-60.csv [Content-Type=text/csv]...\n",
      "\\ [22/30 files][ 18.8 MiB/ 20.4 MiB]  91% Done                                  \r",
      "\\ [22/30 files][ 18.8 MiB/ 20.4 MiB]  91% Done                                  \r",
      "\\ [23/30 files][ 19.2 MiB/ 20.4 MiB]  93% Done                                  \r",
      "Copying file:///content/datalab/notebooks/stackoverflow-valid-70.csv [Content-Type=text/csv]...\n",
      "\\ [23/30 files][ 19.2 MiB/ 20.4 MiB]  93% Done                                  \r",
      "Copying file:///content/datalab/notebooks/stackoverflow-valid-80.csv [Content-Type=text/csv]...\n",
      "\\ [24/30 files][ 19.2 MiB/ 20.4 MiB]  93% Done                                  \r",
      "|\r",
      "| [24/30 files][ 19.2 MiB/ 20.4 MiB]  93% Done                                  \r",
      "| [25/30 files][ 19.2 MiB/ 20.4 MiB]  93% Done                                  \r",
      "Copying file:///content/datalab/notebooks/stackoverflow-valid-90.csv [Content-Type=text/csv]...\n",
      "| [25/30 files][ 19.2 MiB/ 20.4 MiB]  93% Done                                  \r",
      "| [26/30 files][ 19.6 MiB/ 20.4 MiB]  95% Done                                  \r",
      "| [27/30 files][ 20.4 MiB/ 20.4 MiB]  99% Done                                  \r",
      "| [28/30 files][ 20.4 MiB/ 20.4 MiB]  99% Done                                  \r",
      "| [29/30 files][ 20.4 MiB/ 20.4 MiB]  99% Done                                  \r",
      "| [30/30 files][ 20.4 MiB/ 20.4 MiB] 100% Done                                  \r\n",
      "Operation completed over 30 objects/20.4 MiB.                                    \n"
     ]
    }
   ],
   "source": [
    "%%bash\n",
    "# Clear Cloud Storage bucket and copy the CSV files to Cloud Storage bucket\n",
    "echo $BUCKET\n",
    "gsutil -m rm -rf gs://${BUCKET}/${MODEL_NAME}/dataset/\n",
    "gsutil -m cp ${PWD}/*.csv gs://${BUCKET}/${MODEL_NAME}/dataset/"
   ]
  },
  {
   "cell_type": "code",
   "execution_count": 23,
   "metadata": {},
   "outputs": [
    {
     "name": "stdout",
     "output_type": "stream",
     "text": [
      "gs://qwiklabs-gcp-12b4b0f730830df4/stackoverflow/dataset/stackoverflow_trained us-central1 stackoverflow_190521_191227\n",
      "jobId: stackoverflow_190521_191227\n",
      "state: QUEUED\n"
     ]
    },
    {
     "name": "stderr",
     "output_type": "stream",
     "text": [
      "CommandException: 1 files/objects could not be removed.\n",
      "Job [stackoverflow_190521_191227] submitted successfully.\n",
      "Your job is still active. You may view the status of your job with the command\n",
      "\n",
      "  $ gcloud ml-engine jobs describe stackoverflow_190521_191227\n",
      "\n",
      "or continue streaming the logs with the command\n",
      "\n",
      "  $ gcloud ml-engine jobs stream-logs stackoverflow_190521_191227\n"
     ]
    }
   ],
   "source": [
    "%%bash\n",
    "OUTDIR=gs://${BUCKET}/${MODEL_NAME}/dataset/${TRAINING_DIR}\n",
    "JOBNAME=${MODEL_NAME}_$(date -u +%y%m%d_%H%M%S)\n",
    "echo $OUTDIR $REGION $JOBNAME\n",
    "# Clear the Cloud Storage Bucket used for the training job\n",
    "gsutil -m rm -rf $OUTDIR\n",
    "gcloud ml-engine jobs submit training $JOBNAME \\\n",
    "   --region=$REGION \\\n",
    "   --module-name=trainer.task \\\n",
    "   --package-path=${PWD}/${MODEL_NAME}/trainer \\\n",
    "   --job-dir=$OUTDIR \\\n",
    "   --staging-bucket=gs://$BUCKET \\\n",
    "   --scale-tier=BASIC \\\n",
    "   --runtime-version=$TFVERSION \\\n",
    "   -- \\\n",
    "   --train_data_paths=\"gs://${BUCKET}/${MODEL_NAME}/dataset\" \\\n",
    "   --eval_data_paths=\"gs://${BUCKET}/${MODEL_NAME}/dataset\"  \\\n",
    "   --output_dir=$OUTDIR \\\n",
    "   --train_steps=10000"
   ]
  },
  {
   "cell_type": "markdown",
   "metadata": {},
   "source": [
    "Don't be concerned if the notebook appears stalled (with a blue progress bar) or returns with an error about being unable to refresh auth tokens. This is a long-lived Cloud job and work is going on in the cloud. \n",
    "\n",
    "<b>Use the Cloud Console link to monitor the job and do NOT proceed until the job is done.</b>"
   ]
  },
  {
   "cell_type": "markdown",
   "metadata": {},
   "source": [
    "## Deploy model\n",
    "\n",
    "Find out the actual name of the subdirectory where the model is stored and use it to deploy the model.  Deploying model will take up to <b>5 minutes</b>."
   ]
  },
  {
   "cell_type": "code",
   "execution_count": 24,
   "metadata": {},
   "outputs": [
    {
     "name": "stdout",
     "output_type": "stream",
     "text": [
      "gs://qwiklabs-gcp-12b4b0f730830df4/stackoverflow/dataset/stackoverflow_trained/export/exporter/\n",
      "gs://qwiklabs-gcp-12b4b0f730830df4/stackoverflow/dataset/stackoverflow_trained/export/exporter/1558466066/\n",
      "gs://qwiklabs-gcp-12b4b0f730830df4/stackoverflow/dataset/stackoverflow_trained/export/exporter/1558466192/\n"
     ]
    }
   ],
   "source": [
    "%%bash\n",
    "gsutil ls gs://${BUCKET}/${MODEL_NAME}/dataset/${TRAINING_DIR}/export/exporter"
   ]
  },
  {
   "cell_type": "markdown",
   "metadata": {},
   "source": [
    "#### Deploy model : step 1 - remove version info \n",
    "Before an existing cloud model can be removed, it must have any version info removed.  If an existing model does not exist, this command will generate an error but that is ok."
   ]
  },
  {
   "cell_type": "code",
   "execution_count": 26,
   "metadata": {},
   "outputs": [
    {
     "name": "stdout",
     "output_type": "stream",
     "text": [
      "MODEL_LOCATION = gs://qwiklabs-gcp-12b4b0f730830df4/stackoverflow/dataset/stackoverflow_trained/export/exporter/1558466192/\n"
     ]
    },
    {
     "name": "stderr",
     "output_type": "stream",
     "text": [
      "This will delete version [v1]...\n",
      "\n",
      "Do you want to continue (Y/n)?  \n",
      "ERROR: (gcloud.ml-engine.versions.delete) NOT_FOUND: Field: name Error: The model resource: \"stackoverflow\" was not found. Please create the Cloud ML model resource first by using 'gcloud ml-engine models create stackoverflow'.\n",
      "- '@type': type.googleapis.com/google.rpc.BadRequest\n",
      "  fieldViolations:\n",
      "  - description: \"The model resource: \\\"stackoverflow\\\" was not found. Please create\\\n",
      "      \\ the Cloud ML model resource first by using 'gcloud ml-engine models create\\\n",
      "      \\ stackoverflow'.\"\n",
      "    field: name\n"
     ]
    }
   ],
   "source": [
    "%%bash\n",
    "MODEL_LOCATION=$(gsutil ls gs://${BUCKET}/${MODEL_NAME}/dataset/${TRAINING_DIR}/export/exporter | tail -1)\n",
    "\n",
    "echo \"MODEL_LOCATION = ${MODEL_LOCATION}\"\n",
    "\n",
    "gcloud ml-engine versions delete ${MODEL_VERSION} --model ${MODEL_NAME}"
   ]
  },
  {
   "cell_type": "markdown",
   "metadata": {},
   "source": [
    "#### Deploy model: step 2 - remove existing model\n",
    "Now that the version info is removed from an existing model, the actual model can be removed.  If an existing model is not deployed, this command will generate an error but that is ok.  It just means the model with the given name is not deployed."
   ]
  },
  {
   "cell_type": "code",
   "execution_count": 27,
   "metadata": {},
   "outputs": [
    {
     "name": "stderr",
     "output_type": "stream",
     "text": [
      "This will delete model [stackoverflow]...\n",
      "\n",
      "Do you want to continue (Y/n)?  \n",
      "ERROR: (gcloud.ml-engine.models.delete) NOT_FOUND: Field: name Error: The model resource: \"stackoverflow\" was not found. Please create the Cloud ML model resource first by using 'gcloud ml-engine models create stackoverflow'.\n",
      "- '@type': type.googleapis.com/google.rpc.BadRequest\n",
      "  fieldViolations:\n",
      "  - description: \"The model resource: \\\"stackoverflow\\\" was not found. Please create\\\n",
      "      \\ the Cloud ML model resource first by using 'gcloud ml-engine models create\\\n",
      "      \\ stackoverflow'.\"\n",
      "    field: name\n"
     ]
    }
   ],
   "source": [
    "%%bash\n",
    "gcloud ml-engine models delete ${MODEL_NAME}"
   ]
  },
  {
   "cell_type": "markdown",
   "metadata": {},
   "source": [
    "#### Deploy model: step 3 - deploy new model"
   ]
  },
  {
   "cell_type": "code",
   "execution_count": 28,
   "metadata": {},
   "outputs": [
    {
     "name": "stderr",
     "output_type": "stream",
     "text": [
      "Created ml engine model [projects/qwiklabs-gcp-12b4b0f730830df4/models/stackoverflow].\n"
     ]
    }
   ],
   "source": [
    "%%bash\n",
    "gcloud ml-engine models create ${MODEL_NAME} --regions $REGION"
   ]
  },
  {
   "cell_type": "markdown",
   "metadata": {},
   "source": [
    "#### Deploy model: step 4 - add version info to the new model"
   ]
  },
  {
   "cell_type": "code",
   "execution_count": 30,
   "metadata": {},
   "outputs": [
    {
     "name": "stdout",
     "output_type": "stream",
     "text": [
      "MODEL_LOCATION = gs://qwiklabs-gcp-12b4b0f730830df4/stackoverflow/dataset/stackoverflow_trained/export/exporter/1558466192/\n"
     ]
    },
    {
     "name": "stderr",
     "output_type": "stream",
     "text": [
      "Creating version (this might take a few minutes)......\n",
      "......................................................................................................................................................................................................................................................................................................................done.\n"
     ]
    }
   ],
   "source": [
    "%%bash\n",
    "MODEL_LOCATION=$(gsutil ls gs://${BUCKET}/${MODEL_NAME}/dataset/${TRAINING_DIR}/export/exporter | tail -1)\n",
    "\n",
    "echo \"MODEL_LOCATION = ${MODEL_LOCATION}\"\n",
    "\n",
    "gcloud ml-engine versions create ${MODEL_VERSION} --model ${MODEL_NAME} --origin ${MODEL_LOCATION} --runtime-version $TFVERSION"
   ]
  },
  {
   "cell_type": "markdown",
   "metadata": {},
   "source": [
    "## Prediction"
   ]
  },
  {
   "cell_type": "code",
   "execution_count": 31,
   "metadata": {},
   "outputs": [
    {
     "name": "stdout",
     "output_type": "stream",
     "text": [
      "CLASS_IDS  CLASSES  LOGISTIC              LOGITS               PROBABILITIES\n",
      "[1]        [u'1']   [0.8804934620857239]  [1.997111201286316]  [0.11950656771659851, 0.8804934620857239]\n"
     ]
    }
   ],
   "source": [
    "%%bash\n",
    "gcloud ml-engine predict --model=${MODEL_NAME} --version=${MODEL_VERSION} --json-instances=./test.json"
   ]
  },
  {
   "cell_type": "code",
   "execution_count": 35,
   "metadata": {},
   "outputs": [
    {
     "name": "stdout",
     "output_type": "stream",
     "text": [
      "response={'predictions': [{'classes': ['1'], 'probabilities': [0.15197011828422546, 0.8480298519134521], 'logits': [1.7192319631576538], 'logistic': [0.8480298519134521], 'class_ids': [1]}]}\n"
     ]
    }
   ],
   "source": [
    "from googleapiclient import discovery\n",
    "from oauth2client.client import GoogleCredentials\n",
    "import json\n",
    "\n",
    "credentials = GoogleCredentials.get_application_default()\n",
    "api = discovery.build('ml', 'v1', credentials=credentials,\n",
    "            discoveryServiceUrl='https://storage.googleapis.com/cloud-ml/discovery/ml_v1_discovery.json')\n",
    "\n",
    "request_data = {'instances':\n",
    "  [\n",
    "      {\"answer_count\": 0, \n",
    "       \"comment_count\": 2, \n",
    "       \"favorite_count\": 1, \n",
    "       \"score\": 2, \n",
    "       \"view_count\": 2, \n",
    "       \"days_posted\": 10\n",
    "      }\n",
    "  ]\n",
    "}\n",
    "\n",
    "\n",
    "parent = 'projects/%s/models/%s/versions/%s' % (PROJECT, MODEL_NAME, MODEL_VERSION)\n",
    "response = api.projects().predict(body=request_data, name=parent).execute()\n",
    "print(\"response={0}\".format(response))"
   ]
  },
  {
   "cell_type": "markdown",
   "metadata": {},
   "source": [
    "## Train on larger dataset\n",
    "\n",
    "I have already followed the steps below and the files are already available. <b> You don't need to do the steps in this comment. </b> In the next chapter (on feature engineering), we will avoid all this manual processing by using Cloud Dataflow.\n",
    "\n",
    "Go to http://bigquery.cloud.google.com/ and type the query:\n",
    "<pre>\n",
    "SELECT\n",
    "  (tolls_amount + fare_amount) AS fare_amount,\n",
    "  pickup_longitude AS pickuplon,\n",
    "  pickup_latitude AS pickuplat,\n",
    "  dropoff_longitude AS dropofflon,\n",
    "  dropoff_latitude AS dropofflat,\n",
    "  passenger_count*1.0 AS passengers,\n",
    "  'nokeyindata' AS key\n",
    "FROM\n",
    "  [nyc-tlc:yellow.trips]\n",
    "WHERE\n",
    "  trip_distance > 0\n",
    "  AND fare_amount >= 2.5\n",
    "  AND pickup_longitude > -78\n",
    "  AND pickup_longitude < -70\n",
    "  AND dropoff_longitude > -78\n",
    "  AND dropoff_longitude < -70\n",
    "  AND pickup_latitude > 37\n",
    "  AND pickup_latitude < 45\n",
    "  AND dropoff_latitude > 37\n",
    "  AND dropoff_latitude < 45\n",
    "  AND passenger_count > 0\n",
    "  AND ABS(HASH(pickup_datetime)) % 1000 == 1\n",
    "</pre>\n",
    "\n",
    "Note that this is now 1,000,000 rows (i.e. 100x the original dataset).  Export this to CSV using the following steps (Note that <b>I have already done this and made the resulting GCS data publicly available</b>, so you don't need to do it.):\n",
    "<ol>\n",
    "<li> Click on the \"Save As Table\" button and note down the name of the dataset and table.\n",
    "<li> On the BigQuery console, find the newly exported table in the left-hand-side menu, and click on the name.\n",
    "<li> Click on \"Export Table\"\n",
    "<li> Supply your bucket name and give it the name train.csv (for example: gs://cloud-training-demos-ml/taxifare/ch3/train.csv). Note down what this is.  Wait for the job to finish (look at the \"Job History\" on the left-hand-side menu)\n",
    "<li> In the query above, change the final \"== 1\" to \"== 2\" and export this to Cloud Storage as valid.csv (e.g.  gs://cloud-training-demos-ml/taxifare/ch3/valid.csv)\n",
    "<li> Download the two files, remove the header line and upload it back to GCS.\n",
    "</ol>\n",
    "\n",
    "<p/>\n",
    "<p/>\n",
    "\n",
    "## Run Cloud training on 1-million row dataset\n",
    "\n",
    "This took 60 minutes and uses as input 1-million rows.  The model is exactly the same as above. The only changes are to the input (to use the larger dataset) and to the Cloud MLE tier (to use STANDARD_1 instead of BASIC -- STANDARD_1 is approximately 10x more powerful than BASIC).  At the end of the training the loss was 32, but the RMSE (calculated on the validation dataset) was stubbornly at 9.03. So, simply adding more data doesn't help."
   ]
  },
  {
   "cell_type": "code",
   "execution_count": null,
   "metadata": {},
   "outputs": [],
   "source": [
    "%%bash\n",
    "\n",
    "XXXXX  this takes 60 minutes. if you are sure you want to run it, then remove this line.\n",
    "\n",
    "OUTDIR=gs://${BUCKET}/${MODEL_NAME}/${TRAINING_DIR}\n",
    "JOBNAME=${MODEL_NAME}_$(date -u +%y%m%d_%H%M%S)\n",
    "CRS_BUCKET=cloud-training-demos # use the already exported data\n",
    "echo $OUTDIR $REGION $JOBNAME\n",
    "gsutil -m rm -rf $OUTDIR\n",
    "gcloud ml-engine jobs submit training $JOBNAME \\\n",
    "   --region=$REGION \\\n",
    "   --module-name=trainer.task \\\n",
    "   --package-path=${PWD}/${MODEL_NAME}/trainer \\\n",
    "   --job-dir=$OUTDIR \\\n",
    "   --staging-bucket=gs://$BUCKET \\\n",
    "   --scale-tier=STANDARD_1 \\\n",
    "   --runtime-version=$TFVERSION \\\n",
    "   -- \\\n",
    "   --train_data_paths=\"gs://${CRS_BUCKET}/${MODEL_NAME}/ch3/train.csv\" \\\n",
    "   --eval_data_paths=\"gs://${CRS_BUCKET}/${MODEL_NAME}/ch3/valid.csv\"  \\\n",
    "   --output_dir=$OUTDIR \\\n",
    "   --train_steps=100000   "
   ]
  },
  {
   "cell_type": "markdown",
   "metadata": {},
   "source": [
    "## Challenge Exercise\n",
    "\n",
    "Modify your solution to the challenge exercise in d_trainandevaluate.ipynb appropriately. Make sure that you implement training and deployment. Increase the size of your dataset by 10x since you are running on the cloud. Does your accuracy improve?"
   ]
  },
  {
   "cell_type": "markdown",
   "metadata": {},
   "source": [
    "### Clean-up"
   ]
  },
  {
   "cell_type": "markdown",
   "metadata": {},
   "source": [
    "#### Delete Model : step 1 - remove version info \n",
    "Before an existing cloud model can be removed, it must have any version info removed.  "
   ]
  },
  {
   "cell_type": "code",
   "execution_count": null,
   "metadata": {},
   "outputs": [],
   "source": [
    "%%bash\n",
    "gcloud ml-engine versions delete ${MODEL_VERSION} --model ${MODEL_NAME}"
   ]
  },
  {
   "cell_type": "markdown",
   "metadata": {},
   "source": [
    "#### Delete model: step 2 - remove existing model\n",
    "Now that the version info is removed from an existing model, the actual model can be removed.  "
   ]
  },
  {
   "cell_type": "code",
   "execution_count": null,
   "metadata": {},
   "outputs": [],
   "source": [
    "%%bash\n",
    "gcloud ml-engine models delete ${MODEL_NAME}"
   ]
  },
  {
   "cell_type": "markdown",
   "metadata": {},
   "source": [
    "Copyright 2016 Google Inc. Licensed under the Apache License, Version 2.0 (the \"License\"); you may not use this file except in compliance with the License. You may obtain a copy of the License at http://www.apache.org/licenses/LICENSE-2.0 Unless required by applicable law or agreed to in writing, software distributed under the License is distributed on an \"AS IS\" BASIS, WITHOUT WARRANTIES OR CONDITIONS OF ANY KIND, either express or implied. See the License for the specific language governing permissions and limitations under the License"
   ]
  }
 ],
 "metadata": {
  "kernelspec": {
   "display_name": "Python 3",
   "language": "python",
   "name": "python3"
  },
  "language_info": {
   "codemirror_mode": {
    "name": "ipython",
    "version": 3
   },
   "file_extension": ".py",
   "mimetype": "text/x-python",
   "name": "python",
   "nbconvert_exporter": "python",
   "pygments_lexer": "ipython3",
   "version": "3.5.6"
  }
 },
 "nbformat": 4,
 "nbformat_minor": 1
}
