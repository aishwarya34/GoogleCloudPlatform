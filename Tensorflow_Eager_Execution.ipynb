{
 "cells": [
  {
   "cell_type": "markdown",
   "metadata": {},
   "source": [
    "- Understand difference between Tensorflow's two modes: Eager Execution and Graph Execution\n",
    "- Practice defining and performing basic operations on constant Tensors\n",
    "- Use Tensorflow's automatic differentiation capability"
   ]
  },
  {
   "cell_type": "code",
   "execution_count": 1,
   "metadata": {},
   "outputs": [
    {
     "name": "stderr",
     "output_type": "stream",
     "text": [
      "/usr/local/envs/py3env/lib/python3.5/site-packages/h5py/__init__.py:36: FutureWarning: Conversion of the second argument of issubdtype from `float` to `np.floating` is deprecated. In future, it will be treated as `np.float64 == np.dtype(float).type`.\n",
      "  from ._conv import register_converters as _register_converters\n"
     ]
    },
    {
     "name": "stdout",
     "output_type": "stream",
     "text": [
      "1.8.0\n"
     ]
    }
   ],
   "source": [
    "import tensorflow as tf\n",
    "print(tf.__version__)"
   ]
  },
  {
   "cell_type": "markdown",
   "metadata": {},
   "source": [
    "# Enable eager execution"
   ]
  },
  {
   "cell_type": "code",
   "execution_count": 2,
   "metadata": {},
   "outputs": [],
   "source": [
    "tf.enable_eager_execution()"
   ]
  },
  {
   "cell_type": "markdown",
   "metadata": {},
   "source": [
    "### Adding Two Tensors"
   ]
  },
  {
   "cell_type": "code",
   "execution_count": 3,
   "metadata": {},
   "outputs": [
    {
     "name": "stdout",
     "output_type": "stream",
     "text": [
      "tf.Tensor([ 9 14  5], shape=(3,), dtype=int32)\n"
     ]
    }
   ],
   "source": [
    "a = tf.constant(value=[7, 5, 4], dtype=tf.int32)\n",
    "b = tf.constant(value=[2, 9, 1], dtype=tf.int32)\n",
    "c = tf.add(a, b)\n",
    "print(c)"
   ]
  },
  {
   "cell_type": "markdown",
   "metadata": {},
   "source": [
    "### Overloaded Operators\n",
    "We can also perform a tf.add() using the + operator. The /,-,* and ** operators are similarly overloaded with the appropriate tensorflow operation."
   ]
  },
  {
   "cell_type": "code",
   "execution_count": 4,
   "metadata": {},
   "outputs": [
    {
     "name": "stdout",
     "output_type": "stream",
     "text": [
      "tf.Tensor([ 9 14  5], shape=(3,), dtype=int32)\n"
     ]
    }
   ],
   "source": [
    "d = a + b\n",
    "print(d)"
   ]
  },
  {
   "cell_type": "markdown",
   "metadata": {},
   "source": [
    "## NumPy Interoperability\n",
    "In addition to native TF tensors, tensorflow operations can take native python types and NumPy arrays as operands."
   ]
  },
  {
   "cell_type": "code",
   "execution_count": 5,
   "metadata": {},
   "outputs": [
    {
     "name": "stdout",
     "output_type": "stream",
     "text": [
      "Type: <class 'EagerTensor'>,  Value: [ 6 10 17]\n",
      "Type: <class 'EagerTensor'>,  Value: [ 6 10 17]\n",
      "Type: <class 'EagerTensor'>,  Value: [ 6 10 17]\n"
     ]
    }
   ],
   "source": [
    "import numpy as np\n",
    "\n",
    "a_py = [4, 6, 8]  # native python list\n",
    "b_py = [2, 4, 9]  # native python list\n",
    "\n",
    "a_np = np.array( object = [4, 6, 8])  # numpy array\n",
    "b_np = np.array( object = [2, 4, 9])  # numpy array\n",
    "\n",
    "a_tf = tf.constant(value = [4, 6, 8], dtype = tf.int32)  # native TF tensor\n",
    "b_tf = tf.constant(value = [2, 4, 9], dtype = tf.int32)  # native TF tensor\n",
    "\n",
    "for result in [tf.add(a_py, b_py), tf.add(a_np, b_np), tf.add(a_tf, b_tf)]:\n",
    "    print(\"Type: {},  Value: {}\".format(type(result), result))"
   ]
  },
  {
   "cell_type": "markdown",
   "metadata": {},
   "source": [
    "You can convert a native TF tensor to a NumPy array using .numpy()"
   ]
  },
  {
   "cell_type": "code",
   "execution_count": 6,
   "metadata": {},
   "outputs": [
    {
     "data": {
      "text/plain": [
       "array([4, 6, 8], dtype=int32)"
      ]
     },
     "execution_count": 6,
     "metadata": {},
     "output_type": "execute_result"
    }
   ],
   "source": [
    "a_tf.numpy()"
   ]
  },
  {
   "cell_type": "code",
   "execution_count": 7,
   "metadata": {},
   "outputs": [
    {
     "data": {
      "text/plain": [
       "numpy.ndarray"
      ]
     },
     "execution_count": 7,
     "metadata": {},
     "output_type": "execute_result"
    }
   ],
   "source": [
    "type(a_tf.numpy())"
   ]
  },
  {
   "cell_type": "markdown",
   "metadata": {},
   "source": [
    "# Linear Regression\n",
    "Low level tensorflow operations to implement linear regression.\n",
    "Toy Dataset:\n",
    "    \n",
    "    \n",
    "We'll model the following function:\n",
    "\n",
    "$$\n",
    "y = 2x + 10\n",
    "$$\n",
    "\n",
    "Create the dataset for the problem based on the curve chosen"
   ]
  },
  {
   "cell_type": "code",
   "execution_count": 8,
   "metadata": {},
   "outputs": [
    {
     "name": "stdout",
     "output_type": "stream",
     "text": [
      "X: [0. 1. 2. 3. 4. 5. 6. 7. 8. 9.]\n",
      "Y: [10. 12. 14. 16. 18. 20. 22. 24. 26. 28.]\n"
     ]
    }
   ],
   "source": [
    "X = tf.constant(value = [0, 1, 2, 3, 4, 5, 6, 7, 8, 9], dtype = tf.float32)\n",
    "Y = 2 * X + 10\n",
    "print(\"X: {}\".format(X))\n",
    "print(\"Y: {}\".format(Y))"
   ]
  },
  {
   "cell_type": "markdown",
   "metadata": {},
   "source": [
    "### Loss function linear regression\n",
    "The function loss_mse below takes four arguments: the tensors $X$, $Y$ and the weights $w_0$ and $w_1$. Complete the function below to compute the Mean Square Error (MSE). "
   ]
  },
  {
   "cell_type": "code",
   "execution_count": 9,
   "metadata": {},
   "outputs": [],
   "source": [
    "def loss_mse(X, Y, w0, w1):\n",
    "    Y_hat = w0 * X + w1   # Y_hat = tf.matmul(w0, X) + w1\n",
    "    return  tf.reduce_mean((Y_hat - Y)**2)"
   ]
  },
  {
   "cell_type": "markdown",
   "metadata": {},
   "source": [
    "### Gradient Function\n",
    "To use gradient descent we need to take the partial derivative of the loss function with respect to each of the weights. We could manually compute the derivatives, but with Tensorflow's automatic differentiation capabilities we don't have to!"
   ]
  },
  {
   "cell_type": "code",
   "execution_count": 10,
   "metadata": {},
   "outputs": [],
   "source": [
    "# Counting from 0, the 2nd and 3rd parameter to the loss function are our weights\n",
    "grad_f = tf.contrib.eager.gradients_function(f = loss_mse, params = [2, 3])"
   ]
  },
  {
   "cell_type": "code",
   "execution_count": 11,
   "metadata": {},
   "outputs": [
    {
     "name": "stdout",
     "output_type": "stream",
     "text": [
      "<function gradients_function.<locals>.decorated at 0x7f53eb90d730>\n"
     ]
    }
   ],
   "source": [
    "print(grad_f)"
   ]
  },
  {
   "cell_type": "code",
   "execution_count": 12,
   "metadata": {},
   "outputs": [
    {
     "name": "stdout",
     "output_type": "stream",
     "text": [
      "STEP: 0  MSE: 35.70719528198242\n",
      "STEP: 100  MSE: 2.6017532348632812\n",
      "STEP: 200  MSE: 0.26831889152526855\n",
      "STEP: 300  MSE: 0.027671903371810913\n",
      "STEP: 400  MSE: 0.0028539239428937435\n",
      "STEP: 500  MSE: 0.0002943490108009428\n",
      "STEP: 600  MSE: 3.0356444767676294e-05\n",
      "STEP: 700  MSE: 3.1322738323069643e-06\n",
      "STEP: 800  MSE: 3.2238213520940917e-07\n",
      "STEP: 900  MSE: 3.369950718479231e-08\n",
      "STEP: 1000  MSE: 3.654804459074512e-09\n",
      "w0: 2.0000178813934326\n",
      "w1: 9.999887466430664\n"
     ]
    }
   ],
   "source": [
    "STEPS = 1000\n",
    "LEARNING_RATE = .02\n",
    "\n",
    "# Initialize weights\n",
    "w0 = tf.constant(value = 0.0, dtype = tf.float32)\n",
    "w1 = tf.constant(value = 0.0, dtype = tf.float32)\n",
    "\n",
    "for step in range(STEPS):\n",
    "    #1. Calculate gradients\n",
    "    d_w0, d_w1 = grad_f(X, Y, w0, w1) # derivatives calculated by tensorflow!\n",
    "    \n",
    "    #2. Update weights\n",
    "    w0 = w0 - LEARNING_RATE * d_w0\n",
    "    w1 = w1 - LEARNING_RATE * d_w1\n",
    "    \n",
    "    #3. Periodically print MSE\n",
    "    if step % 100 == 0:\n",
    "        print(\"STEP: {}  MSE: {}\".format(step, loss_mse(X, Y, w0, w1)))\n",
    "\n",
    "\n",
    "# Print final MSE and weights\n",
    "print(\"STEP: {}  MSE: {}\".format(STEPS, loss_mse(X, Y, w0, w1)))\n",
    "print(\"w0: {}\".format(w0))\n",
    "print(\"w1: {}\".format(w1))"
   ]
  },
  {
   "cell_type": "markdown",
   "metadata": {},
   "source": [
    "## Polynomial Regression\n",
    "\n",
    "Try modelling a non-linear function such as: $y=xe^{-x^2}$\n",
    "\n",
    "Creating more training data will help. Also, you will need to build non-linear features."
   ]
  },
  {
   "cell_type": "code",
   "execution_count": 37,
   "metadata": {},
   "outputs": [
    {
     "data": {
      "text/plain": [
       "[<matplotlib.lines.Line2D at 0x7f53b421e710>]"
      ]
     },
     "execution_count": 37,
     "metadata": {},
     "output_type": "execute_result"
    },
    {
     "name": "stderr",
     "output_type": "stream",
     "text": [
      "/usr/local/envs/py3env/lib/python3.5/site-packages/matplotlib/font_manager.py:1320: UserWarning: findfont: Font family ['sans-serif'] not found. Falling back to DejaVu Sans\n",
      "  (prop.get_family(), self.defaultFamily[fontext]))\n"
     ]
    },
    {
     "data": {
      "image/png": "[encoded data removed]",
      "text/plain": [
       "<matplotlib.figure.Figure at 0x7f53c4151a58>"
      ]
     },
     "metadata": {},
     "output_type": "display_data"
    }
   ],
   "source": [
    "from matplotlib import pyplot as plt\n",
    "%matplotlib inline\n",
    "\n",
    "X = tf.constant(value = np.linspace(0, 2, 1000), dtype = tf.float32)\n",
    "Y = X * np.exp(-X**2)\n",
    "plt.plot(X, Y)"
   ]
  },
  {
   "cell_type": "code",
   "execution_count": 38,
   "metadata": {},
   "outputs": [],
   "source": [
    "def make_features(X):\n",
    "    features = [X]\n",
    "    features.append(tf.ones_like(X))  # Bias\n",
    "    features.append(X**2)\n",
    "    features.append(X**3)\n",
    "    features.append(tf.sqrt(X))\n",
    "    features.append(tf.exp(X))\n",
    "    return tf.stack(features, axis=-1)\n",
    "\n",
    "def make_weights(n_weights):     # zero initialization of weights\n",
    "    W = [tf.constant(value = 0.0, dtype = tf.float32) for _ in range(n_weights)]\n",
    "    #return W\n",
    "    #return tf.stack(W)\n",
    "    return tf.expand_dims(tf.stack(W), -1)\n",
    "\n",
    "def predict(X, W):\n",
    "    Y_hat = tf.matmul(X, W)\n",
    "    return  tf.squeeze(Y_hat, axis=-1)\n",
    "\n",
    "def loss_mse(X, Y, W):\n",
    "    Y_hat = predict(X, W)\n",
    "    return  tf.reduce_mean((Y_hat - Y)**2)\n",
    "\n",
    "\n",
    "# Counting from 0, the 2nd parameter to the loss function is our weight\n",
    "grad_f = tf.contrib.eager.gradients_function(f = loss_mse, params = [2])"
   ]
  },
  {
   "cell_type": "code",
   "execution_count": 39,
   "metadata": {},
   "outputs": [
    {
     "name": "stdout",
     "output_type": "stream",
     "text": [
      "STEP: 2000  MSE: 0.0030980368610471487\n"
     ]
    },
    {
     "data": {
      "text/plain": [
       "<matplotlib.legend.Legend at 0x7f53b43125f8>"
      ]
     },
     "execution_count": 39,
     "metadata": {},
     "output_type": "execute_result"
    },
    {
     "name": "stderr",
     "output_type": "stream",
     "text": [
      "/usr/local/envs/py3env/lib/python3.5/site-packages/matplotlib/font_manager.py:1320: UserWarning: findfont: Font family ['sans-serif'] not found. Falling back to DejaVu Sans\n",
      "  (prop.get_family(), self.defaultFamily[fontext]))\n"
     ]
    },
    {
     "data": {
      "image/png": "[encoded data removed]",
      "text/plain": [
       "<matplotlib.figure.Figure at 0x7f53b456d1d0>"
      ]
     },
     "metadata": {},
     "output_type": "display_data"
    },
    {
     "data": {
      "image/png": "[encoded data removed]",
      "text/plain": [
       "<matplotlib.figure.Figure at 0x7f53b41fa9e8>"
      ]
     },
     "metadata": {},
     "output_type": "display_data"
    }
   ],
   "source": [
    "STEPS = 2000\n",
    "LEARNING_RATE = .02\n",
    "\n",
    "# Features and Weights\n",
    "#print(\"Xlen before: {}\\n\".format(X.shape))\n",
    "Xf = make_features(X)  # input\n",
    "#print(\"Xf len: {}  Xf: {}\\n\".format(Xf.shape, Xf))\n",
    "W = make_weights(Xf.shape[1])\n",
    "#print(\"W len: {}  W: {}\\n\".format(len(W), W))   #directly passing list appended with tensorflow constants value\n",
    "#print(\"W len: {}  W: {}\\n\".format(W.shape, W))\n",
    "\n",
    "\n",
    "# for plotting\n",
    "steps = []\n",
    "losses = []\n",
    "\n",
    "\n",
    "plt.figure()\n",
    "\n",
    "for step in range(STEPS):\n",
    "    #1. Calculate gradients\n",
    "    d_w = grad_f(Xf, Y, W)[0] # derivatives calculated by tensorflow!\n",
    "    #print(d_w)\n",
    "    \n",
    "    #2. Update weights\n",
    "    W -=  LEARNING_RATE * d_w\n",
    "    \n",
    "    #3. Periodically print MSE\n",
    "    if step % 100 == 0:\n",
    "        loss = loss_mse(Xf, Y, W)\n",
    "        steps.append(step)\n",
    "        losses.append(loss)\n",
    "        plt.clf()\n",
    "        plt.plot(steps, losses)\n",
    "\n",
    "\n",
    "# Print final MSE and weights\n",
    "print(\"STEP: {}  MSE: {}\".format(STEPS, loss_mse(Xf, Y, W)))\n",
    "\n",
    "# Plot results\n",
    "plt.figure()\n",
    "plt.plot(X, Y, label='actual')\n",
    "plt.plot(X, predict(Xf, W), label='predicted')\n",
    "plt.legend()\n"
   ]
  },
  {
   "cell_type": "code",
   "execution_count": null,
   "metadata": {},
   "outputs": [],
   "source": []
  }
 ],
 "metadata": {
  "kernelspec": {
   "display_name": "Python 3",
   "language": "python",
   "name": "python3"
  }
 },
 "nbformat": 4,
 "nbformat_minor": 2
}
